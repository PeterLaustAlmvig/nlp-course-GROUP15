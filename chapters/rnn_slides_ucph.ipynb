{
 "cells": [
  {
   "cell_type": "code",
   "execution_count": 2,
   "metadata": {
    "slideshow": {
     "slide_type": "skip"
    }
   },
   "outputs": [
    {
     "data": {
      "text/html": [
       "<script>\n",
       "  function code_toggle() {\n",
       "    if (code_shown){\n",
       "      $('div.input').hide('500');\n",
       "      $('#toggleButton').val('Show Code')\n",
       "    } else {\n",
       "      $('div.input').show('500');\n",
       "      $('#toggleButton').val('Hide Code')\n",
       "    }\n",
       "    code_shown = !code_shown\n",
       "  }\n",
       "\n",
       "  $( document ).ready(function(){\n",
       "    code_shown=false;\n",
       "    $('div.input').hide()\n",
       "  });\n",
       "</script>\n",
       "<form action=\"javascript:code_toggle()\"><input type=\"submit\" id=\"toggleButton\" value=\"Show Code\"></form>\n"
      ],
      "text/plain": [
       "<IPython.core.display.HTML object>"
      ]
     },
     "metadata": {},
     "output_type": "display_data"
    }
   ],
   "source": [
    "%%html\n",
    "<script>\n",
    "  function code_toggle() {\n",
    "    if (code_shown){\n",
    "      $('div.input').hide('500');\n",
    "      $('#toggleButton').val('Show Code')\n",
    "    } else {\n",
    "      $('div.input').show('500');\n",
    "      $('#toggleButton').val('Hide Code')\n",
    "    }\n",
    "    code_shown = !code_shown\n",
    "  }\n",
    "\n",
    "  $( document ).ready(function(){\n",
    "    code_shown=false;\n",
    "    $('div.input').hide()\n",
    "  });\n",
    "</script>\n",
    "<form action=\"javascript:code_toggle()\"><input type=\"submit\" id=\"toggleButton\" value=\"Show Code\"></form>"
   ]
  },
  {
   "cell_type": "code",
   "execution_count": 3,
   "metadata": {
    "slideshow": {
     "slide_type": "skip"
    }
   },
   "outputs": [],
   "source": [
    "import random\n",
    "from IPython.display import Image"
   ]
  },
  {
   "cell_type": "markdown",
   "metadata": {
    "slideshow": {
     "slide_type": "skip"
    }
   },
   "source": [
    "# Configuration"
   ]
  },
  {
   "cell_type": "code",
   "execution_count": 4,
   "metadata": {
    "hide_input": false,
    "slideshow": {
     "slide_type": "skip"
    }
   },
   "outputs": [
    {
     "data": {
      "application/javascript": [
       "require(['base/js/utils'],\n",
       "function(utils) {\n",
       "   utils.load_extensions('calico-spell-check', 'calico-document-tools', 'calico-cell-tools');\n",
       "});\n"
      ],
      "text/plain": [
       "<IPython.core.display.Javascript object>"
      ]
     },
     "metadata": {},
     "output_type": "display_data"
    }
   ],
   "source": [
    "%%javascript\n",
    "require(['base/js/utils'],\n",
    "function(utils) {\n",
    "   utils.load_extensions('calico-spell-check', 'calico-document-tools', 'calico-cell-tools');\n",
    "});"
   ]
  },
  {
   "cell_type": "code",
   "execution_count": 5,
   "metadata": {
    "hide_input": false,
    "slideshow": {
     "slide_type": "skip"
    }
   },
   "outputs": [
    {
     "data": {
      "text/plain": [
       "{'theme': 'white',\n",
       " 'transition': 'none',\n",
       " 'controls': 'true',\n",
       " 'progress': 'true'}"
      ]
     },
     "execution_count": 5,
     "metadata": {},
     "output_type": "execute_result"
    }
   ],
   "source": [
    "# Reveal.js\n",
    "from notebook.services.config import ConfigManager\n",
    "cm = ConfigManager()\n",
    "cm.update('livereveal', {\n",
    "        'theme': 'white',\n",
    "        'transition': 'none',\n",
    "        'controls': 'true',\n",
    "        'progress': 'true',\n",
    "})"
   ]
  },
  {
   "cell_type": "code",
   "execution_count": 6,
   "metadata": {
    "hide_input": true,
    "slideshow": {
     "slide_type": "skip"
    }
   },
   "outputs": [],
   "source": [
    "%load_ext tikzmagic"
   ]
  },
  {
   "cell_type": "code",
   "execution_count": 7,
   "metadata": {
    "hide_input": true,
    "slideshow": {
     "slide_type": "skip"
    }
   },
   "outputs": [
    {
     "data": {
      "text/html": [
       "<style>\n",
       ".red { color: #E41A1C; }\n",
       ".orange { color: #FF7F00 }\n",
       ".yellow { color: #FFC020 }         \n",
       ".green { color: #4DAF4A }                  \n",
       ".blue { color: #377EB8; }\n",
       ".purple { color: #984EA3 }       \n",
       "       \n",
       "h1 {\n",
       "    color: #377EB8;\n",
       "}\n",
       "       \n",
       "ctb_global_show div.ctb_hideshow.ctb_show {\n",
       "    display: inline;\n",
       "} \n",
       "         \n",
       "div.tabContent {\n",
       "    padding: 0px;\n",
       "    background: #ffffff;     \n",
       "    border: 0px;                        \n",
       "}  \n",
       "         \n",
       ".left {\n",
       "    float: left;\n",
       "    width: 50%;\n",
       "    vertical-align: text-top;\n",
       "}\n",
       "\n",
       ".right {\n",
       "    margin-left: 50%;\n",
       "    vertical-align: text-top;                            \n",
       "}    \n",
       "               \n",
       ".small {         \n",
       "    zoom: 0.9;\n",
       "    -ms-zoom: 0.9;\n",
       "    -webkit-zoom: 0.9;\n",
       "    -moz-transform:  scale(0.9,0.9);\n",
       "    -moz-transform-origin: left center;  \n",
       "}          \n",
       "         \n",
       ".verysmall {         \n",
       "    zoom: 0.75;\n",
       "    -ms-zoom: 0.75;\n",
       "    -webkit-zoom: 0.75;\n",
       "    -moz-transform:  scale(0.75,0.75);\n",
       "    -moz-transform-origin: left center;  \n",
       "}         \n",
       "   \n",
       "        \n",
       ".tiny {         \n",
       "    zoom: 0.6;\n",
       "    -ms-zoom: 0.6;\n",
       "    -webkit-zoom: 0.6;\n",
       "    -moz-transform:  scale(0.6,0.6);\n",
       "    -moz-transform-origin: left center;  \n",
       "}         \n",
       "         \n",
       "         \n",
       ".rendered_html blockquote {\n",
       "    border-left-width: 0px;\n",
       "    padding: 15px;\n",
       "    margin: 0px;    \n",
       "    width: 100%;                            \n",
       "}         \n",
       "         \n",
       ".rendered_html th {\n",
       "    padding: 0.5em;  \n",
       "    border: 0px;                            \n",
       "}         \n",
       "         \n",
       ".rendered_html td {\n",
       "    padding: 0.25em;\n",
       "    border: 0px;                                                        \n",
       "}            \n",
       "         \n",
       ".rise-enabled .reveal .progress span {\n",
       "    background: #377EB8;\n",
       "}     \n",
       "         \n",
       ".present .top {\n",
       "    position: fixed !important;\n",
       "    top: 0 !important;                                   \n",
       "}                  \n",
       "    \n",
       ".present .rendered_html * + p, .present .rendered_html p, .present .rendered_html * + br, .present .rendered_html br {\n",
       "    margin: 0.5em 0;                            \n",
       "}  \n",
       "         \n",
       ".present tr, .present td {\n",
       "    border: 0px;\n",
       "    padding: 0.35em;                            \n",
       "}      \n",
       "         \n",
       ".present th {\n",
       "    border: 1px;\n",
       "}\n",
       "         \n",
       "present .prompt {\n",
       "    min-width: 0px !important;\n",
       "    transition-duration: 0s !important;\n",
       "}     \n",
       "         \n",
       ".prompt {\n",
       "    min-width: 0px !important;\n",
       "    transition-duration: 0s !important;                            \n",
       "}         \n",
       "         \n",
       ".rise-enabled .cell li {\n",
       "    line-height: 135%;\n",
       "}\n",
       "         \n",
       "</style>\n"
      ],
      "text/plain": [
       "<IPython.core.display.HTML object>"
      ]
     },
     "metadata": {},
     "output_type": "display_data"
    }
   ],
   "source": [
    "%%html\n",
    "<style>\n",
    ".red { color: #E41A1C; }\n",
    ".orange { color: #FF7F00 }\n",
    ".yellow { color: #FFC020 }         \n",
    ".green { color: #4DAF4A }                  \n",
    ".blue { color: #377EB8; }\n",
    ".purple { color: #984EA3 }       \n",
    "       \n",
    "h1 {\n",
    "    color: #377EB8;\n",
    "}\n",
    "       \n",
    "ctb_global_show div.ctb_hideshow.ctb_show {\n",
    "    display: inline;\n",
    "} \n",
    "         \n",
    "div.tabContent {\n",
    "    padding: 0px;\n",
    "    background: #ffffff;     \n",
    "    border: 0px;                        \n",
    "}  \n",
    "         \n",
    ".left {\n",
    "    float: left;\n",
    "    width: 50%;\n",
    "    vertical-align: text-top;\n",
    "}\n",
    "\n",
    ".right {\n",
    "    margin-left: 50%;\n",
    "    vertical-align: text-top;                            \n",
    "}    \n",
    "               \n",
    ".small {         \n",
    "    zoom: 0.9;\n",
    "    -ms-zoom: 0.9;\n",
    "    -webkit-zoom: 0.9;\n",
    "    -moz-transform:  scale(0.9,0.9);\n",
    "    -moz-transform-origin: left center;  \n",
    "}          \n",
    "         \n",
    ".verysmall {         \n",
    "    zoom: 0.75;\n",
    "    -ms-zoom: 0.75;\n",
    "    -webkit-zoom: 0.75;\n",
    "    -moz-transform:  scale(0.75,0.75);\n",
    "    -moz-transform-origin: left center;  \n",
    "}         \n",
    "   \n",
    "        \n",
    ".tiny {         \n",
    "    zoom: 0.6;\n",
    "    -ms-zoom: 0.6;\n",
    "    -webkit-zoom: 0.6;\n",
    "    -moz-transform:  scale(0.6,0.6);\n",
    "    -moz-transform-origin: left center;  \n",
    "}         \n",
    "         \n",
    "         \n",
    ".rendered_html blockquote {\n",
    "    border-left-width: 0px;\n",
    "    padding: 15px;\n",
    "    margin: 0px;    \n",
    "    width: 100%;                            \n",
    "}         \n",
    "         \n",
    ".rendered_html th {\n",
    "    padding: 0.5em;  \n",
    "    border: 0px;                            \n",
    "}         \n",
    "         \n",
    ".rendered_html td {\n",
    "    padding: 0.25em;\n",
    "    border: 0px;                                                        \n",
    "}            \n",
    "         \n",
    ".rise-enabled .reveal .progress span {\n",
    "    background: #377EB8;\n",
    "}     \n",
    "         \n",
    ".present .top {\n",
    "    position: fixed !important;\n",
    "    top: 0 !important;                                   \n",
    "}                  \n",
    "    \n",
    ".present .rendered_html * + p, .present .rendered_html p, .present .rendered_html * + br, .present .rendered_html br {\n",
    "    margin: 0.5em 0;                            \n",
    "}  \n",
    "         \n",
    ".present tr, .present td {\n",
    "    border: 0px;\n",
    "    padding: 0.35em;                            \n",
    "}      \n",
    "         \n",
    ".present th {\n",
    "    border: 1px;\n",
    "}\n",
    "         \n",
    "present .prompt {\n",
    "    min-width: 0px !important;\n",
    "    transition-duration: 0s !important;\n",
    "}     \n",
    "         \n",
    ".prompt {\n",
    "    min-width: 0px !important;\n",
    "    transition-duration: 0s !important;                            \n",
    "}         \n",
    "         \n",
    ".rise-enabled .cell li {\n",
    "    line-height: 135%;\n",
    "}\n",
    "         \n",
    "</style>"
   ]
  },
  {
   "cell_type": "markdown",
   "metadata": {
    "slideshow": {
     "slide_type": "slide"
    }
   },
   "source": [
    "# Recurrent Neural Networks\n"
   ]
  },
  {
   "cell_type": "markdown",
   "metadata": {
    "slideshow": {
     "slide_type": "fragment"
    }
   },
   "source": [
    "* Recurrent Neural Network (RNN) Language Models\n",
    "* Training Problems and Solutions\n",
    "  - Vanishing and Exploding Gradients\n",
    "  - Long Short-Term Memory (LSTM) Networks\n",
    "* RNN applications / Flavours of RNNs\n",
    "* Variations (characters, bi-directional RNNs)\n"
   ]
  },
  {
   "cell_type": "markdown",
   "metadata": {
    "slideshow": {
     "slide_type": "skip"
    }
   },
   "source": [
    "# Reminder: Language Models (LM)\n",
    "\n",
    "A LM computes a **probability** for a **sequence of words**\n",
    "\n",
    "$$p(\\langle w_{1}, \\ldots, w_{d} \\rangle)$$\n",
    "\n",
    "Useful in a myriad of NLP tasks involving text generation, e.g.\n",
    "- Machine Translation,\n",
    "- Speech Recognition, \n",
    "- Summarisation.. \n",
    "\n",
    "$$\n",
    "\\begin{aligned}\n",
    "p(\\langle \\text{Statistical}, \\text{Natural}, \\text{Language}, \\text{Processing} \\rangle) > \\\\\n",
    "p(\\langle \\text{Statistical}, \\text{Language}, \\text{Natural}, \\text{Processing} \\rangle)\n",
    "\\end{aligned}\n",
    "$$"
   ]
  },
  {
   "cell_type": "markdown",
   "metadata": {
    "hide_input": false,
    "slideshow": {
     "slide_type": "subslide"
    }
   },
   "source": [
    "# Reminder: $n$-Gram Language Models\n",
    "\n",
    "In *$n$-gram language models*, the probability $p(w_{1}, \\ldots, w_{d}) = \\prod_{i=1}^{d} p(w_{i} \\mid w_{1}, \\ldots, w_{i - 1})$ is **approximated** as:\n",
    "\n",
    "$$\n",
    "\\begin{aligned}\n",
    "p(w_{1}, \\ldots, w_{d}) & \\approx \\prod_{i=1}^{d} p(w_{i} \\mid w_{i - (n - 1)}, \\ldots, w_{i - 1}) \\\\\n",
    "& \\approx \\prod_{i=1}^{d} \\frac{\\text{count}(w_{i - (n - 1)}, \\ldots, w_{i})}{\\text{count}(w_{i - (n - 1)}, \\ldots, w_{i - 1})}\n",
    "\\end{aligned}\n",
    "$$\n",
    "\n",
    "Example with a **bigram** ($n = 2$) **language model**:\n",
    "\n",
    "$$\n",
    "\\begin{aligned}\n",
    " p(\\langle \\text{Natural}, & \\text{Language}, \\text{Processing} \\rangle) \\approx \\\\\n",
    " & p(\\text{Natural}){}\\cdot{}p(\\text{Language} \\mid \\text{Natural}) \\cdot p(\\text{Processing} \\mid \\text{Language})\n",
    "\\end{aligned}\n",
    "$$"
   ]
  },
  {
   "cell_type": "markdown",
   "metadata": {
    "slideshow": {
     "slide_type": "subslide"
    }
   },
   "source": [
    "### Disadvantages of $n$-Gram Language Models\n",
    "\n",
    "* Limited and small context window\n",
    "* No generalization to similar words and contexts (essentially one-hot featurisation)\n",
    "\n",
    "How can we address these shortcomings?"
   ]
  },
  {
   "cell_type": "markdown",
   "metadata": {
    "slideshow": {
     "slide_type": "subslide"
    }
   },
   "source": [
    "# Reminder: Feed-forward Neural Networks\n",
    "<center><img src=\"../img/mlp.svg\"></center>"
   ]
  },
  {
   "cell_type": "markdown",
   "metadata": {
    "slideshow": {
     "slide_type": "fragment"
    }
   },
   "source": [
    "But how do we use a neural network to encode a **sequence**?"
   ]
  },
  {
   "cell_type": "markdown",
   "metadata": {
    "slideshow": {
     "slide_type": "subslide"
    }
   },
   "source": [
    "# Recurrent Neural Networks\n",
    "\n",
    "* RNNs share the weights at each time step\n",
    "* The output $y_{t}$ at time $t$ depends on all previous words\n",
    "  - $w_{t}, w_{t - 1}, \\ldots, w_{1}$\n",
    "* Size scales with **number of words**, not **sequence length**!"
   ]
  },
  {
   "cell_type": "markdown",
   "metadata": {
    "hideCode": false,
    "hide_input": false,
    "slideshow": {
     "slide_type": "fragment"
    }
   },
   "source": [
    "<center><img src=\"../img/rnn_unrolled.png\" width=60%></center>"
   ]
  },
  {
   "cell_type": "markdown",
   "metadata": {
    "slideshow": {
     "slide_type": "fragment"
    }
   },
   "source": [
    "<div class=right><div class=top><div class=small>\n",
    "<div style=\"margin-bottom: 00%;\"></div>\n",
    "\\begin{align}\n",
    "\\mathbf{h}_t &= f_{\\theta}(\\mathbf{x}_{t}, \\mathbf{h}_{t - 1}) \\\\\n",
    "    f_{\\theta} \\; & \\text{is a } \\textbf{transition function} \\text { with parameters } \\theta\\\\\n",
    "    \\theta \\; & \\text{can be } \\textbf{learned from data}\\\\\n",
    "\\end{align}\n",
    "</div></div></div>"
   ]
  },
  {
   "cell_type": "markdown",
   "metadata": {
    "slideshow": {
     "slide_type": "skip"
    }
   },
   "source": [
    "<div class=right><div class=top><div class=small>\n",
    "<div style=\"margin-bottom: 00%;\"></div>\n",
    "\\begin{align}\n",
    "    \\text{\"Vanilla\" Recurrent Neural Network } \\mathbf{h}_t &= \\text{sigmoid}(\\mathbf{W}^h \\mathbf{h}_{t-1}+ \\mathbf{W}^x \\mathbf{x}_t)\n",
    "\\end{align}\n",
    "</div></div></div>"
   ]
  },
  {
   "cell_type": "markdown",
   "metadata": {
    "slideshow": {
     "slide_type": "slide"
    }
   },
   "source": [
    "# Recurrent Neural Networks Language Model\n",
    "\n",
    "<center><img src=\"../img/rnnlm.png\"></center>"
   ]
  },
  {
   "cell_type": "markdown",
   "metadata": {
    "hide_input": true,
    "slideshow": {
     "slide_type": "slide"
    }
   },
   "source": [
    "# A Recurrent Neural Network LM\n",
    "\n",
    "Consider the following sentence:\n",
    "\n",
    "$$\\langle w_{1}, \\ldots, w_{t - 1}, w_{t}, w_{t + 1}, \\ldots, w_{d})$$\n",
    "\n",
    "First apply word embedding (e.g., [word2vec](dl-representations_simple.ipynb)):\n",
    "$$\n",
    "\\begin{aligned}\n",
    " \\mathbf{x}_{1} & = \\text{encode}(w_{t}) \\in \\mathbb{R}^{d_{e}}\\\\\n",
    "\\end{aligned}\n",
    "$$"
   ]
  },
  {
   "cell_type": "markdown",
   "metadata": {
    "hide_input": true,
    "slideshow": {
     "slide_type": "fragment"
    }
   },
   "source": [
    "At each single time step $t$, the hidden state $\\mathbf{h}_t$ is given by:\n",
    "\n",
    "$$\n",
    "\\begin{aligned}\n",
    "\\mathbf{h}_t & = \\sigma(\\mathbf{W}^h \\mathbf{h}_{t-1}+ \\mathbf{W}^x \\mathbf{x}_t) \\in \\mathbb{R}^{d_{h}}\\\\\n",
    "\\end{aligned}\n",
    "$$\n",
    "Input matrix: $\\mathbf{W}^x \\in \\mathbb{R}^{d_{h} \\times d_{x}}$\n",
    "\n",
    "Transition matrix: $\\mathbf{W}^h \\in \\mathbb{R}^{d_{h} \\times d_{h}}$"
   ]
  },
  {
   "cell_type": "markdown",
   "metadata": {
    "hide_input": true,
    "slideshow": {
     "slide_type": "subslide"
    }
   },
   "source": [
    "The output $\\hat{\\mathbf{y}}_t \\in [0, 1]^{|V|}$, a **probability distribution** over words in $V$, is given by:\n",
    "\n",
    "$$\n",
    "\\begin{aligned}\n",
    "\\hat{\\mathbf{y}}_{t} & = \\text{softmax}(\\mathbf{W}^o \\mathbf{h}_{t}) \\\\\n",
    "\\end{aligned}\n",
    "$$\n",
    "\n",
    "Output matrix: $\\mathbf{W}^o \\in \\mathbb{R}^{|V| \\times d_{h}}$\n",
    "\n",
    "and softmax is defined as:\n",
    "$$\n",
    "\\text{softmax}(z) = \\frac{1}{\\sum_{i=1}^{d_z} e^{z_i}} \\left(e^{z_1}, e^{z_2},\\ldots,e^{z_{d_z}}\\right)\n",
    "$$"
   ]
  },
  {
   "cell_type": "markdown",
   "metadata": {
    "hide_input": true,
    "slideshow": {
     "slide_type": "fragment"
    }
   },
   "source": [
    "The probability that the $t$-th word in the sequence is $w_{j}$ is given by:\n",
    "\n",
    "$$p(w_{j} \\mid w_{t}, \\ldots, w_{1}) = \\hat{\\mathbf{y}}_{t, j}$$"
   ]
  },
  {
   "cell_type": "markdown",
   "metadata": {
    "hide_input": true,
    "slideshow": {
     "slide_type": "subslide"
    }
   },
   "source": [
    "# Example\n",
    "\n",
    "Consider the word sequence $\\text{encode}(\\text{Natural}, \\text{Language}, \\text{Processing}) \\rightarrow (\\mathbf{x}_{1}, \\mathbf{x}_{2}, \\mathbf{x}_{3})$\n",
    "\n",
    "Reminder: $\\mathbf{h}_t = \\sigma(\\mathbf{W}^h \\mathbf{h}_{t-1}+ \\mathbf{W}^x \\mathbf{x}_t + \\mathbf{b})$\n",
    "\n",
    "$$\n",
    "\\begin{aligned}\n",
    " \\mathbf{h}_1 = \\sigma(\\mathbf{W}^h \\mathbf{h}_{0} + \\mathbf{W}^x \\mathbf{x}_1) &\\;& \\hat{\\mathbf{y}}_{1} = \\text{softmax}(\\mathbf{W}^o \\mathbf{h}_{1}) \\\\\n",
    " \\mathbf{h}_2 = \\sigma(\\mathbf{W}^h \\mathbf{h}_{1} + \\mathbf{W}^x \\mathbf{x}_2) &\\;& \\hat{\\mathbf{y}}_{2} = \\text{softmax}(\\mathbf{W}^o \\mathbf{h}_{2}) \\\\\n",
    " \\mathbf{h}_3 = \\sigma(\\mathbf{W}^h \\mathbf{h}_{2} + \\mathbf{W}^x \\mathbf{x}_3) &\\;& \\hat{\\mathbf{y}}_{3} = \\text{softmax}(\\mathbf{W}^o \\mathbf{h}_{3}) \\\\\n",
    "\\end{aligned}\n",
    "$$\n",
    "\n",
    "$$p(\\text{Natural}, \\text{Language}, \\text{Processing}) = \\hat{\\mathbf{y}}_{1, [\\text{Natural}]} \\; \\hat{\\mathbf{y}}_{2, [\\text{Language}]} \\; \\hat{\\mathbf{y}}_{3, [\\text{Processing}]}$$\n",
    "\n",
    "- Initial state: $\\mathbf{h}_{0} \\in \\mathbb{R}^{d_{h}}$\n",
    "- Input matrix: $\\mathbf{W}^x \\in \\mathbb{R}^{d_{h} \\times d_{x}}$, Transition matrix: $\\mathbf{W}^h \\in \\mathbb{R}^{d_{h} \\times d_{h}}$, Output matrix: $\\mathbf{W}^o \\in \\mathbb{R}^{|V| \\times d_{h}}$"
   ]
  },
  {
   "cell_type": "markdown",
   "metadata": {
    "hide_input": true,
    "slideshow": {
     "slide_type": "skip"
    }
   },
   "source": [
    "## Notational Comment\n",
    "\n",
    "- Input matrix $\\mathbf{W}^x \\in \\mathbb{R}^{d_{h} \\times d_{x}}$ is sometimes referred to as $\\mathbf{U}$\n",
    "- Transition matrix $\\mathbf{W}^h \\in \\mathbb{R}^{d_{h} \\times d_{h}}$ is sometimes referred to as $\\mathbf{W}$\n",
    "- Output matrix $\\mathbf{W}^o \\in \\mathbb{R}^{|V| \\times d_{h}}$ is sometimes referred to as $\\mathbf{V}$"
   ]
  },
  {
   "cell_type": "markdown",
   "metadata": {
    "hide_input": true,
    "slideshow": {
     "slide_type": "skip"
    }
   },
   "source": [
    "<center><img src=\"../img/rnn_unfold.png\" width=60%></center>"
   ]
  },
  {
   "cell_type": "markdown",
   "metadata": {
    "slideshow": {
     "slide_type": "subslide"
    }
   },
   "source": [
    "<center><img src=\"../img/quiz_time.png\"></center>\n",
    "\n",
    "# https://ucph.page.link/unk\n",
    "([Responses](https://docs.google.com/forms/d/1Ze1pUQkraElKVcMU8zsNNe7GFmRQluffFi-J_aIvvCk/edit#responses))"
   ]
  },
  {
   "cell_type": "markdown",
   "metadata": {
    "slideshow": {
     "slide_type": "subslide"
    }
   },
   "source": [
    "# Objective Function\n",
    "\n",
    "Recall that $\\hat{\\mathbf{y}}_{t} \\in \\mathbb{R}^{|V|}$ is a probability distribution over the vocabulary $V$.\n",
    "\n",
    "We can train a RNN by minimizing the **cross-entropy loss**, predicting **words** instead of classes:\n",
    "\n",
    "$$\n",
    "\\begin{aligned}\n",
    "J_{t} = - \\sum_{i = 1}^{|V|} \\mathbf{y}_{t, i} \\log \\hat{\\mathbf{y}}_{t, i}, \\quad \\text{where} \\quad \\mathbf{y}_{t, i} = \\left\\{\\begin{array}{ll}1 \\; \\text{if the $t$-th word is $w_{i}$,}\\\\0 \\, \\text{otherwise.}\\end{array} \\right.\n",
    "\\end{aligned}\n",
    "$$"
   ]
  },
  {
   "cell_type": "markdown",
   "metadata": {
    "hide_input": false,
    "slideshow": {
     "slide_type": "slide"
    }
   },
   "source": [
    "# Problem - Training RNNs is Hard\n",
    "\n",
    "- **Vanishing** and **exploding** gradients [<span class=blue>Pascanu et al. 2013</span>].\n",
    "\n",
    "Why? Multiply the same matrix $\\mathbf{W}^{h}$ at each time step during forward propagation. The norm of the gradient might either tend to 0 (**vanish**) or be too large (**explode**).\n",
    "\n",
    "<center>\n",
    "<img src=\"rnn-figures/error_surface.png\" width=\"40%\"/>\n",
    "</center>"
   ]
  },
  {
   "cell_type": "markdown",
   "metadata": {
    "slideshow": {
     "slide_type": "subslide"
    }
   },
   "source": [
    "# Related Problem - Long-Term Dependencies\n",
    "\n",
    "Words from time steps far away are hardly considered when training to predict the next word.\n",
    "\n",
    "Example:\n",
    "- John walked to the hallway.\n",
    "- Mary walked in too.\n",
    "- Daniel moved to the garden.\n",
    "- John said \"Hi\" to \\_\\_\\_\\_."
   ]
  },
  {
   "cell_type": "markdown",
   "metadata": {
    "slideshow": {
     "slide_type": "fragment"
    }
   },
   "source": [
    "or\n",
    "\n",
    "- When I moved to France, I quickly ran into difficulties communicating, because I don't speak any \\_\\_\\_\\_."
   ]
  },
  {
   "cell_type": "markdown",
   "metadata": {
    "slideshow": {
     "slide_type": "skip"
    }
   },
   "source": [
    "A RNN is very likely to e.g. put an uniform probability distributions over nouns in $V$, and a low probability everywhere else.\n",
    "\n",
    "It's an issue with language modeling, question answering, and many other tasks."
   ]
  },
  {
   "cell_type": "markdown",
   "metadata": {
    "hide_input": true,
    "slideshow": {
     "slide_type": "subslide"
    }
   },
   "source": [
    "# Vanishing/Exploding Gradients - Solutions\n",
    "\n",
    "Several solutions in the literature:\n",
    "\n",
    "- Bound the gradient to a threshold (**Gradient Clipping**)<br>[<span class=blue>Pascanu et al. 2013</span>]\n",
    "\n",
    "- Use $\\text{ReLU}(x) = \\max(0, x)$ (**Re**ctified **L**inear **U**nits) or similar non-linearities instead of $\\text{sigmoid}(x)$ or $\\text{tanh}(x)$<br>[<span class=blue>Glorot et al. 2011</span>].\n",
    "\n",
    "- Clever initialization of the transition matrix ($\\mathbf{W}^h = \\mathbf{I}$)<br>[<span class=blue>Socher et al. 2013</span>, <span class=blue>Le et al. 2015</span>].\n",
    "\n",
    "- Use different recurrent models that favour backpropagation<br>LSTM [<span class=blue>Hochreiter et al. 1997</span>], GRU [<span class=blue>Chung et al. 2014</span>]."
   ]
  },
  {
   "cell_type": "markdown",
   "metadata": {
    "slideshow": {
     "slide_type": "slide"
    }
   },
   "source": [
    "# Long Short-Term Memory (LSTM) Networks\n",
    "\n",
    "- Can adaptively learn what to **keep** (store) into memory (gate $\\mathbf{i}_{t}$), **forget** (gate $\\mathbf{f}_{t}$) and **output** (gate $\\mathbf{o}_{t}$)"
   ]
  },
  {
   "cell_type": "markdown",
   "metadata": {
    "hideCode": false,
    "hide_input": true,
    "slideshow": {
     "slide_type": "fragment"
    }
   },
   "source": [
    "<center><img src=\"../img/rnn_vs_lstm.png\" width=\"50%\"></center>"
   ]
  },
  {
   "cell_type": "markdown",
   "metadata": {
    "slideshow": {
     "slide_type": "subslide"
    }
   },
   "source": [
    "# Long Short-Term Memory (LSTM) Networks\n",
    "\n",
    "- Can adaptively learn what to **keep** (store) into memory (gate $\\mathbf{i}_{t}$), **forget** (gate $\\mathbf{f}_{t}$) and **output** (gate $\\mathbf{o}_{t}$)\n",
    "- Memory from current time step: $\\mathbf{c}_{t}$; predicted output from current time step: $\\hat{\\mathbf{y}}_{t}$\n",
    "- Element-wise multiplication: <span style=\"background-color: black; color: white\">x</span>; element-wise summation: <span style=\"background-color: black; color: white\">+</span>\n",
    "<center><img src=\"../img/lstm_internal.png\" width=70%></center>"
   ]
  },
  {
   "cell_type": "markdown",
   "metadata": {
    "hide_input": true,
    "slideshow": {
     "slide_type": "fragment"
    }
   },
   "source": [
    "<center><img src=\"../img/lstm_equations.png\", width=600></center>"
   ]
  },
  {
   "cell_type": "markdown",
   "metadata": {
    "slideshow": {
     "slide_type": "skip"
    }
   },
   "source": [
    "# Visualizing Gradients\n",
    "\n",
    "RNN vs. LSTM gradients on the input matrix $\\mathbf{W}^x$\n",
    "\n",
    "- Error is generated at 128th step and propagated back, no error from other steps."
   ]
  },
  {
   "cell_type": "code",
   "execution_count": 9,
   "metadata": {
    "hideCode": true,
    "hide_input": false,
    "slideshow": {
     "slide_type": "skip"
    }
   },
   "outputs": [
    {
     "data": {
      "text/html": [
       "\n",
       "<center>\n",
       "<video controls autoplay loop>\n",
       "<source src=\"rnn-figures/vanishing.mp4\" type=\"video/mp4\">\n",
       "</video>\n",
       "</center>\n"
      ],
      "text/plain": [
       "<IPython.core.display.HTML object>"
      ]
     },
     "metadata": {},
     "output_type": "display_data"
    }
   ],
   "source": [
    "%%html\n",
    "\n",
    "<center>\n",
    "<video controls autoplay loop>\n",
    "<source src=\"rnn-figures/vanishing.mp4\" type=\"video/mp4\">\n",
    "</video>\n",
    "</center>"
   ]
  },
  {
   "cell_type": "markdown",
   "metadata": {
    "slideshow": {
     "slide_type": "skip"
    }
   },
   "source": [
    "# Sentence Encoding"
   ]
  },
  {
   "cell_type": "code",
   "execution_count": 7,
   "metadata": {
    "hideCode": true,
    "hide_input": true,
    "scrolled": false,
    "slideshow": {
     "slide_type": "skip"
    }
   },
   "outputs": [
    {
     "name": "stdout",
     "output_type": "stream",
     "text": [
      "This is pdfTeX, Version 3.14159265-2.6-1.40.18 (TeX Live 2017) (preloaded format=pdflatex)\n",
      " \\write18 enabled.\n",
      "entering extended mode\n",
      "(./tikz.tex\n",
      "LaTeX2e <2017-04-15>\n",
      "Babel <3.10> and hyphenation patterns for 84 language(s) loaded.\n",
      "(/usr/local/texlive/2017/texmf-dist/tex/latex/standalone/standalone.cls\n",
      "Document Class: standalone 2015/07/15 v1.2 Class to compile TeX sub-files stand\n",
      "alone\n",
      "(/usr/local/texlive/2017/texmf-dist/tex/generic/oberdiek/ifluatex.sty)\n",
      "(/usr/local/texlive/2017/texmf-dist/tex/generic/oberdiek/ifpdf.sty)\n",
      "(/usr/local/texlive/2017/texmf-dist/tex/generic/ifxetex/ifxetex.sty)\n",
      "(/usr/local/texlive/2017/texmf-dist/tex/latex/xkeyval/xkeyval.sty\n",
      "(/usr/local/texlive/2017/texmf-dist/tex/generic/xkeyval/xkeyval.tex\n",
      "(/usr/local/texlive/2017/texmf-dist/tex/generic/xkeyval/xkvutils.tex\n",
      "(/usr/local/texlive/2017/texmf-dist/tex/generic/xkeyval/keyval.tex))))\n",
      "(/usr/local/texlive/2017/texmf-dist/tex/latex/standalone/standalone.cfg)\n",
      "(/usr/local/texlive/2017/texmf-dist/tex/latex/base/article.cls\n",
      "Document Class: article 2014/09/29 v1.4h Standard LaTeX document class\n",
      "(/usr/local/texlive/2017/texmf-dist/tex/latex/base/size10.clo))This is pdfTeX, Version 3.14159265-2.6-1.40.18 (TeX Live 2017) (preloaded format=pdflatex)\n",
      " \\write18 enabled.\n",
      "entering extended mode\n",
      "LaTeX2e <2017-04-15>\n",
      "Babel <3.10> and hyphenation patterns for 84 language(s) loaded.\n",
      "(./tikz.tex\n",
      "(/usr/local/texlive/2017/texmf-dist/tex/latex/standalone/standalone.cls\n",
      "Document Class: standalone 2015/07/15 v1.2 Class to compile TeX sub-files stand\n",
      "alone\n",
      "(/usr/local/texlive/2017/texmf-dist/tex/generic/oberdiek/ifluatex.sty)\n",
      "(/usr/local/texlive/2017/texmf-dist/tex/generic/oberdiek/ifpdf.sty)\n",
      "(/usr/local/texlive/2017/texmf-dist/tex/generic/ifxetex/ifxetex.sty)\n",
      "(/usr/local/texlive/2017/texmf-dist/tex/latex/xkeyval/xkeyval.sty\n",
      "(/usr/local/texlive/2017/texmf-dist/tex/generic/xkeyval/xkeyval.tex\n",
      "(/usr/local/texlive/2017/texmf-dist/tex/generic/xkeyval/xkvutils.tex\n",
      "(/usr/local/texlive/2017/texmf-dist/tex/generic/xkeyval/keyval.tex))))\n",
      "(/usr/local/texlive/2017/texmf-dist/tex/latex/standalone/standalone.cfg)\n",
      "(/usr/local/texlive/2017/texmf-dist/tex/latex/base/article.cls\n",
      "Document Class: article 2014/09/29 v1.4h Standard LaTeX document class\n",
      "(/usr/local/texlive/2017/texmf-dist/tex/latex/base/size10.clo)))\n",
      "(/usr/local/texlive/2017/texmf-dist/tex/latex/xcolor/xcolor.sty\n",
      "(/usr/local/texlive/2017/texmf-dist/tex/latex/graphics-cfg/color.cfg)\n",
      "(/usr/local/texlive/2017/texmf-dist/tex/latex/graphics-def/pdftex.def\n",
      "(/usr/local/texlive/2017/texmf-dist/tex/generic/oberdiek/infwarerr.sty)\n",
      "(/usr/local/texlive/2017/texmf-dist/tex/generic/oberdiek/ltxcmds.sty)))\n",
      "(/usr/local/texlive/2017/texmf-dist/tex/latex/psnfss/helvet.sty)\n",
      "(/usr/local/texlive/2017/texmf-dist/tex/latex/pgf/frontendlayer/tikz.sty\n",
      "(/usr/local/texlive/2017/texmf-dist/tex/latex/pgf/basiclayer/pgf.sty\n",
      "(/usr/local/texlive/2017/texmf-dist/tex/latex/pgf/utilities/pgfrcs.sty\n",
      "(/usr/local/texlive/2017/texmf-dist/tex/generic/pgf/utilities/pgfutil-common.te\n",
      "x\n",
      "(/usr/local/texlive/2017/texmf-dist/tex/generic/pgf/utilities/pgfutil-common-li\n",
      "sts.tex))\n",
      "(/usr/local/texlive/2017/texmf-dist/tex/generic/pgf/utilities/pgfutil-latex.def\n",
      "(/usr/local/texlive/2017/texmf-dist/tex/latex/ms/everyshi.sty))\n",
      "(/usr/local/texlive/2017/texmf-dist/tex/generic/pgf/utilities/pgfrcs.code.tex))\n",
      "(/usr/local/texlive/2017/texmf-dist/tex/latex/pgf/basiclayer/pgfcore.sty\n",
      "(/usr/local/texlive/2017/texmf-dist/tex/latex/graphics/graphicx.sty\n",
      "(/usr/local/texlive/2017/texmf-dist/tex/latex/graphics/graphics.sty\n",
      "(/usr/local/texlive/2017/texmf-dist/tex/latex/graphics/trig.sty)\n",
      "(/usr/local/texlive/2017/texmf-dist/tex/latex/graphics-cfg/graphics.cfg)))\n",
      "(/usr/local/texlive/2017/texmf-dist/tex/latex/pgf/systemlayer/pgfsys.sty\n",
      "(/usr/local/texlive/2017/texmf-dist/tex/generic/pgf/systemlayer/pgfsys.code.tex\n",
      "(/usr/local/texlive/2017/texmf-dist/tex/generic/pgf/utilities/pgfkeys.code.tex\n",
      "(/usr/local/texlive/2017/texmf-dist/tex/generic/pgf/utilities/pgfkeysfiltered.c\n",
      "ode.tex))\n",
      "(/usr/local/texlive/2017/texmf-dist/tex/generic/pgf/systemlayer/pgf.cfg)\n",
      "(/usr/local/texlive/2017/texmf-dist/tex/generic/pgf/systemlayer/pgfsys-pdftex.d\n",
      "ef\n",
      "(/usr/local/texlive/2017/texmf-dist/tex/generic/pgf/systemlayer/pgfsys-common-p\n",
      "df.def)))\n",
      "(/usr/local/texlive/2017/texmf-dist/tex/generic/pgf/systemlayer/pgfsyssoftpath.\n",
      "code.tex)\n",
      "(/usr/local/texlive/2017/texmf-dist/tex/generic/pgf/systemlayer/pgfsysprotocol.\n",
      "code.tex))\n",
      "(/usr/local/texlive/2017/texmf-dist/tex/generic/pgf/basiclayer/pgfcore.code.tex\n",
      "(/usr/local/texlive/2017/texmf-dist/tex/generic/pgf/math/pgfmath.code.tex\n",
      "(/usr/local/texlive/2017/texmf-dist/tex/generic/pgf/math/pgfmathcalc.code.tex\n",
      "(/usr/local/texlive/2017/texmf-dist/tex/generic/pgf/math/pgfmathutil.code.tex)\n",
      "(/usr/local/texlive/2017/texmf-dist/tex/generic/pgf/math/pgfmathparser.code.tex\n",
      ")\n",
      "(/usr/local/texlive/2017/texmf-dist/tex/generic/pgf/math/pgfmathfunctions.code.\n",
      "tex\n",
      "(/usr/local/texlive/2017/texmf-dist/tex/generic/pgf/math/pgfmathfunctions.basic\n",
      ".code.tex)\n",
      "(/usr/local/texlive/2017/texmf-dist/tex/generic/pgf/math/pgfmathfunctions.trigo\n",
      "nometric.code.tex)\n",
      "(/usr/local/texlive/2017/texmf-dist/tex/generic/pgf/math/pgfmathfunctions.rando\n",
      "m.code.tex)\n",
      "(/usr/local/texlive/2017/texmf-dist/tex/generic/pgf/math/pgfmathfunctions.compa\n",
      "rison.code.tex)\n",
      "(/usr/local/texlive/2017/texmf-dist/tex/generic/pgf/math/pgfmathfunctions.base.\n",
      "code.tex)\n",
      "(/usr/local/texlive/2017/texmf-dist/tex/generic/pgf/math/pgfmathfunctions.round\n",
      ".code.tex)\n",
      "(/usr/local/texlive/2017/texmf-dist/tex/generic/pgf/math/pgfmathfunctions.misc.\n",
      "code.tex)\n",
      "(/usr/local/texlive/2017/texmf-dist/tex/generic/pgf/math/pgfmathfunctions.integ\n",
      "erarithmetics.code.tex)))\n",
      "(/usr/local/texlive/2017/texmf-dist/tex/generic/pgf/math/pgfmathfloat.code.tex)\n",
      ")\n",
      "(/usr/local/texlive/2017/texmf-dist/tex/generic/pgf/basiclayer/pgfcorepoints.co\n",
      "de.tex)\n",
      "(/usr/local/texlive/2017/texmf-dist/tex/generic/pgf/basiclayer/pgfcorepathconst\n",
      "ruct.code.tex)\n",
      "(/usr/local/texlive/2017/texmf-dist/tex/generic/pgf/basiclayer/pgfcorepathusage\n",
      ".code.tex)\n",
      "(/usr/local/texlive/2017/texmf-dist/tex/generic/pgf/basiclayer/pgfcorescopes.co\n",
      "de.tex)\n",
      "(/usr/local/texlive/2017/texmf-dist/tex/generic/pgf/basiclayer/pgfcoregraphicst\n",
      "ate.code.tex)\n",
      "(/usr/local/texlive/2017/texmf-dist/tex/generic/pgf/basiclayer/pgfcoretransform\n",
      "ations.code.tex)\n",
      "(/usr/local/texlive/2017/texmf-dist/tex/generic/pgf/basiclayer/pgfcorequick.cod\n",
      "e.tex)\n",
      "(/usr/local/texlive/2017/texmf-dist/tex/generic/pgf/basiclayer/pgfcoreobjects.c\n",
      "ode.tex)\n",
      "(/usr/local/texlive/2017/texmf-dist/tex/generic/pgf/basiclayer/pgfcorepathproce\n",
      "ssing.code.tex)\n",
      "(/usr/local/texlive/2017/texmf-dist/tex/generic/pgf/basiclayer/pgfcorearrows.co\n",
      "de.tex)\n",
      "(/usr/local/texlive/2017/texmf-dist/tex/generic/pgf/basiclayer/pgfcoreshade.cod\n",
      "e.tex)\n",
      "(/usr/local/texlive/2017/texmf-dist/tex/generic/pgf/basiclayer/pgfcoreimage.cod\n",
      "e.tex\n",
      "(/usr/local/texlive/2017/texmf-dist/tex/generic/pgf/basiclayer/pgfcoreexternal.\n",
      "code.tex))\n",
      "(/usr/local/texlive/2017/texmf-dist/tex/generic/pgf/basiclayer/pgfcorelayers.co\n",
      "de.tex)\n",
      "(/usr/local/texlive/2017/texmf-dist/tex/generic/pgf/basiclayer/pgfcoretranspare\n",
      "ncy.code.tex)\n",
      "(/usr/local/texlive/2017/texmf-dist/tex/generic/pgf/basiclayer/pgfcorepatterns.\n",
      "code.tex)))\n",
      "(/usr/local/texlive/2017/texmf-dist/tex/generic/pgf/modules/pgfmoduleshapes.cod\n",
      "e.tex)\n",
      "(/usr/local/texlive/2017/texmf-dist/tex/generic/pgf/modules/pgfmoduleplot.code.\n",
      "tex)\n",
      "(/usr/local/texlive/2017/texmf-dist/tex/latex/pgf/compatibility/pgfcomp-version\n",
      "-0-65.sty)\n",
      "(/usr/local/texlive/2017/texmf-dist/tex/latex/pgf/compatibility/pgfcomp-version\n",
      "-1-18.sty))\n",
      "(/usr/local/texlive/2017/texmf-dist/tex/latex/pgf/utilities/pgffor.sty\n",
      "(/usr/local/texlive/2017/texmf-dist/tex/latex/pgf/utilities/pgfkeys.sty\n",
      "(/usr/local/texlive/2017/texmf-dist/tex/generic/pgf/utilities/pgfkeys.code.tex)\n",
      ") (/usr/local/texlive/2017/texmf-dist/tex/latex/pgf/math/pgfmath.sty\n",
      "(/usr/local/texlive/2017/texmf-dist/tex/generic/pgf/math/pgfmath.code.tex))\n",
      "(/usr/local/texlive/2017/texmf-dist/tex/generic/pgf/utilities/pgffor.code.tex\n",
      "(/usr/local/texlive/2017/texmf-dist/tex/generic/pgf/math/pgfmath.code.tex)))\n",
      "(/usr/local/texlive/2017/texmf-dist/tex/generic/pgf/frontendlayer/tikz/tikz.cod\n",
      "e.tex\n",
      "(/usr/local/texlive/2017/texmf-dist/tex/generic/pgf/libraries/pgflibraryplothan\n",
      "dlers.code.tex)\n",
      "(/usr/local/texlive/2017/texmf-dist/tex/generic/pgf/modules/pgfmodulematrix.cod\n",
      "e.tex)\n",
      "(/usr/local/texlive/2017/texmf-dist/tex/generic/pgf/frontendlayer/tikz/librarie\n",
      "s/tikzlibrarytopaths.code.tex)))\n",
      "(/usr/local/texlive/2017/texmf-dist/tex/latex/tkz-euclide/tkz-euclide.sty\n",
      "(/usr/local/texlive/2017/texmf-dist/tex/latex/tkz-base/tkz-base.sty\n",
      "(/usr/local/texlive/2017/texmf-dist/tex/latex/etex-pkg/etex.sty)\n",
      "(/usr/local/texlive/2017/texmf-dist/tex/generic/pgf/frontendlayer/tikz/librarie\n",
      "s/tikzlibrarycalc.code.tex)\n",
      "(/usr/local/texlive/2017/texmf-dist/tex/generic/pgf/frontendlayer/tikz/librarie\n",
      "s/tikzlibraryarrows.code.tex\n",
      "(/usr/local/texlive/2017/texmf-dist/tex/generic/pgf/libraries/pgflibraryarrows.\n",
      "code.tex))\n",
      "(/usr/local/texlive/2017/texmf-dist/tex/generic/pgf/frontendlayer/tikz/librarie\n",
      "s/tikzlibraryplotmarks.code.tex\n",
      "(/usr/local/texlive/2017/texmf-dist/tex/generic/pgf/libraries/pgflibraryplotmar\n",
      "ks.code.tex))\n",
      "(/usr/local/texlive/2017/texmf-dist/tex/generic/pgf/frontendlayer/tikz/librarie\n",
      "s/tikzlibrarypositioning.code.tex)\n",
      "(/usr/local/texlive/2017/texmf-dist/tex/generic/pgf/frontendlayer/tikz/librarie\n",
      "s/tikzlibraryshapes.misc.code.tex\n",
      "(/usr/local/texlive/2017/texmf-dist/tex/generic/pgf/libraries/shapes/pgflibrary\n",
      "shapes.misc.code.tex))\n",
      "(/usr/local/texlive/2017/texmf-dist/tex/generic/pgf/frontendlayer/tikz/librarie\n",
      "s/tikzlibrarydecorations.code.tex\n",
      "(/usr/local/texlive/2017/texmf-dist/tex/generic/pgf/modules/pgfmoduledecoration\n",
      "s.code.tex))\n",
      "(/usr/local/texlive/2017/texmf-dist/tex/generic/pgf/frontendlayer/tikz/librarie\n",
      "s/tikzlibrarydecorations.markings.code.tex\n",
      "(/usr/local/texlive/2017/texmf-dist/tex/generic/pgf/libraries/decorations/pgfli\n",
      "brarydecorations.markings.code.tex))\n",
      "(/usr/local/texlive/2017/texmf-dist/tex/generic/pgf/frontendlayer/tikz/librarie\n",
      "s/tikzlibrarydecorations.pathreplacing.code.tex\n",
      "(/usr/local/texlive/2017/texmf-dist/tex/generic/pgf/libraries/decorations/pgfli\n",
      "brarydecorations.pathreplacing.code.tex))\n",
      "(/usr/local/texlive/2017/texmf-dist/tex/generic/pgf/frontendlayer/tikz/librarie\n",
      "s/tikzlibrarypatterns.code.tex\n",
      "(/usr/local/texlive/2017/texmf-dist/tex/generic/pgf/libraries/pgflibrarypattern\n",
      "s.code.tex))\n",
      "(/usr/local/texlive/2017/texmf-dist/tex/latex/numprint/numprint.sty\n",
      "(/usr/local/texlive/2017/texmf-dist/tex/latex/tools/array.sty)\n",
      "No configuration file `numprint.cfg' found.)\n",
      "(/usr/local/texlive/2017/texmf-dist/tex/latex/fp/fp.sty\n",
      "`Fixed Point Package', Version 0.8, April 2, 1995 (C) Michael Mehlich\n",
      "(/usr/local/texlive/2017/texmf-dist/tex/latex/fp/defpattern.sty)\n",
      "(/usr/local/texlive/2017/texmf-dist/tex/latex/fp/fp-basic.sty)\n",
      "(/usr/local/texlive/2017/texmf-dist/tex/latex/fp/fp-addons.sty)\n",
      "(/usr/local/texlive/2017/texmf-dist/tex/latex/fp/fp-snap.sty)\n",
      "(/usr/local/texlive/2017/texmf-dist/tex/latex/fp/fp-exp.sty)\n",
      "(/usr/local/texlive/2017/texmf-dist/tex/latex/fp/fp-trigo.sty)\n",
      "(/usr/local/texlive/2017/texmf-dist/tex/latex/fp/fp-pas.sty)\n"
     ]
    },
    {
     "name": "stdout",
     "output_type": "stream",
     "text": [
      "(/usr/local/texlive/2017/texmf-dist/tex/latex/fp/fp-random.sty)\n",
      "(/usr/local/texlive/2017/texmf-dist/tex/latex/fp/fp-eqn.sty)\n",
      "(/usr/local/texlive/2017/texmf-dist/tex/latex/fp/fp-upn.sty)\n",
      "(/usr/local/texlive/2017/texmf-dist/tex/latex/fp/fp-eval.sty))\n",
      "(/usr/local/texlive/2017/texmf-dist/tex/latex/tkz-base/tkz-tools-utilities.tex)\n",
      "(/usr/local/texlive/2017/texmf-dist/tex/latex/tkz-base/tkz-tools-arith.tex)\n",
      "(/usr/local/texlive/2017/texmf-dist/tex/latex/tkz-base/tkz-tools-base.tex)\n",
      "(/usr/local/texlive/2017/texmf-dist/tex/latex/tkz-base/tkz-tools-misc.tex)\n",
      "(/usr/local/texlive/2017/texmf-dist/tex/latex/tkz-base/tkz-tools-math.tex)\n",
      "(/usr/local/texlive/2017/texmf-dist/tex/latex/tkz-base/tkz-obj-points.tex)\n",
      "(/usr/local/texlive/2017/texmf-dist/tex/latex/tkz-base/tkz-obj-segments.tex)\n",
      "(/usr/local/texlive/2017/texmf-dist/tex/latex/tkz-base/tkz-obj-marks.tex))\n",
      "(/usr/local/texlive/2017/texmf-dist/tex/latex/tkz-euclide/tkz-tools-intersectio\n",
      "ns.tex)\n",
      "(/usr/local/texlive/2017/texmf-dist/tex/latex/tkz-euclide/tkz-tools-transformat\n",
      "ions.tex)\n",
      "(/usr/local/texlive/2017/texmf-dist/tex/latex/tkz-euclide/tkz-obj-lines.tex)\n",
      "(/usr/local/texlive/2017/texmf-dist/tex/latex/tkz-euclide/tkz-lib-symbols.tex)\n",
      "(/usr/local/texlive/2017/texmf-dist/tex/latex/tkz-euclide/tkz-obj-circles.tex)\n",
      "(/usr/local/texlive/2017/texmf-dist/tex/latex/tkz-euclide/tkz-obj-addpoints.tex\n",
      "))\n",
      "(/usr/local/texlive/2017/texmf-dist/tex/latex/tkz-euclide/tkz-obj-polygons.tex)\n",
      "(/usr/local/texlive/2017/texmf-dist/tex/latex/tkz-euclide/tkz-obj-vectors.tex)\n",
      "(/usr/local/texlive/2017/texmf-dist/tex/latex/tkz-euclide/tkz-obj-arcs.tex)\n",
      "(/usr/local/texlive/2017/texmf-dist/tex/latex/tkz-euclide/tkz-obj-sectors.tex)\n",
      "(/usr/local/texlive/2017/texmf-dist/tex/latex/tkz-euclide/tkz-obj-angles.tex)\n",
      "(/usr/local/texlive/2017/texmf-dist/tex/latex/tkz-euclide/tkz-obj-protractor.te\n",
      "x)\n",
      "No file tikz.aux.\n",
      "(/usr/local/texlive/2017/texmf-dist/tex/context/base/mkii/supp-pdf.mkii\n",
      "[Loading MPS to PDF converter (version 2006.09.02).]\n",
      ") (/usr/local/texlive/2017/texmf-dist/tex/generic/oberdiek/pdftexcmds.sty)\n",
      "(/usr/local/texlive/2017/texmf-dist/tex/latex/oberdiek/epstopdf-base.sty\n",
      "(/usr/local/texlive/2017/texmf-dist/tex/latex/oberdiek/grfext.sty\n",
      "(/usr/local/texlive/2017/texmf-dist/tex/generic/oberdiek/kvdefinekeys.sty))\n",
      "(/usr/local/texlive/2017/texmf-dist/tex/latex/oberdiek/kvoptions.sty\n",
      "(/usr/local/texlive/2017/texmf-dist/tex/generic/oberdiek/kvsetkeys.sty\n",
      "(/usr/local/texlive/2017/texmf-dist/tex/generic/oberdiek/etexcmds.sty)))\n",
      "(/usr/local/texlive/2017/texmf-dist/tex/latex/latexconfig/epstopdf-sys.cfg))\n",
      "ABD: EveryShipout initializing macros [1{/usr/local/texlive/2017/texmf-var/font\n",
      "s/map/pdftex/updmap/pdftex.map}] (./tikz.aux) )</usr/local/texlive/2017/texmf-d\n",
      "ist/fonts/type1/public/amsfonts/cm/cmbx12.pfb></usr/local/texlive/2017/texmf-di\n",
      "st/fonts/type1/public/amsfonts/cm/cmr17.pfb>\n",
      "Output written on tikz.pdf (1 page, 29752 bytes).\n",
      "Transcript written on tikz.log.\n",
      " (./tikz.aux)\n",
      "Class standalone:\n",
      "Output written on tikz.png.\n",
      " ) )\n",
      "No pages of output.\n",
      "Transcript written on tikz.log.\n"
     ]
    },
    {
     "data": {
      "image/png": "[encoded data removed]"
     },
     "metadata": {},
     "output_type": "display_data"
    }
   ],
   "source": [
    "%%tikz -l arrows -s 1000,400 -sc 0.65\n",
    "\n",
    "\\newcommand{\\lstm}{\n",
    "\\definecolor{nice-red}{HTML}{E41A1C}\n",
    "\\definecolor{nice-orange}{HTML}{FF7F00}\n",
    "\\definecolor{nice-yellow}{HTML}{FFC020}\n",
    "\\definecolor{nice-green}{HTML}{4DAF4A}\n",
    "\\definecolor{nice-blue}{HTML}{377EB8}\n",
    "\\definecolor{nice-purple}{HTML}{984EA3}\n",
    "\n",
    "%lstm first step\n",
    "\n",
    "%lstm module box\n",
    "\\draw[line width=3pt, color=black!50] (-6,-3) rectangle (1.5,5.25);\n",
    "\\draw[ultra thick] (0,0) rectangle (1,2);\n",
    "\n",
    "%memory ct\n",
    "\\draw[ultra thick, color=nice-purple, fill=nice-purple!10] (0,0) rectangle (1,2);\n",
    "\n",
    "%non-linearities\n",
    "\\foreach \\w/\\h/\\color in {-2/4.25/nice-blue,-2/1/nice-red,-2/-1/nice-green,0.5/-2/nice-yellow,0.5/3/black} {\n",
    "    \\begin{scope}[shift={(\\w,\\h)},scale=0.5]\n",
    "        \\draw[ultra thick, yshift=-0.5cm, color=\\color] plot [domain=-0.3:0.3](\\x, {(0.8/(1+exp(-15*\\x))+0.1)});\n",
    "        \\draw[ultra thick, color=\\color] (0,0) circle (0.5cm);\n",
    "    \\end{scope}\n",
    "}\n",
    "\n",
    "%tanh\n",
    "\\draw[thick, color=black] (0.25,3) -- (0.75,3);\n",
    "\\draw[thick, color=nice-yellow] (0.25,-2) -- (0.75,-2);\n",
    "    \n",
    "    \n",
    "%component-wise multiplications\n",
    "\\foreach \\w/\\h in {-1/1,0.5/-1,0.5/4.25} {\n",
    "    \\begin{scope}[shift={(\\w,\\h)},scale=0.5]\n",
    "        \\draw[ultra thick, color=black] (0,0) circle (0.05cm);\n",
    "        \\draw[ultra thick, color=black] (0,0) circle (0.5cm);\n",
    "    \\end{scope}\n",
    "}\n",
    "\n",
    "%vector concat\n",
    "\\begin{scope}[shift={(-4,1)},scale=0.5]\n",
    "    \\draw[ultra thick,yshift=0.2cm] (0,0) circle (0.05cm);\n",
    "    \\draw[ultra thick,yshift=-0.2cm] (0,0) circle (0.05cm);\n",
    "    \\draw[ultra thick] (0,0) circle (0.5cm);\n",
    "\\end{scope}\n",
    "\n",
    "\n",
    "\\foreach \\fx/\\fy/\\tx/\\ty in {\n",
    "    -5/-3.5/-5/0.85, %xt\n",
    "    -5/0.85/-4.2/0.85,\n",
    "    -6.5/4.25/-5/4.25, %ht1\n",
    "    -5/4.25/-5/1.15,\n",
    "    -5/1.15/-4.2/1.15,\n",
    "    -3.75/1/-3/1, %H\n",
    "    -3/4.25/-3/-2,\n",
    "    -3/-2/0.25/-2, %i\n",
    "    0.5/-1.75/0.5/-1.25,\n",
    "    -3/-1/-2.25/-1, %it\n",
    "    -1.75/-1/0.25/-1,\n",
    "    -3/1/-2.25/1, %ft\n",
    "    -1.75/1/-1.25/1,\n",
    "    -0.75/1/0/1,\n",
    "    -3/4.25/-2.25/4.25, %ot\n",
    "    -1.75/4.25/0.25/4.25,\n",
    "    0.5/2/0.5/2.75, %ct\n",
    "    -5.5/2/-5.1/2, %ct1\n",
    "    -5.5/2/-5.5/1,\n",
    "    -6.5/1/-5.5/1,\n",
    "    -4.9/2/-3.1/2,\n",
    "    -2.9/2/-1/2,\n",
    "    -1/2/-1/1.25   \n",
    "} {\n",
    "    \\draw[ultra thick] (\\fx,\\fy) -- (\\tx,\\ty);\n",
    "}\n",
    "\n",
    "\\foreach \\fx/\\fy/\\tx/\\ty in {\n",
    "    0.5/-0.75/0.5/0, %it\n",
    "    -0.75/1/0/1, %ft\n",
    "    1/1/2.25/1,\n",
    "    0.5/3.25/0.5/4,\n",
    "    0.75/4.25/2.25/4.25, %ht    \n",
    "    0.5/4.5/0.5/6    \n",
    "} {\n",
    "    \\draw[->, >=stealth', ultra thick] (\\fx,\\fy) -- (\\tx,\\ty);\n",
    "}\n",
    "}\n",
    "\n",
    "\\begin{scope}[scale=0.8]                    \n",
    "\\foreach \\d in {0} {                    \n",
    "\\foreach \\t/\\word in {0/A,1/wedding,2/party,3/taking,4/pictures} {  \n",
    "    \\node[font=\\Huge, anchor=west] at (\\t*8.5-5.75,-4.5) {$\\mathbf{v}$\\_\\word};                                                                                \n",
    "    \\begin{scope}[shift={(\\t*8.5+\\d*5.5,\\d*9.5)}]  \n",
    "        \\lstm                    \n",
    "    \\end{scope}   \n",
    "}\n",
    "}\n",
    "\\end{scope}          \n",
    "\n",
    "\\node[font=\\Huge, anchor=west] at (27,5.75) {$\\mathbf{v}$\\_Sentence};                                                                                \n",
    "          \n",
    "          \n",
    "%dummy node for left alignment\n",
    "\\node[] at (17,0) {};          "
   ]
  },
  {
   "cell_type": "markdown",
   "metadata": {
    "hide_input": false,
    "slideshow": {
     "slide_type": "skip"
    }
   },
   "source": [
    "# Gating"
   ]
  },
  {
   "cell_type": "code",
   "execution_count": 8,
   "metadata": {
    "hideCode": true,
    "hide_input": true,
    "scrolled": true,
    "slideshow": {
     "slide_type": "skip"
    }
   },
   "outputs": [
    {
     "name": "stdout",
     "output_type": "stream",
     "text": [
      "This is pdfTeX, Version 3.14159265-2.6-1.40.18 (TeX Live 2017) (preloaded format=pdflatex)\n",
      " \\write18 enabled.\n",
      "entering extended mode\n",
      "(./tikz.tex\n",
      "LaTeX2e <2017-04-15>\n",
      "Babel <3.10> and hyphenation patterns for 84 language(s) loaded.\n",
      "(/usr/local/texlive/2017/texmf-dist/tex/latex/standalone/standalone.cls\n",
      "Document Class: standalone 2015/07/15 v1.2 Class to compile TeX sub-files stand\n",
      "alone\n",
      "(/usr/local/texlive/2017/texmf-dist/tex/generic/oberdiek/ifluatex.sty)\n",
      "(/usr/local/texlive/2017/texmf-dist/tex/generic/oberdiek/ifpdf.sty)\n",
      "(/usr/local/texlive/2017/texmf-dist/tex/generic/ifxetex/ifxetex.sty)\n",
      "(/usr/local/texlive/2017/texmf-dist/tex/latex/xkeyval/xkeyval.sty\n",
      "(/usr/local/texlive/2017/texmf-dist/tex/generic/xkeyval/xkeyval.tex\n",
      "(/usr/local/texlive/2017/texmf-dist/tex/generic/xkeyval/xkvutils.tex\n",
      "(/usr/local/texlive/2017/texmf-dist/tex/generic/xkeyval/keyval.tex))))\n",
      "(/usr/local/texlive/2017/texmf-dist/tex/latex/standalone/standalone.cfg)\n",
      "(/usr/local/texlive/2017/texmf-dist/tex/latex/base/article.cls\n",
      "Document Class: article 2014/09/29 v1.4h Standard LaTeX document class\n",
      "(/usr/local/texlive/2017/texmf-dist/tex/latex/base/size10.clo))This is pdfTeX, Version 3.14159265-2.6-1.40.18 (TeX Live 2017) (preloaded format=pdflatex)\n",
      " \\write18 enabled.\n",
      "entering extended mode\n",
      "LaTeX2e <2017-04-15>\n",
      "Babel <3.10> and hyphenation patterns for 84 language(s) loaded.\n",
      "(./tikz.tex\n",
      "(/usr/local/texlive/2017/texmf-dist/tex/latex/standalone/standalone.cls\n",
      "Document Class: standalone 2015/07/15 v1.2 Class to compile TeX sub-files stand\n",
      "alone\n",
      "(/usr/local/texlive/2017/texmf-dist/tex/generic/oberdiek/ifluatex.sty)\n",
      "(/usr/local/texlive/2017/texmf-dist/tex/generic/oberdiek/ifpdf.sty)\n",
      "(/usr/local/texlive/2017/texmf-dist/tex/generic/ifxetex/ifxetex.sty)\n",
      "(/usr/local/texlive/2017/texmf-dist/tex/latex/xkeyval/xkeyval.sty\n",
      "(/usr/local/texlive/2017/texmf-dist/tex/generic/xkeyval/xkeyval.tex\n",
      "(/usr/local/texlive/2017/texmf-dist/tex/generic/xkeyval/xkvutils.tex\n",
      "(/usr/local/texlive/2017/texmf-dist/tex/generic/xkeyval/keyval.tex))))\n",
      "(/usr/local/texlive/2017/texmf-dist/tex/latex/standalone/standalone.cfg)\n",
      "(/usr/local/texlive/2017/texmf-dist/tex/latex/base/article.cls\n",
      "Document Class: article 2014/09/29 v1.4h Standard LaTeX document class\n",
      "(/usr/local/texlive/2017/texmf-dist/tex/latex/base/size10.clo)))\n",
      "(/usr/local/texlive/2017/texmf-dist/tex/latex/xcolor/xcolor.sty\n",
      "(/usr/local/texlive/2017/texmf-dist/tex/latex/graphics-cfg/color.cfg)\n",
      "(/usr/local/texlive/2017/texmf-dist/tex/latex/graphics-def/pdftex.def\n",
      "(/usr/local/texlive/2017/texmf-dist/tex/generic/oberdiek/infwarerr.sty)\n",
      "(/usr/local/texlive/2017/texmf-dist/tex/generic/oberdiek/ltxcmds.sty)))\n",
      "(/usr/local/texlive/2017/texmf-dist/tex/latex/psnfss/helvet.sty)\n",
      "(/usr/local/texlive/2017/texmf-dist/tex/latex/pgf/frontendlayer/tikz.sty\n",
      "(/usr/local/texlive/2017/texmf-dist/tex/latex/pgf/basiclayer/pgf.sty\n",
      "(/usr/local/texlive/2017/texmf-dist/tex/latex/pgf/utilities/pgfrcs.sty\n",
      "(/usr/local/texlive/2017/texmf-dist/tex/generic/pgf/utilities/pgfutil-common.te\n",
      "x\n",
      "(/usr/local/texlive/2017/texmf-dist/tex/generic/pgf/utilities/pgfutil-common-li\n",
      "sts.tex))\n",
      "(/usr/local/texlive/2017/texmf-dist/tex/generic/pgf/utilities/pgfutil-latex.def\n",
      "(/usr/local/texlive/2017/texmf-dist/tex/latex/ms/everyshi.sty))\n",
      "(/usr/local/texlive/2017/texmf-dist/tex/generic/pgf/utilities/pgfrcs.code.tex))\n",
      "(/usr/local/texlive/2017/texmf-dist/tex/latex/pgf/basiclayer/pgfcore.sty\n",
      "(/usr/local/texlive/2017/texmf-dist/tex/latex/graphics/graphicx.sty\n",
      "(/usr/local/texlive/2017/texmf-dist/tex/latex/graphics/graphics.sty\n",
      "(/usr/local/texlive/2017/texmf-dist/tex/latex/graphics/trig.sty)\n",
      "(/usr/local/texlive/2017/texmf-dist/tex/latex/graphics-cfg/graphics.cfg)))\n",
      "(/usr/local/texlive/2017/texmf-dist/tex/latex/pgf/systemlayer/pgfsys.sty\n",
      "(/usr/local/texlive/2017/texmf-dist/tex/generic/pgf/systemlayer/pgfsys.code.tex\n",
      "(/usr/local/texlive/2017/texmf-dist/tex/generic/pgf/utilities/pgfkeys.code.tex\n",
      "(/usr/local/texlive/2017/texmf-dist/tex/generic/pgf/utilities/pgfkeysfiltered.c\n",
      "ode.tex))\n",
      "(/usr/local/texlive/2017/texmf-dist/tex/generic/pgf/systemlayer/pgf.cfg)\n",
      "(/usr/local/texlive/2017/texmf-dist/tex/generic/pgf/systemlayer/pgfsys-pdftex.d\n",
      "ef\n",
      "(/usr/local/texlive/2017/texmf-dist/tex/generic/pgf/systemlayer/pgfsys-common-p\n",
      "df.def)))\n",
      "(/usr/local/texlive/2017/texmf-dist/tex/generic/pgf/systemlayer/pgfsyssoftpath.\n",
      "code.tex)\n",
      "(/usr/local/texlive/2017/texmf-dist/tex/generic/pgf/systemlayer/pgfsysprotocol.\n",
      "code.tex))\n",
      "(/usr/local/texlive/2017/texmf-dist/tex/generic/pgf/basiclayer/pgfcore.code.tex\n",
      "(/usr/local/texlive/2017/texmf-dist/tex/generic/pgf/math/pgfmath.code.tex\n",
      "(/usr/local/texlive/2017/texmf-dist/tex/generic/pgf/math/pgfmathcalc.code.tex\n",
      "(/usr/local/texlive/2017/texmf-dist/tex/generic/pgf/math/pgfmathutil.code.tex)\n",
      "(/usr/local/texlive/2017/texmf-dist/tex/generic/pgf/math/pgfmathparser.code.tex\n",
      ")\n",
      "(/usr/local/texlive/2017/texmf-dist/tex/generic/pgf/math/pgfmathfunctions.code.\n",
      "tex\n",
      "(/usr/local/texlive/2017/texmf-dist/tex/generic/pgf/math/pgfmathfunctions.basic\n",
      ".code.tex)\n",
      "(/usr/local/texlive/2017/texmf-dist/tex/generic/pgf/math/pgfmathfunctions.trigo\n",
      "nometric.code.tex)\n",
      "(/usr/local/texlive/2017/texmf-dist/tex/generic/pgf/math/pgfmathfunctions.rando\n",
      "m.code.tex)\n",
      "(/usr/local/texlive/2017/texmf-dist/tex/generic/pgf/math/pgfmathfunctions.compa\n",
      "rison.code.tex)\n",
      "(/usr/local/texlive/2017/texmf-dist/tex/generic/pgf/math/pgfmathfunctions.base.\n",
      "code.tex)\n",
      "(/usr/local/texlive/2017/texmf-dist/tex/generic/pgf/math/pgfmathfunctions.round\n",
      ".code.tex)\n",
      "(/usr/local/texlive/2017/texmf-dist/tex/generic/pgf/math/pgfmathfunctions.misc.\n",
      "code.tex)\n",
      "(/usr/local/texlive/2017/texmf-dist/tex/generic/pgf/math/pgfmathfunctions.integ\n",
      "erarithmetics.code.tex)))\n",
      "(/usr/local/texlive/2017/texmf-dist/tex/generic/pgf/math/pgfmathfloat.code.tex)\n",
      ")\n",
      "(/usr/local/texlive/2017/texmf-dist/tex/generic/pgf/basiclayer/pgfcorepoints.co\n",
      "de.tex)\n",
      "(/usr/local/texlive/2017/texmf-dist/tex/generic/pgf/basiclayer/pgfcorepathconst\n",
      "ruct.code.tex)\n",
      "(/usr/local/texlive/2017/texmf-dist/tex/generic/pgf/basiclayer/pgfcorepathusage\n",
      ".code.tex)\n",
      "(/usr/local/texlive/2017/texmf-dist/tex/generic/pgf/basiclayer/pgfcorescopes.co\n",
      "de.tex)\n",
      "(/usr/local/texlive/2017/texmf-dist/tex/generic/pgf/basiclayer/pgfcoregraphicst\n",
      "ate.code.tex)\n",
      "(/usr/local/texlive/2017/texmf-dist/tex/generic/pgf/basiclayer/pgfcoretransform\n",
      "ations.code.tex)\n",
      "(/usr/local/texlive/2017/texmf-dist/tex/generic/pgf/basiclayer/pgfcorequick.cod\n",
      "e.tex)\n",
      "(/usr/local/texlive/2017/texmf-dist/tex/generic/pgf/basiclayer/pgfcoreobjects.c\n",
      "ode.tex)\n",
      "(/usr/local/texlive/2017/texmf-dist/tex/generic/pgf/basiclayer/pgfcorepathproce\n",
      "ssing.code.tex)\n",
      "(/usr/local/texlive/2017/texmf-dist/tex/generic/pgf/basiclayer/pgfcorearrows.co\n",
      "de.tex)\n",
      "(/usr/local/texlive/2017/texmf-dist/tex/generic/pgf/basiclayer/pgfcoreshade.cod\n",
      "e.tex)\n",
      "(/usr/local/texlive/2017/texmf-dist/tex/generic/pgf/basiclayer/pgfcoreimage.cod\n",
      "e.tex\n",
      "(/usr/local/texlive/2017/texmf-dist/tex/generic/pgf/basiclayer/pgfcoreexternal.\n",
      "code.tex))\n",
      "(/usr/local/texlive/2017/texmf-dist/tex/generic/pgf/basiclayer/pgfcorelayers.co\n",
      "de.tex)\n",
      "(/usr/local/texlive/2017/texmf-dist/tex/generic/pgf/basiclayer/pgfcoretranspare\n",
      "ncy.code.tex)\n",
      "(/usr/local/texlive/2017/texmf-dist/tex/generic/pgf/basiclayer/pgfcorepatterns.\n",
      "code.tex)))\n",
      "(/usr/local/texlive/2017/texmf-dist/tex/generic/pgf/modules/pgfmoduleshapes.cod\n",
      "e.tex)\n",
      "(/usr/local/texlive/2017/texmf-dist/tex/generic/pgf/modules/pgfmoduleplot.code.\n",
      "tex)\n",
      "(/usr/local/texlive/2017/texmf-dist/tex/latex/pgf/compatibility/pgfcomp-version\n",
      "-0-65.sty)\n",
      "(/usr/local/texlive/2017/texmf-dist/tex/latex/pgf/compatibility/pgfcomp-version\n",
      "-1-18.sty))\n",
      "(/usr/local/texlive/2017/texmf-dist/tex/latex/pgf/utilities/pgffor.sty\n",
      "(/usr/local/texlive/2017/texmf-dist/tex/latex/pgf/utilities/pgfkeys.sty\n",
      "(/usr/local/texlive/2017/texmf-dist/tex/generic/pgf/utilities/pgfkeys.code.tex)\n",
      ") (/usr/local/texlive/2017/texmf-dist/tex/latex/pgf/math/pgfmath.sty\n",
      "(/usr/local/texlive/2017/texmf-dist/tex/generic/pgf/math/pgfmath.code.tex))\n",
      "(/usr/local/texlive/2017/texmf-dist/tex/generic/pgf/utilities/pgffor.code.tex\n",
      "(/usr/local/texlive/2017/texmf-dist/tex/generic/pgf/math/pgfmath.code.tex)))\n",
      "(/usr/local/texlive/2017/texmf-dist/tex/generic/pgf/frontendlayer/tikz/tikz.cod\n",
      "e.tex\n",
      "(/usr/local/texlive/2017/texmf-dist/tex/generic/pgf/libraries/pgflibraryplothan\n",
      "dlers.code.tex)\n",
      "(/usr/local/texlive/2017/texmf-dist/tex/generic/pgf/modules/pgfmodulematrix.cod\n",
      "e.tex)\n",
      "(/usr/local/texlive/2017/texmf-dist/tex/generic/pgf/frontendlayer/tikz/librarie\n",
      "s/tikzlibrarytopaths.code.tex)))\n",
      "(/usr/local/texlive/2017/texmf-dist/tex/latex/tkz-euclide/tkz-euclide.sty\n",
      "(/usr/local/texlive/2017/texmf-dist/tex/latex/tkz-base/tkz-base.sty\n",
      "(/usr/local/texlive/2017/texmf-dist/tex/latex/etex-pkg/etex.sty)\n",
      "(/usr/local/texlive/2017/texmf-dist/tex/generic/pgf/frontendlayer/tikz/librarie\n",
      "s/tikzlibrarycalc.code.tex)\n",
      "(/usr/local/texlive/2017/texmf-dist/tex/generic/pgf/frontendlayer/tikz/librarie\n",
      "s/tikzlibraryarrows.code.tex\n",
      "(/usr/local/texlive/2017/texmf-dist/tex/generic/pgf/libraries/pgflibraryarrows.\n",
      "code.tex))\n",
      "(/usr/local/texlive/2017/texmf-dist/tex/generic/pgf/frontendlayer/tikz/librarie\n",
      "s/tikzlibraryplotmarks.code.tex\n",
      "(/usr/local/texlive/2017/texmf-dist/tex/generic/pgf/libraries/pgflibraryplotmar\n",
      "ks.code.tex))\n",
      "(/usr/local/texlive/2017/texmf-dist/tex/generic/pgf/frontendlayer/tikz/librarie\n",
      "s/tikzlibrarypositioning.code.tex)\n",
      "(/usr/local/texlive/2017/texmf-dist/tex/generic/pgf/frontendlayer/tikz/librarie\n",
      "s/tikzlibraryshapes.misc.code.tex\n",
      "(/usr/local/texlive/2017/texmf-dist/tex/generic/pgf/libraries/shapes/pgflibrary\n"
     ]
    },
    {
     "name": "stdout",
     "output_type": "stream",
     "text": [
      "shapes.misc.code.tex))\n",
      "(/usr/local/texlive/2017/texmf-dist/tex/generic/pgf/frontendlayer/tikz/librarie\n",
      "s/tikzlibrarydecorations.code.tex\n",
      "(/usr/local/texlive/2017/texmf-dist/tex/generic/pgf/modules/pgfmoduledecoration\n",
      "s.code.tex))\n",
      "(/usr/local/texlive/2017/texmf-dist/tex/generic/pgf/frontendlayer/tikz/librarie\n",
      "s/tikzlibrarydecorations.markings.code.tex\n",
      "(/usr/local/texlive/2017/texmf-dist/tex/generic/pgf/libraries/decorations/pgfli\n",
      "brarydecorations.markings.code.tex))\n",
      "(/usr/local/texlive/2017/texmf-dist/tex/generic/pgf/frontendlayer/tikz/librarie\n",
      "s/tikzlibrarydecorations.pathreplacing.code.tex\n",
      "(/usr/local/texlive/2017/texmf-dist/tex/generic/pgf/libraries/decorations/pgfli\n",
      "brarydecorations.pathreplacing.code.tex))\n",
      "(/usr/local/texlive/2017/texmf-dist/tex/generic/pgf/frontendlayer/tikz/librarie\n",
      "s/tikzlibrarypatterns.code.tex\n",
      "(/usr/local/texlive/2017/texmf-dist/tex/generic/pgf/libraries/pgflibrarypattern\n",
      "s.code.tex))\n",
      "(/usr/local/texlive/2017/texmf-dist/tex/latex/numprint/numprint.sty\n",
      "(/usr/local/texlive/2017/texmf-dist/tex/latex/tools/array.sty)\n",
      "No configuration file `numprint.cfg' found.)\n",
      "(/usr/local/texlive/2017/texmf-dist/tex/latex/fp/fp.sty\n",
      "`Fixed Point Package', Version 0.8, April 2, 1995 (C) Michael Mehlich\n",
      "(/usr/local/texlive/2017/texmf-dist/tex/latex/fp/defpattern.sty)\n",
      "(/usr/local/texlive/2017/texmf-dist/tex/latex/fp/fp-basic.sty)\n",
      "(/usr/local/texlive/2017/texmf-dist/tex/latex/fp/fp-addons.sty)\n",
      "(/usr/local/texlive/2017/texmf-dist/tex/latex/fp/fp-snap.sty)\n",
      "(/usr/local/texlive/2017/texmf-dist/tex/latex/fp/fp-exp.sty)\n",
      "(/usr/local/texlive/2017/texmf-dist/tex/latex/fp/fp-trigo.sty)\n",
      "(/usr/local/texlive/2017/texmf-dist/tex/latex/fp/fp-pas.sty)\n",
      "(/usr/local/texlive/2017/texmf-dist/tex/latex/fp/fp-random.sty)\n",
      "(/usr/local/texlive/2017/texmf-dist/tex/latex/fp/fp-eqn.sty)\n",
      "(/usr/local/texlive/2017/texmf-dist/tex/latex/fp/fp-upn.sty)\n",
      "(/usr/local/texlive/2017/texmf-dist/tex/latex/fp/fp-eval.sty))\n",
      "(/usr/local/texlive/2017/texmf-dist/tex/latex/tkz-base/tkz-tools-utilities.tex)\n",
      "(/usr/local/texlive/2017/texmf-dist/tex/latex/tkz-base/tkz-tools-arith.tex)\n",
      "(/usr/local/texlive/2017/texmf-dist/tex/latex/tkz-base/tkz-tools-base.tex)\n",
      "(/usr/local/texlive/2017/texmf-dist/tex/latex/tkz-base/tkz-tools-misc.tex)\n",
      "(/usr/local/texlive/2017/texmf-dist/tex/latex/tkz-base/tkz-tools-math.tex)\n",
      "(/usr/local/texlive/2017/texmf-dist/tex/latex/tkz-base/tkz-obj-points.tex)\n",
      "(/usr/local/texlive/2017/texmf-dist/tex/latex/tkz-base/tkz-obj-segments.tex)\n",
      "(/usr/local/texlive/2017/texmf-dist/tex/latex/tkz-base/tkz-obj-marks.tex))\n",
      "(/usr/local/texlive/2017/texmf-dist/tex/latex/tkz-euclide/tkz-tools-intersectio\n",
      "ns.tex)\n",
      "(/usr/local/texlive/2017/texmf-dist/tex/latex/tkz-euclide/tkz-tools-transformat\n",
      "ions.tex)\n",
      "(/usr/local/texlive/2017/texmf-dist/tex/latex/tkz-euclide/tkz-obj-lines.tex)\n",
      "(/usr/local/texlive/2017/texmf-dist/tex/latex/tkz-euclide/tkz-lib-symbols.tex)\n",
      "(/usr/local/texlive/2017/texmf-dist/tex/latex/tkz-euclide/tkz-obj-circles.tex)\n",
      "(/usr/local/texlive/2017/texmf-dist/tex/latex/tkz-euclide/tkz-obj-addpoints.tex\n",
      "))\n",
      "(/usr/local/texlive/2017/texmf-dist/tex/latex/tkz-euclide/tkz-obj-polygons.tex)\n",
      "(/usr/local/texlive/2017/texmf-dist/tex/latex/tkz-euclide/tkz-obj-vectors.tex)\n",
      "(/usr/local/texlive/2017/texmf-dist/tex/latex/tkz-euclide/tkz-obj-arcs.tex)\n",
      "(/usr/local/texlive/2017/texmf-dist/tex/latex/tkz-euclide/tkz-obj-sectors.tex)\n",
      "(/usr/local/texlive/2017/texmf-dist/tex/latex/tkz-euclide/tkz-obj-angles.tex)\n",
      "(/usr/local/texlive/2017/texmf-dist/tex/latex/tkz-euclide/tkz-obj-protractor.te\n",
      "x)\n",
      "No file tikz.aux.\n",
      "(/usr/local/texlive/2017/texmf-dist/tex/context/base/mkii/supp-pdf.mkii\n",
      "[Loading MPS to PDF converter (version 2006.09.02).]\n",
      ") (/usr/local/texlive/2017/texmf-dist/tex/generic/oberdiek/pdftexcmds.sty)\n",
      "(/usr/local/texlive/2017/texmf-dist/tex/latex/oberdiek/epstopdf-base.sty\n",
      "(/usr/local/texlive/2017/texmf-dist/tex/latex/oberdiek/grfext.sty\n",
      "(/usr/local/texlive/2017/texmf-dist/tex/generic/oberdiek/kvdefinekeys.sty))\n",
      "(/usr/local/texlive/2017/texmf-dist/tex/latex/oberdiek/kvoptions.sty\n",
      "(/usr/local/texlive/2017/texmf-dist/tex/generic/oberdiek/kvsetkeys.sty\n",
      "(/usr/local/texlive/2017/texmf-dist/tex/generic/oberdiek/etexcmds.sty)))\n",
      "(/usr/local/texlive/2017/texmf-dist/tex/latex/latexconfig/epstopdf-sys.cfg))\n",
      "ABD: EveryShipout initializing macros [1{/usr/local/texlive/2017/texmf-var/font\n",
      "s/map/pdftex/updmap/pdftex.map}] (./tikz.aux) )</usr/local/texlive/2017/texmf-d\n",
      "ist/fonts/type1/public/amsfonts/cm/cmbx12.pfb></usr/local/texlive/2017/texmf-di\n",
      "st/fonts/type1/public/amsfonts/cm/cmr17.pfb>\n",
      "Output written on tikz.pdf (1 page, 29943 bytes).\n",
      "Transcript written on tikz.log.\n",
      " (./tikz.aux)\n",
      "Class standalone:\n",
      "Output written on tikz.png.\n",
      " ) )\n",
      "No pages of output.\n",
      "Transcript written on tikz.log.\n"
     ]
    },
    {
     "data": {
      "image/png": "[encoded data removed]"
     },
     "metadata": {},
     "output_type": "display_data"
    }
   ],
   "source": [
    "%%tikz -l arrows -s 1000,400 -sc 0.65\n",
    "\n",
    "\\definecolor{nice-red}{HTML}{E41A1C}\n",
    "\\definecolor{nice-orange}{HTML}{FF7F00}\n",
    "\\definecolor{nice-yellow}{HTML}{FFC020}\n",
    "\\definecolor{nice-green}{HTML}{4DAF4A}\n",
    "\\definecolor{nice-blue}{HTML}{377EB8}\n",
    "\\definecolor{nice-purple}{HTML}{984EA3}\n",
    "\n",
    "\\newcommand{\\lstm}{\n",
    "%lstm first step\n",
    "\n",
    "%lstm module box\n",
    "\\draw[line width=3pt, color=black!50] (-6,-3) rectangle (1.5,5.25);\n",
    "\\draw[ultra thick] (0,0) rectangle (1,2);\n",
    "\n",
    "%memory ct\n",
    "\\draw[ultra thick, color=nice-purple, fill=nice-purple!10] (0,0) rectangle (1,2);\n",
    "\n",
    "%non-linearities\n",
    "\\foreach \\w/\\h/\\color in {-2/4.25/nice-blue,-2/1/nice-red,-2/-1/nice-green,0.5/-2/nice-yellow,0.5/3/black} {\n",
    "    \\begin{scope}[shift={(\\w,\\h)},scale=0.5]\n",
    "        \\draw[ultra thick, yshift=-0.5cm, color=\\color] plot [domain=-0.3:0.3](\\x, {(0.8/(1+exp(-15*\\x))+0.1)});\n",
    "        \\draw[ultra thick, color=\\color] (0,0) circle (0.5cm);\n",
    "    \\end{scope}\n",
    "}\n",
    "\n",
    "%tanh\n",
    "\\draw[thick, color=black] (0.25,3) -- (0.75,3);\n",
    "\\draw[thick, color=nice-yellow] (0.25,-2) -- (0.75,-2);\n",
    "    \n",
    "    \n",
    "%component-wise multiplications\n",
    "\\foreach \\w/\\h in {-1/1,0.5/-1,0.5/4.25} {\n",
    "    \\begin{scope}[shift={(\\w,\\h)},scale=0.5]\n",
    "        \\draw[ultra thick, color=black] (0,0) circle (0.05cm);\n",
    "        \\draw[ultra thick, color=black] (0,0) circle (0.5cm);\n",
    "    \\end{scope}\n",
    "}\n",
    "\n",
    "%vector concat\n",
    "\\begin{scope}[shift={(-4,1)},scale=0.5]\n",
    "    \\draw[ultra thick,yshift=0.2cm] (0,0) circle (0.05cm);\n",
    "    \\draw[ultra thick,yshift=-0.2cm] (0,0) circle (0.05cm);\n",
    "    \\draw[ultra thick] (0,0) circle (0.5cm);\n",
    "\\end{scope}\n",
    "\n",
    "\n",
    "\\foreach \\fx/\\fy/\\tx/\\ty in {\n",
    "    -5/-3.5/-5/0.85, %xt\n",
    "    -5/0.85/-4.2/0.85,\n",
    "    -6.5/4.25/-5/4.25, %ht1\n",
    "    -5/4.25/-5/1.15,\n",
    "    -5/1.15/-4.2/1.15,\n",
    "    -3.75/1/-3/1, %H\n",
    "    -3/4.25/-3/-2,\n",
    "    -3/-2/0.25/-2, %i\n",
    "    0.5/-1.75/0.5/-1.25,\n",
    "    -3/-1/-2.25/-1, %it\n",
    "    -1.75/-1/0.25/-1,\n",
    "    -3/1/-2.25/1, %ft\n",
    "    -1.75/1/-1.25/1,\n",
    "    -0.75/1/0/1,\n",
    "    -3/4.25/-2.25/4.25, %ot\n",
    "    -1.75/4.25/0.25/4.25,\n",
    "    0.5/2/0.5/2.75, %ct\n",
    "    -5.5/2/-5.1/2, %ct1\n",
    "    -5.5/2/-5.5/1,\n",
    "    -6.5/1/-5.5/1,\n",
    "    -4.9/2/-3.1/2,\n",
    "    -2.9/2/-1/2,\n",
    "    -1/2/-1/1.25   \n",
    "} {\n",
    "    \\draw[ultra thick] (\\fx,\\fy) -- (\\tx,\\ty);\n",
    "}\n",
    "\n",
    "\\foreach \\fx/\\fy/\\tx/\\ty in {\n",
    "    0.5/-0.75/0.5/0, %it\n",
    "    -0.75/1/0/1, %ft\n",
    "    1/1/2.25/1,\n",
    "    0.5/3.25/0.5/4,\n",
    "    0.75/4.25/2.25/4.25, %ht    \n",
    "    0.5/4.5/0.5/6    \n",
    "} {\n",
    "    \\draw[->, >=stealth', ultra thick] (\\fx,\\fy) -- (\\tx,\\ty);\n",
    "}\n",
    "}\n",
    "\n",
    "\\begin{scope}[scale=0.8]                    \n",
    "\\foreach \\d in {0} {                    \n",
    "\\foreach \\t/\\word in {0/A,1/wedding,2/party,3/taking,4/pictures} {  \n",
    "    \\node[font=\\Huge, anchor=west] at (\\t*8.5-5.75,-4.5) {$\\mathbf{v}$\\_\\word};                                                                                \n",
    "    \\begin{scope}[shift={(\\t*8.5+\\d*5.5,\\d*9.5)}]  \n",
    "        \\lstm                    \n",
    "    \\end{scope}   \n",
    "}\n",
    "}\n",
    "\\end{scope}          \n",
    "\n",
    "\\node[font=\\Huge, anchor=west] at (27,5.75) {$\\mathbf{v}$\\_Sentence};                                                                                \n",
    "          \n",
    "\n",
    "\\draw[line width=10pt, color=nice-red, opacity=0.8] (27.6,5) -- (27.6,0.75);\n",
    "\\draw[line width=10pt, color=nice-red, opacity=0.8] (27.5,0.75) -- (3,0.75);\n",
    "\\draw[->, >=stealth', line width=10pt, color=nice-red, opacity=0.8] (2.75,0.75) -- (2.75,-3);\n",
    "          \n",
    "          \n",
    "%dummy node for left alignment\n",
    "\\node[] at (17,0) {};          "
   ]
  },
  {
   "cell_type": "code",
   "execution_count": 8,
   "metadata": {
    "hideCode": true,
    "hide_input": true,
    "scrolled": false,
    "slideshow": {
     "slide_type": "skip"
    }
   },
   "outputs": [
    {
     "name": "stderr",
     "output_type": "stream",
     "text": [
      "LaTeX terminated with signal -1\n",
      "No image generated.\n"
     ]
    },
    {
     "data": {
      "text/plain": [
       "This is pdfTeX, Version 3.14159265-2.6-1.40.20 (TeX Live 2019/Debian) (preloaded format=pdflatex 2020.5.27)  19 SEP 2022 09:15\n",
       "entering extended mode\n",
       " \\write18 enabled.\n",
       " %&-line parsing enabled.\n",
       "**tikz.tex\n",
       "(./tikz.tex\n",
       "LaTeX2e <2020-02-02> patch level 2\n",
       "L3 programming layer <2020-02-14>\n",
       "(/usr/share/texlive/texmf-dist/tex/latex/standalone/standalone.cls\n",
       "Document Class: standalone 2018/03/26 v1.3a Class to compile TeX sub-files stan\n",
       "dalone\n",
       "(/usr/share/texlive/texmf-dist/tex/latex/tools/shellesc.sty\n",
       "Package: shellesc 2019/11/08 v1.0c unified shell escape interface for LaTeX\n",
       "Package shellesc Info: Unrestricted shell escape enabled on input line 75.\n",
       ")\n",
       "(/usr/share/texlive/texmf-dist/tex/generic/iftex/ifluatex.sty\n",
       "Package: ifluatex 2019/10/25 v1.5 ifluatex legacy package. Use iftex instead.\n",
       "\n",
       "(/usr/share/texlive/texmf-dist/tex/generic/iftex/iftex.sty\n",
       "Package: iftex 2019/11/07 v1.0c TeX engine tests\n",
       "))\n",
       "(/usr/share/texlive/texmf-dist/tex/latex/xkeyval/xkeyval.sty\n",
       "Package: xkeyval 2014/12/03 v2.7a package option processing (HA)\n",
       "\n",
       "(/usr/share/texlive/texmf-dist/tex/generic/xkeyval/xkeyval.tex\n",
       "(/usr/share/texlive/texmf-dist/tex/generic/xkeyval/xkvutils.tex\n",
       "\\XKV@toks=\\toks14\n",
       "\\XKV@tempa@toks=\\toks15\n",
       "\n",
       "(/usr/share/texlive/texmf-dist/tex/generic/xkeyval/keyval.tex))\n",
       "\\XKV@depth=\\count167\n",
       "File: xkeyval.tex 2014/12/03 v2.7a key=value parser (HA)\n",
       "))\n",
       "\\sa@internal=\\count168\n",
       "\\c@sapage=\\count169\n",
       "\n",
       "(/usr/share/texlive/texmf-dist/tex/latex/standalone/standalone.cfg\n",
       "File: standalone.cfg 2018/03/26 v1.3a Default configuration file for 'standalon\n",
       "e' class\n",
       ")\n",
       "(/usr/share/texlive/texmf-dist/tex/latex/base/article.cls\n",
       "Document Class: article 2019/12/20 v1.4l Standard LaTeX document class\n",
       "(/usr/share/texlive/texmf-dist/tex/latex/base/size10.clo\n",
       "File: size10.clo 2019/12/20 v1.4l Standard LaTeX file (size option)\n",
       ")\n",
       "\\c@part=\\count170\n",
       "\\c@section=\\count171\n",
       "\\c@subsection=\\count172\n",
       "\\c@subsubsection=\\count173\n",
       "\\c@paragraph=\\count174\n",
       "\\c@subparagraph=\\count175\n",
       "\\c@figure=\\count176\n",
       "\\c@table=\\count177\n",
       "\\abovecaptionskip=\\skip47\n",
       "\\belowcaptionskip=\\skip48\n",
       "\\bibindent=\\dimen134\n",
       ")\n",
       "\\sa@box=\\box45\n",
       "runsystem(pdflatex  -shell-escape  -jobname 'tikz' '\\expandafter\\def\\csname sa@\n",
       "internal@run\\endcsname{1}\\input{tikz}')...executed.\n",
       "\n",
       "runsystem(convert -density 300 -units PixelsPerInch tikz.pdf -resize 1100x500 -\n",
       "quality 90 tikz.png)...executed.\n",
       "\n",
       "\n",
       "\n",
       "Class standalone Warning: Conversion unsuccessful!\n",
       "(standalone)              There might be something wrong with your\n",
       "(standalone)              conversation software or the file permissions!\n",
       "\n",
       ") (/usr/share/texlive/texmf-dist/tex/latex/xcolor/xcolor.sty\n",
       "Package: xcolor 2016/05/11 v2.12 LaTeX color extensions (UK)\n",
       "\n",
       "(/usr/share/texlive/texmf-dist/tex/latex/graphics-cfg/color.cfg\n",
       "File: color.cfg 2016/01/02 v1.6 sample color configuration\n",
       ")\n",
       "Package xcolor Info: Driver file: pdftex.def on input line 225.\n",
       "\n",
       "(/usr/share/texlive/texmf-dist/tex/latex/graphics-def/pdftex.def\n",
       "File: pdftex.def 2018/01/08 v1.0l Graphics/color driver for pdftex\n",
       ")\n",
       "Package xcolor Info: Model `cmy' substituted by `cmy0' on input line 1348.\n",
       "Package xcolor Info: Model `hsb' substituted by `rgb' on input line 1352.\n",
       "Package xcolor Info: Model `RGB' extended on input line 1364.\n",
       "Package xcolor Info: Model `HTML' substituted by `rgb' on input line 1366.\n",
       "Package xcolor Info: Model `Hsb' substituted by `hsb' on input line 1367.\n",
       "Package xcolor Info: Model `tHsb' substituted by `hsb' on input line 1368.\n",
       "Package xcolor Info: Model `HSB' substituted by `hsb' on input line 1369.\n",
       "Package xcolor Info: Model `Gray' substituted by `gray' on input line 1370.\n",
       "Package xcolor Info: Model `wave' substituted by `hsb' on input line 1371.\n",
       ")\n",
       "(/usr/share/texlive/texmf-dist/tex/latex/psnfss/helvet.sty\n",
       "Package: helvet 2005/04/12 PSNFSS-v9.2a (WaS) \n",
       ")\n",
       "(/usr/share/texlive/texmf-dist/tex/latex/pgf/frontendlayer/tikz.sty\n",
       "(/usr/share/texlive/texmf-dist/tex/latex/pgf/basiclayer/pgf.sty\n",
       "(/usr/share/texlive/texmf-dist/tex/latex/pgf/utilities/pgfrcs.sty\n",
       "(/usr/share/texlive/texmf-dist/tex/generic/pgf/utilities/pgfutil-common.tex\n",
       "\\pgfutil@everybye=\\toks16\n",
       "\\pgfutil@tempdima=\\dimen135\n",
       "\\pgfutil@tempdimb=\\dimen136\n",
       "\n",
       "(/usr/share/texlive/texmf-dist/tex/generic/pgf/utilities/pgfutil-common-lists.t\n",
       "ex)) (/usr/share/texlive/texmf-dist/tex/generic/pgf/utilities/pgfutil-latex.def\n",
       "\\pgfutil@abb=\\box46\n",
       "(/usr/share/texlive/texmf-dist/tex/latex/ms/everyshi.sty\n",
       "Package: everyshi 2001/05/15 v3.00 EveryShipout Package (MS)\n",
       "))\n",
       "(/usr/share/texlive/texmf-dist/tex/generic/pgf/utilities/pgfrcs.code.tex\n",
       "(/usr/share/texlive/texmf-dist/tex/generic/pgf/pgf.revision.tex)\n",
       "Package: pgfrcs 2020/01/08 v3.1.5b (3.1.5b)\n",
       "))\n",
       "Package: pgf 2020/01/08 v3.1.5b (3.1.5b)\n",
       "\n",
       "(/usr/share/texlive/texmf-dist/tex/latex/pgf/basiclayer/pgfcore.sty\n",
       "(/usr/share/texlive/texmf-dist/tex/latex/graphics/graphicx.sty\n",
       "Package: graphicx 2019/11/30 v1.2a Enhanced LaTeX Graphics (DPC,SPQR)\n",
       "\n",
       "(/usr/share/texlive/texmf-dist/tex/latex/graphics/graphics.sty\n",
       "Package: graphics 2019/11/30 v1.4a Standard LaTeX Graphics (DPC,SPQR)\n",
       "\n",
       "(/usr/share/texlive/texmf-dist/tex/latex/graphics/trig.sty\n",
       "Package: trig 2016/01/03 v1.10 sin cos tan (DPC)\n",
       ")\n",
       "(/usr/share/texlive/texmf-dist/tex/latex/graphics-cfg/graphics.cfg\n",
       "File: graphics.cfg 2016/06/04 v1.11 sample graphics configuration\n",
       ")\n",
       "Package graphics Info: Driver file: pdftex.def on input line 105.\n",
       ")\n",
       "\\Gin@req@height=\\dimen137\n",
       "\\Gin@req@width=\\dimen138\n",
       ")\n",
       "(/usr/share/texlive/texmf-dist/tex/latex/pgf/systemlayer/pgfsys.sty\n",
       "(/usr/share/texlive/texmf-dist/tex/generic/pgf/systemlayer/pgfsys.code.tex\n",
       "Package: pgfsys 2020/01/08 v3.1.5b (3.1.5b)\n",
       "\n",
       "(/usr/share/texlive/texmf-dist/tex/generic/pgf/utilities/pgfkeys.code.tex\n",
       "\\pgfkeys@pathtoks=\\toks17\n",
       "\\pgfkeys@temptoks=\\toks18\n",
       "\n",
       "(/usr/share/texlive/texmf-dist/tex/generic/pgf/utilities/pgfkeysfiltered.code.t\n",
       "ex\n",
       "\\pgfkeys@tmptoks=\\toks19\n",
       "))\n",
       "\\pgf@x=\\dimen139\n",
       "\\pgf@y=\\dimen140\n",
       "\\pgf@xa=\\dimen141\n",
       "\\pgf@ya=\\dimen142\n",
       "\\pgf@xb=\\dimen143\n",
       "\\pgf@yb=\\dimen144\n",
       "\\pgf@xc=\\dimen145\n",
       "\\pgf@yc=\\dimen146\n",
       "\\pgf@xd=\\dimen147\n",
       "\\pgf@yd=\\dimen148\n",
       "\\w@pgf@writea=\\write3\n",
       "\\r@pgf@reada=\\read2\n",
       "\\c@pgf@counta=\\count178\n",
       "\\c@pgf@countb=\\count179\n",
       "\\c@pgf@countc=\\count180\n",
       "\\c@pgf@countd=\\count181\n",
       "\\t@pgf@toka=\\toks20\n",
       "\\t@pgf@tokb=\\toks21\n",
       "\\t@pgf@tokc=\\toks22\n",
       "\\pgf@sys@id@count=\\count182\n",
       " (/usr/share/texlive/texmf-dist/tex/generic/pgf/systemlayer/pgf.cfg\n",
       "File: pgf.cfg 2020/01/08 v3.1.5b (3.1.5b)\n",
       ")\n",
       "Driver file for pgf: pgfsys-pdftex.def\n",
       "\n",
       "(/usr/share/texlive/texmf-dist/tex/generic/pgf/systemlayer/pgfsys-pdftex.def\n",
       "File: pgfsys-pdftex.def 2020/01/08 v3.1.5b (3.1.5b)\n",
       "\n",
       "(/usr/share/texlive/texmf-dist/tex/generic/pgf/systemlayer/pgfsys-common-pdf.de\n",
       "f\n",
       "File: pgfsys-common-pdf.def 2020/01/08 v3.1.5b (3.1.5b)\n",
       ")))\n",
       "(/usr/share/texlive/texmf-dist/tex/generic/pgf/systemlayer/pgfsyssoftpath.code.\n",
       "tex\n",
       "File: pgfsyssoftpath.code.tex 2020/01/08 v3.1.5b (3.1.5b)\n",
       "\\pgfsyssoftpath@smallbuffer@items=\\count183\n",
       "\\pgfsyssoftpath@bigbuffer@items=\\count184\n",
       ")\n",
       "(/usr/share/texlive/texmf-dist/tex/generic/pgf/systemlayer/pgfsysprotocol.code.\n",
       "tex\n",
       "File: pgfsysprotocol.code.tex 2020/01/08 v3.1.5b (3.1.5b)\n",
       "))\n",
       "(/usr/share/texlive/texmf-dist/tex/generic/pgf/basiclayer/pgfcore.code.tex\n",
       "Package: pgfcore 2020/01/08 v3.1.5b (3.1.5b)\n",
       "\n",
       "(/usr/share/texlive/texmf-dist/tex/generic/pgf/math/pgfmath.code.tex\n",
       "(/usr/share/texlive/texmf-dist/tex/generic/pgf/math/pgfmathcalc.code.tex\n",
       "(/usr/share/texlive/texmf-dist/tex/generic/pgf/math/pgfmathutil.code.tex)\n",
       "(/usr/share/texlive/texmf-dist/tex/generic/pgf/math/pgfmathparser.code.tex\n",
       "\\pgfmath@dimen=\\dimen149\n",
       "\\pgfmath@count=\\count185\n",
       "\\pgfmath@box=\\box47\n",
       "\\pgfmath@toks=\\toks23\n",
       "\\pgfmath@stack@operand=\\toks24\n",
       "\\pgfmath@stack@operation=\\toks25\n",
       ")\n",
       "(/usr/share/texlive/texmf-dist/tex/generic/pgf/math/pgfmathfunctions.code.tex\n",
       "(/usr/share/texlive/texmf-dist/tex/generic/pgf/math/pgfmathfunctions.basic.code\n",
       ".tex)\n",
       "(/usr/share/texlive/texmf-dist/tex/generic/pgf/math/pgfmathfunctions.trigonomet\n",
       "ric.code.tex)\n",
       "(/usr/share/texlive/texmf-dist/tex/generic/pgf/math/pgfmathfunctions.random.cod\n",
       "e.tex)\n",
       "(/usr/share/texlive/texmf-dist/tex/generic/pgf/math/pgfmathfunctions.comparison\n",
       ".code.tex)\n",
       "(/usr/share/texlive/texmf-dist/tex/generic/pgf/math/pgfmathfunctions.base.code.\n",
       "tex)\n",
       "(/usr/share/texlive/texmf-dist/tex/generic/pgf/math/pgfmathfunctions.round.code\n",
       ".tex)\n",
       "(/usr/share/texlive/texmf-dist/tex/generic/pgf/math/pgfmathfunctions.misc.code.\n",
       "tex)\n",
       "(/usr/share/texlive/texmf-dist/tex/generic/pgf/math/pgfmathfunctions.integerari\n",
       "thmetics.code.tex)))\n",
       "(/usr/share/texlive/texmf-dist/tex/generic/pgf/math/pgfmathfloat.code.tex\n",
       "\\c@pgfmathroundto@lastzeros=\\count186\n",
       "))\n",
       "(/usr/share/texlive/texmf-dist/tex/generic/pgf/math/pgfint.code.tex)\n",
       "(/usr/share/texlive/texmf-dist/tex/generic/pgf/basiclayer/pgfcorepoints.code.te\n",
       "x\n",
       "File: pgfcorepoints.code.tex 2020/01/08 v3.1.5b (3.1.5b)\n",
       "\\pgf@picminx=\\dimen150\n",
       "\\pgf@picmaxx=\\dimen151\n",
       "\\pgf@picminy=\\dimen152\n",
       "\\pgf@picmaxy=\\dimen153\n",
       "\\pgf@pathminx=\\dimen154\n",
       "\\pgf@pathmaxx=\\dimen155\n",
       "\\pgf@pathminy=\\dimen156\n",
       "\\pgf@pathmaxy=\\dimen157\n",
       "\\pgf@xx=\\dimen158\n",
       "\\pgf@xy=\\dimen159\n",
       "\\pgf@yx=\\dimen160\n",
       "\\pgf@yy=\\dimen161\n",
       "\\pgf@zx=\\dimen162\n",
       "\\pgf@zy=\\dimen163\n",
       ")\n",
       "(/usr/share/texlive/texmf-dist/tex/generic/pgf/basiclayer/pgfcorepathconstruct.\n",
       "code.tex\n",
       "File: pgfcorepathconstruct.code.tex 2020/01/08 v3.1.5b (3.1.5b)\n",
       "\\pgf@path@lastx=\\dimen164\n",
       "\\pgf@path@lasty=\\dimen165\n",
       ")\n",
       "(/usr/share/texlive/texmf-dist/tex/generic/pgf/basiclayer/pgfcorepathusage.code\n",
       ".tex\n",
       "File: pgfcorepathusage.code.tex 2020/01/08 v3.1.5b (3.1.5b)\n",
       "\\pgf@shorten@end@additional=\\dimen166\n",
       "\\pgf@shorten@start@additional=\\dimen167\n",
       ")\n",
       "(/usr/share/texlive/texmf-dist/tex/generic/pgf/basiclayer/pgfcorescopes.code.te\n",
       "x\n",
       "File: pgfcorescopes.code.tex 2020/01/08 v3.1.5b (3.1.5b)\n",
       "\\pgfpic=\\box48\n",
       "\\pgf@hbox=\\box49\n",
       "\\pgf@layerbox@main=\\box50\n",
       "\\pgf@picture@serial@count=\\count187\n",
       ")\n",
       "(/usr/share/texlive/texmf-dist/tex/generic/pgf/basiclayer/pgfcoregraphicstate.c\n",
       "ode.tex\n",
       "File: pgfcoregraphicstate.code.tex 2020/01/08 v3.1.5b (3.1.5b)\n",
       "\\pgflinewidth=\\dimen168\n",
       ")\n",
       "(/usr/share/texlive/texmf-dist/tex/generic/pgf/basiclayer/pgfcoretransformation\n",
       "s.code.tex\n",
       "File: pgfcoretransformations.code.tex 2020/01/08 v3.1.5b (3.1.5b)\n",
       "\\pgf@pt@x=\\dimen169\n",
       "\\pgf@pt@y=\\dimen170\n",
       "\\pgf@pt@temp=\\dimen171\n",
       ")\n",
       "(/usr/share/texlive/texmf-dist/tex/generic/pgf/basiclayer/pgfcorequick.code.tex\n",
       "File: pgfcorequick.code.tex 2020/01/08 v3.1.5b (3.1.5b)\n",
       ")\n",
       "(/usr/share/texlive/texmf-dist/tex/generic/pgf/basiclayer/pgfcoreobjects.code.t\n",
       "ex\n",
       "File: pgfcoreobjects.code.tex 2020/01/08 v3.1.5b (3.1.5b)\n",
       ")\n",
       "(/usr/share/texlive/texmf-dist/tex/generic/pgf/basiclayer/pgfcorepathprocessing\n",
       ".code.tex\n",
       "File: pgfcorepathprocessing.code.tex 2020/01/08 v3.1.5b (3.1.5b)\n",
       ")\n",
       "(/usr/share/texlive/texmf-dist/tex/generic/pgf/basiclayer/pgfcorearrows.code.te\n",
       "x\n",
       "File: pgfcorearrows.code.tex 2020/01/08 v3.1.5b (3.1.5b)\n",
       "\\pgfarrowsep=\\dimen172\n",
       ")\n",
       "(/usr/share/texlive/texmf-dist/tex/generic/pgf/basiclayer/pgfcoreshade.code.tex\n",
       "File: pgfcoreshade.code.tex 2020/01/08 v3.1.5b (3.1.5b)\n",
       "\\pgf@max=\\dimen173\n",
       "\\pgf@sys@shading@range@num=\\count188\n",
       "\\pgf@shadingcount=\\count189\n",
       ")\n",
       "(/usr/share/texlive/texmf-dist/tex/generic/pgf/basiclayer/pgfcoreimage.code.tex\n",
       "File: pgfcoreimage.code.tex 2020/01/08 v3.1.5b (3.1.5b)\n",
       "\n",
       "(/usr/share/texlive/texmf-dist/tex/generic/pgf/basiclayer/pgfcoreexternal.code.\n",
       "tex\n",
       "File: pgfcoreexternal.code.tex 2020/01/08 v3.1.5b (3.1.5b)\n",
       "\\pgfexternal@startupbox=\\box51\n",
       "))\n",
       "(/usr/share/texlive/texmf-dist/tex/generic/pgf/basiclayer/pgfcorelayers.code.te\n",
       "x\n",
       "File: pgfcorelayers.code.tex 2020/01/08 v3.1.5b (3.1.5b)\n",
       ")\n",
       "(/usr/share/texlive/texmf-dist/tex/generic/pgf/basiclayer/pgfcoretransparency.c\n",
       "ode.tex\n",
       "File: pgfcoretransparency.code.tex 2020/01/08 v3.1.5b (3.1.5b)\n",
       ")\n",
       "(/usr/share/texlive/texmf-dist/tex/generic/pgf/basiclayer/pgfcorepatterns.code.\n",
       "tex\n",
       "File: pgfcorepatterns.code.tex 2020/01/08 v3.1.5b (3.1.5b)\n",
       ")\n",
       "(/usr/share/texlive/texmf-dist/tex/generic/pgf/basiclayer/pgfcorerdf.code.tex\n",
       "File: pgfcorerdf.code.tex 2020/01/08 v3.1.5b (3.1.5b)\n",
       ")))\n",
       "(/usr/share/texlive/texmf-dist/tex/generic/pgf/modules/pgfmoduleshapes.code.tex\n",
       "File: pgfmoduleshapes.code.tex 2020/01/08 v3.1.5b (3.1.5b)\n",
       "\\pgfnodeparttextbox=\\box52\n",
       ") (/usr/share/texlive/texmf-dist/tex/generic/pgf/modules/pgfmoduleplot.code.tex\n",
       "File: pgfmoduleplot.code.tex 2020/01/08 v3.1.5b (3.1.5b)\n",
       ")\n",
       "(/usr/share/texlive/texmf-dist/tex/latex/pgf/compatibility/pgfcomp-version-0-65\n",
       ".sty\n",
       "Package: pgfcomp-version-0-65 2020/01/08 v3.1.5b (3.1.5b)\n",
       "\\pgf@nodesepstart=\\dimen174\n",
       "\\pgf@nodesepend=\\dimen175\n",
       ")\n",
       "(/usr/share/texlive/texmf-dist/tex/latex/pgf/compatibility/pgfcomp-version-1-18\n",
       ".sty\n",
       "Package: pgfcomp-version-1-18 2020/01/08 v3.1.5b (3.1.5b)\n",
       ")) (/usr/share/texlive/texmf-dist/tex/latex/pgf/utilities/pgffor.sty\n",
       "(/usr/share/texlive/texmf-dist/tex/latex/pgf/utilities/pgfkeys.sty\n",
       "(/usr/share/texlive/texmf-dist/tex/generic/pgf/utilities/pgfkeys.code.tex))\n",
       "(/usr/share/texlive/texmf-dist/tex/latex/pgf/math/pgfmath.sty\n",
       "(/usr/share/texlive/texmf-dist/tex/generic/pgf/math/pgfmath.code.tex))\n",
       "(/usr/share/texlive/texmf-dist/tex/generic/pgf/utilities/pgffor.code.tex\n",
       "Package: pgffor 2020/01/08 v3.1.5b (3.1.5b)\n",
       "\n",
       "(/usr/share/texlive/texmf-dist/tex/generic/pgf/math/pgfmath.code.tex)\n",
       "\\pgffor@iter=\\dimen176\n",
       "\\pgffor@skip=\\dimen177\n",
       "\\pgffor@stack=\\toks26\n",
       "\\pgffor@toks=\\toks27\n",
       "))\n",
       "(/usr/share/texlive/texmf-dist/tex/generic/pgf/frontendlayer/tikz/tikz.code.tex\n",
       "Package: tikz 2020/01/08 v3.1.5b (3.1.5b)\n",
       "\n",
       "(/usr/share/texlive/texmf-dist/tex/generic/pgf/libraries/pgflibraryplothandlers\n",
       ".code.tex\n",
       "File: pgflibraryplothandlers.code.tex 2020/01/08 v3.1.5b (3.1.5b)\n",
       "\\pgf@plot@mark@count=\\count190\n",
       "\\pgfplotmarksize=\\dimen178\n",
       ")\n",
       "\\tikz@lastx=\\dimen179\n",
       "\\tikz@lasty=\\dimen180\n",
       "\\tikz@lastxsaved=\\dimen181\n",
       "\\tikz@lastysaved=\\dimen182\n",
       "\\tikz@lastmovetox=\\dimen183\n",
       "\\tikz@lastmovetoy=\\dimen184\n",
       "\\tikzleveldistance=\\dimen185\n",
       "\\tikzsiblingdistance=\\dimen186\n",
       "\\tikz@figbox=\\box53\n",
       "\\tikz@figbox@bg=\\box54\n",
       "\\tikz@tempbox=\\box55\n",
       "\\tikz@tempbox@bg=\\box56\n",
       "\\tikztreelevel=\\count191\n",
       "\\tikznumberofchildren=\\count192\n",
       "\\tikznumberofcurrentchild=\\count193\n",
       "\\tikz@fig@count=\\count194\n",
       "\n",
       "(/usr/share/texlive/texmf-dist/tex/generic/pgf/modules/pgfmodulematrix.code.tex\n",
       "File: pgfmodulematrix.code.tex 2020/01/08 v3.1.5b (3.1.5b)\n",
       "\\pgfmatrixcurrentrow=\\count195\n",
       "\\pgfmatrixcurrentcolumn=\\count196\n",
       "\\pgf@matrix@numberofcolumns=\\count197\n",
       ")\n",
       "\\tikz@expandcount=\\count198\n",
       "\n",
       "(/usr/share/texlive/texmf-dist/tex/generic/pgf/frontendlayer/tikz/libraries/tik\n",
       "zlibrarytopaths.code.tex\n",
       "File: tikzlibrarytopaths.code.tex 2020/01/08 v3.1.5b (3.1.5b)\n",
       ")))\n",
       "(/usr/share/texlive/texmf-dist/tex/latex/tkz-euclide/tkz-euclide.sty\n",
       "2020/01/24 3.02c tkz-euclide.sty\n",
       "Package: tkz-euclide 2020/01/24 3.02c for euclidan geometry \n",
       "(/usr/share/texlive/texmf-dist/tex/latex/tkz-base/tkz-base.sty\n",
       "2020/01/24 3.02c tkz-base.sty\n",
       "Package: tkz-base 2020/01/24 3.02c tkz-base\n",
       "\n",
       "(/usr/share/texlive/texmf-dist/tex/generic/pgf/frontendlayer/tikz/libraries/tik\n",
       "zlibraryangles.code.tex\n",
       "File: tikzlibraryangles.code.tex 2020/01/08 v3.1.5b (3.1.5b)\n",
       ")\n",
       "(/usr/share/texlive/texmf-dist/tex/generic/pgf/frontendlayer/tikz/libraries/tik\n",
       "zlibraryarrows.code.tex\n",
       "File: tikzlibraryarrows.code.tex 2020/01/08 v3.1.5b (3.1.5b)\n",
       "\n",
       "(/usr/share/texlive/texmf-dist/tex/generic/pgf/libraries/pgflibraryarrows.code.\n",
       "tex\n",
       "File: pgflibraryarrows.code.tex 2020/01/08 v3.1.5b (3.1.5b)\n",
       "\\arrowsize=\\dimen187\n",
       "))\n",
       "(/usr/share/texlive/texmf-dist/tex/generic/pgf/libraries/pgflibraryarrows.meta.\n",
       "code.tex\n",
       "File: pgflibraryarrows.meta.code.tex 2020/01/08 v3.1.5b (3.1.5b)\n",
       "\\pgfarrowinset=\\dimen188\n",
       "\\pgfarrowlength=\\dimen189\n",
       "\\pgfarrowwidth=\\dimen190\n",
       "\\pgfarrowlinewidth=\\dimen191\n",
       ")\n",
       "(/usr/share/texlive/texmf-dist/tex/generic/pgf/frontendlayer/tikz/libraries/tik\n",
       "zlibrarybabel.code.tex\n",
       "File: tikzlibrarybabel.code.tex 2020/01/08 v3.1.5b (3.1.5b)\n",
       ")\n",
       "(/usr/share/texlive/texmf-dist/tex/generic/pgf/frontendlayer/tikz/libraries/tik\n",
       "zlibrarycalc.code.tex\n",
       "File: tikzlibrarycalc.code.tex 2020/01/08 v3.1.5b (3.1.5b)\n",
       ")\n",
       "(/usr/share/texlive/texmf-dist/tex/generic/pgf/frontendlayer/tikz/libraries/tik\n",
       "zlibrarydecorations.code.tex\n",
       "(/usr/share/texlive/texmf-dist/tex/generic/pgf/modules/pgfmoduledecorations.cod\n",
       "e.tex\n",
       "\\pgfdecoratedcompleteddistance=\\dimen192\n",
       "\\pgfdecoratedremainingdistance=\\dimen193\n",
       "\\pgfdecoratedinputsegmentcompleteddistance=\\dimen194\n",
       "\\pgfdecoratedinputsegmentremainingdistance=\\dimen195\n",
       "\\pgf@decorate@distancetomove=\\dimen196\n",
       "\\pgf@decorate@repeatstate=\\count199\n",
       "\\pgfdecorationsegmentamplitude=\\dimen197\n",
       "\\pgfdecorationsegmentlength=\\dimen198\n",
       ")\n",
       "\\tikz@lib@dec@box=\\box57\n",
       ")\n",
       "(/usr/share/texlive/texmf-dist/tex/generic/pgf/frontendlayer/tikz/libraries/tik\n",
       "zlibrarydecorations.markings.code.tex\n",
       "(/usr/share/texlive/texmf-dist/tex/generic/pgf/libraries/decorations/pgflibrary\n",
       "decorations.markings.code.tex))\n",
       "(/usr/share/texlive/texmf-dist/tex/generic/pgf/frontendlayer/tikz/libraries/tik\n",
       "zlibrarydecorations.pathreplacing.code.tex\n",
       "(/usr/share/texlive/texmf-dist/tex/generic/pgf/libraries/decorations/pgflibrary\n",
       "decorations.pathreplacing.code.tex))\n",
       "(/usr/share/texlive/texmf-dist/tex/generic/pgf/frontendlayer/tikz/libraries/tik\n",
       "zlibrarydecorations.shapes.code.tex\n",
       "(/usr/share/texlive/texmf-dist/tex/generic/pgf/libraries/decorations/pgflibrary\n",
       "decorations.shapes.code.tex))\n",
       "(/usr/share/texlive/texmf-dist/tex/generic/pgf/frontendlayer/tikz/libraries/tik\n",
       "zlibrarydecorations.text.code.tex\n",
       "(/usr/share/texlive/texmf-dist/tex/generic/pgf/libraries/decorations/pgflibrary\n",
       "decorations.text.code.tex\n",
       "\\pgf@lib@dec@text@box=\\box58\n",
       ")\n",
       "\\tikz@lib@dec@te@box=\\box59\n",
       ")\n",
       "(/usr/share/texlive/texmf-dist/tex/generic/pgf/frontendlayer/tikz/libraries/tik\n",
       "zlibrarydecorations.pathmorphing.code.tex\n",
       "(/usr/share/texlive/texmf-dist/tex/generic/pgf/libraries/decorations/pgflibrary\n",
       "decorations.pathmorphing.code.tex))\n",
       "(/usr/share/texlive/texmf-dist/tex/generic/pgf/frontendlayer/tikz/libraries/tik\n",
       "zlibraryintersections.code.tex\n",
       "(/usr/share/texlive/texmf-dist/tex/generic/pgf/libraries/pgflibraryintersection\n",
       "s.code.tex\n",
       "(/usr/share/texlive/texmf-dist/tex/generic/pgf/libraries/pgflibraryfpu.code.tex\n",
       ")\n",
       "\\pgf@intersect@solutions=\\count266\n",
       "))\n",
       "(/usr/share/texlive/texmf-dist/tex/generic/pgf/frontendlayer/tikz/libraries/tik\n",
       "zlibrarypatterns.code.tex\n",
       "File: tikzlibrarypatterns.code.tex 2020/01/08 v3.1.5b (3.1.5b)\n",
       "\n",
       "(/usr/share/texlive/texmf-dist/tex/generic/pgf/libraries/pgflibrarypatterns.cod\n",
       "e.tex\n",
       "File: pgflibrarypatterns.code.tex 2020/01/08 v3.1.5b (3.1.5b)\n",
       "))\n",
       "(/usr/share/texlive/texmf-dist/tex/generic/pgf/frontendlayer/tikz/libraries/tik\n",
       "zlibraryplotmarks.code.tex\n",
       "File: tikzlibraryplotmarks.code.tex 2020/01/08 v3.1.5b (3.1.5b)\n",
       "\n",
       "(/usr/share/texlive/texmf-dist/tex/generic/pgf/libraries/pgflibraryplotmarks.co\n",
       "de.tex\n",
       "File: pgflibraryplotmarks.code.tex 2020/01/08 v3.1.5b (3.1.5b)\n",
       "))\n",
       "(/usr/share/texlive/texmf-dist/tex/generic/pgf/frontendlayer/tikz/libraries/tik\n",
       "zlibrarypositioning.code.tex\n",
       "File: tikzlibrarypositioning.code.tex 2020/01/08 v3.1.5b (3.1.5b)\n",
       ")\n",
       "(/usr/share/texlive/texmf-dist/tex/generic/pgf/frontendlayer/tikz/libraries/tik\n",
       "zlibraryquotes.code.tex\n",
       "File: tikzlibraryquotes.code.tex 2020/01/08 v3.1.5b (3.1.5b)\n",
       ")\n",
       "(/usr/share/texlive/texmf-dist/tex/generic/pgf/frontendlayer/tikz/libraries/tik\n",
       "zlibraryshadows.code.tex\n",
       "File: tikzlibraryshadows.code.tex 2020/01/08 v3.1.5b (3.1.5b)\n",
       "\n",
       "(/usr/share/texlive/texmf-dist/tex/generic/pgf/frontendlayer/tikz/libraries/tik\n",
       "zlibraryfadings.code.tex\n",
       "File: tikzlibraryfadings.code.tex 2020/01/08 v3.1.5b (3.1.5b)\n",
       "\n",
       "(/usr/share/texlive/texmf-dist/tex/generic/pgf/libraries/pgflibraryfadings.code\n",
       ".tex\n",
       "File: pgflibraryfadings.code.tex 2020/01/08 v3.1.5b (3.1.5b)\n",
       ")))\n",
       "(/usr/share/texlive/texmf-dist/tex/generic/pgf/frontendlayer/tikz/libraries/tik\n",
       "zlibraryshapes.misc.code.tex\n",
       "File: tikzlibraryshapes.misc.code.tex 2020/01/08 v3.1.5b (3.1.5b)\n",
       "\n",
       "(/usr/share/texlive/texmf-dist/tex/generic/pgf/libraries/shapes/pgflibraryshape\n",
       "s.misc.code.tex\n",
       "File: pgflibraryshapes.misc.code.tex 2020/01/08 v3.1.5b (3.1.5b)\n",
       "))\n",
       "(/usr/share/texlive/texmf-dist/tex/generic/pgf/frontendlayer/tikz/libraries/tik\n",
       "zlibrarysnakes.code.tex\n",
       "File: tikzlibrarysnakes.code.tex 2020/01/08 v3.1.5b (3.1.5b)\n",
       "\n",
       "\n",
       "Package pgf Warning: Snakes have been superseded by decorations. Please use the\n",
       " decoration libraries instead of the snakes library on input line 14.\n",
       "\n",
       ")\n",
       "(/usr/share/texlive/texmf-dist/tex/generic/pgf/frontendlayer/tikz/libraries/tik\n",
       "zlibrarythrough.code.tex\n",
       "File: tikzlibrarythrough.code.tex 2020/01/08 v3.1.5b (3.1.5b)\n",
       ")\n",
       "(/usr/share/texlive/texmf-dist/tex/latex/numprint/numprint.sty\n",
       "Package: numprint 2012/08/20 v1.39 Print numbers (HH)\n",
       "\n",
       "(/usr/share/texlive/texmf-dist/tex/latex/tools/array.sty\n",
       "Package: array 2019/08/31 v2.4l Tabular extension package (FMi)\n",
       "\\col@sep=\\dimen199\n",
       "\\ar@mcellbox=\\box60\n",
       "\\extrarowheight=\\dimen256\n",
       "\\NC@list=\\toks28\n",
       "\\extratabsurround=\\skip49\n",
       "\\backup@length=\\skip50\n",
       "\\ar@cellbox=\\box61\n",
       ")\n",
       "\\c@nprt@mantissa@digitsbefore=\\count267\n",
       "\\c@nprt@mantissa@digitsafter=\\count268\n",
       "\\c@nprt@exponent@digitsbefore=\\count269\n",
       "\\c@nprt@exponent@digitsafter=\\count270\n",
       "\\nprt@digitwidth=\\skip51\n",
       "\\nprt@sepwidth=\\skip52\n",
       "\\nprt@decimalwidth=\\skip53\n",
       "\\nprt@blockwidth=\\skip54\n",
       "\\nprt@digittoks=\\toks29\n",
       "\\nprt@pretoks=\\toks30\n",
       "\\nprt@posttoks=\\toks31\n",
       "\\nprt@thisdigit=\\count271\n",
       "\\nprt@curpos=\\count272\n",
       "\\nprt@rndpos=\\count273\n",
       "\\c@nprt@digitsfirstblock=\\count274\n",
       "\\c@nprt@blockcnt=\\count275\n",
       "\\c@nprt@cntprint=\\count276\n",
       "\n",
       "No configuration file `numprint.cfg' found.)\n",
       "(/usr/share/texlive/texmf-dist/tex/latex/l3packages/xfp/xfp.sty\n",
       "(/usr/share/texlive/texmf-dist/tex/latex/l3kernel/expl3.sty\n",
       "Package: expl3 2020-02-14 L3 programming layer (loader) \n",
       "\n",
       "(/usr/share/texlive/texmf-dist/tex/latex/l3backend/l3backend-pdfmode.def\n",
       "File: l3backend-pdfmode.def 2020-02-03 L3 backend support: PDF mode\n",
       "\\l__kernel_color_stack_int=\\count277\n",
       "\\l__pdf_internal_box=\\box62\n",
       "))\n",
       "(/usr/share/texlive/texmf-dist/tex/latex/l3packages/xparse/xparse.sty\n",
       "Package: xparse 2020-02-14 L3 Experimental document command parser\n",
       "\\l__xparse_current_arg_int=\\count278\n",
       "\\g__xparse_grabber_int=\\count279\n",
       "\\l__xparse_m_args_int=\\count280\n",
       "\\l__xparse_v_nesting_int=\\count281\n",
       ")\n",
       "Package: xfp 2020-02-14 L3 Floating point unit\n",
       ")\n",
       "(/usr/share/texlive/texmf-dist/tex/latex/fp/fp.sty\n",
       "Package: fp 1995/04/02\n",
       "\n",
       "`Fixed Point Package', Version 0.8, April 2, 1995 (C) Michael Mehlich\n",
       "(/usr/share/texlive/texmf-dist/tex/latex/fp/defpattern.sty\n",
       "Package: defpattern 1994/10/12\n",
       "\\actioncount=\\count282\n",
       ")\n",
       "(/usr/share/texlive/texmf-dist/tex/latex/fp/fp-basic.sty\n",
       "Package: fp-basic 1996/05/13\n",
       "\\FP@xs=\\count283\n",
       "\\FP@xia=\\count284\n",
       "\\FP@xib=\\count285\n",
       "\\FP@xfa=\\count286\n",
       "\\FP@xfb=\\count287\n",
       "\\FP@rega=\\count288\n",
       "\\FP@regb=\\count289\n",
       "\\FP@regs=\\count290\n",
       "\\FP@times=\\count291\n",
       ")\n",
       "(/usr/share/texlive/texmf-dist/tex/latex/fp/fp-addons.sty\n",
       "Package: fp-addons 1995/03/15\n",
       ")\n",
       "(/usr/share/texlive/texmf-dist/tex/latex/fp/fp-snap.sty\n",
       "Package: fp-snap 1995/04/05\n",
       ")\n",
       "(/usr/share/texlive/texmf-dist/tex/latex/fp/fp-exp.sty\n",
       "Package: fp-exp 1995/04/03\n",
       ")\n",
       "(/usr/share/texlive/texmf-dist/tex/latex/fp/fp-trigo.sty\n",
       "Package: fp-trigo 1995/04/14\n",
       ")\n",
       "(/usr/share/texlive/texmf-dist/tex/latex/fp/fp-pas.sty\n",
       "Package: fp-pas 1994/08/29\n",
       ")\n",
       "(/usr/share/texlive/texmf-dist/tex/latex/fp/fp-random.sty\n",
       "Package: fp-random 1995/02/23\n",
       "\\FPseed=\\count292\n",
       ")\n",
       "(/usr/share/texlive/texmf-dist/tex/latex/fp/fp-eqn.sty\n",
       "Package: fp-eqn 1995/04/03\n",
       ")\n",
       "(/usr/share/texlive/texmf-dist/tex/latex/fp/fp-upn.sty\n",
       "Package: fp-upn 1996/10/21\n",
       ")\n",
       "(/usr/share/texlive/texmf-dist/tex/latex/fp/fp-eval.sty\n",
       "Package: fp-eval 1995/04/03\n",
       "))\n",
       "\\tkzRadius=\\dimen257\n",
       "\\tkzLength=\\dimen258\n",
       "\\tkz@radi=\\dimen259\n",
       "\\tkz@ax=\\dimen260\n",
       "\\tkz@ay=\\dimen261\n",
       "\\tkz@bx=\\dimen262\n",
       "\\tkz@by=\\dimen263\n",
       "\\tkz@cx=\\dimen264\n",
       "\\tkz@cy=\\dimen265\n",
       "\\tkz@dx=\\dimen266\n",
       "\\tkz@dy=\\dimen267\n",
       "\\tkz@tax=\\dimen268\n",
       "\\tkz@tay=\\dimen269\n",
       "\\tkz@tbx=\\dimen270\n",
       "\\tkz@tby=\\dimen271\n",
       "\\tkz@tcx=\\dimen272\n",
       "\\tkz@tcy=\\dimen273\n",
       "\\tkz@tdx=\\dimen274\n",
       "\\tkz@tdy=\\dimen275\n",
       "\\tkz@cntmk=\\count293\n",
       "\n",
       "Local configuration file tkz-base.cfg found and used\n",
       "(/usr/share/texlive/texmf-dist/tex/latex/tkz-base/tkz-base.cfg\n",
       "2020/02/04 3.02c tkz-base.cfg\n",
       ") (/usr/share/texlive/texmf-dist/tex/latex/tkz-base/tkz-tools-modules.tex\n",
       "2020/01/24 3.02c tkz-tools-utilities.tex\n",
       ") (/usr/share/texlive/texmf-dist/tex/latex/tkz-base/tkz-lib-marks.tex\n",
       "2020/01/24 3.02c tkz-lib-symbols.tex\n",
       ") (/usr/share/texlive/texmf-dist/tex/latex/tkz-base/tkz-tools-base.tex\n",
       "2020/01/24 3.02c tkz-tools-base.tex\n",
       ") (/usr/share/texlive/texmf-dist/tex/latex/tkz-base/tkz-tools-utilities.tex\n",
       "2020/01/24 3.02c tkz-tools-utilities.tex\n",
       ") (/usr/share/texlive/texmf-dist/tex/latex/tkz-base/tkz-tools-math.tex\n",
       "2020/01/24 3.02c tkz-tools-math.tex\n",
       ") (/usr/share/texlive/texmf-dist/tex/latex/tkz-base/tkz-tools-text.tex\n",
       "2020/01/24 3.02c tkz-tools-text.tex\n",
       ") (/usr/share/texlive/texmf-dist/tex/latex/tkz-base/tkz-tools-BB.tex\n",
       "2020/01/24 3.02c tkz-obj-BB.tex\n",
       ") (/usr/share/texlive/texmf-dist/tex/latex/tkz-base/tkz-tools-arith.tex\n",
       "2020/01/24 3.02c tkz-tools-arith.tex\n",
       "File: tkz-tool-arith.tex tkz-tool-arith 3.02 c\n",
       ") (/usr/share/texlive/texmf-dist/tex/latex/tkz-base/tkz-tools-print.tex\n",
       "2020/01/24 3.02c tkz-tools-print.tex\n",
       ") (/usr/share/texlive/texmf-dist/tex/latex/tkz-base/tkz-tools-misc.tex\n",
       "2020/01/24 3.02c tkz-tools-misc.tex\n",
       ") (/usr/share/texlive/texmf-dist/tex/latex/tkz-base/tkz-obj-axes.tex\n",
       "2020/01/24 3.02c tkz-obj-axes.tex\n",
       ") (/usr/share/texlive/texmf-dist/tex/latex/tkz-base/tkz-obj-grids.tex\n",
       "2020/01/24 3.02c tkz-obj-grids.tex\n",
       ") (/usr/share/texlive/texmf-dist/tex/latex/tkz-base/tkz-obj-marks.tex\n",
       "2020/01/24 3.02c tkz-obj-marks.tex\n",
       ") (/usr/share/texlive/texmf-dist/tex/latex/tkz-base/tkz-obj-points.tex\n",
       "2020/01/24 3.02c tkz-obj-points.tex\n",
       ") (/usr/share/texlive/texmf-dist/tex/latex/tkz-base/tkz-obj-rep.tex\n",
       "2020/01/24 3.02c tkz-obj-rep.tex\n",
       "))\n",
       "(/usr/share/texlive/texmf-dist/tex/latex/tkz-euclide/tkz-tools-intersections.te\n",
       "x\n",
       "2020/01/24 3.02c tkz-tools-intersections.tex\n",
       ") (/usr/share/texlive/texmf-dist/tex/latex/tkz-euclide/tkz-tools-angles.tex\n",
       "2020/01/24 3.02c tkz-tools-angles.tex\n",
       ") (/usr/share/texlive/texmf-dist/tex/latex/tkz-euclide/tkz-obj-eu-angles.tex\n",
       "2020/01/24 3.02c tkz-tool-eu-angles.tex\n",
       "\\tkz@arcsize=\\dimen276\n",
       "\\tkz@fillsize=\\dimen277\n",
       ") (/usr/share/texlive/texmf-dist/tex/latex/tkz-euclide/tkz-obj-eu-arcs.tex\n",
       "2020/01/24 3.02c tkz-obj-eu-arcs.tex\n",
       ") (/usr/share/texlive/texmf-dist/tex/latex/tkz-euclide/tkz-obj-eu-compass.tex\n",
       "2020/01/24 3.02c tkz-obj-eu-compass.tex\n",
       ") (/usr/share/texlive/texmf-dist/tex/latex/tkz-euclide/tkz-obj-eu-circles.tex\n",
       "2020/01/24 3.02c tkz-obj-eu-circles.tex\n",
       ")\n",
       "(/usr/share/texlive/texmf-dist/tex/latex/tkz-euclide/tkz-obj-eu-draw-circles.te\n",
       "x\n",
       "2020/01/24 3.02c tkz-obj-eu-draw-circles.tex\n",
       ") (/usr/share/texlive/texmf-dist/tex/latex/tkz-euclide/tkz-obj-eu-lines.tex\n",
       "2020/01/24 3.02c tkz-obj-eu-lines.tex\n",
       ")\n",
       "(/usr/share/texlive/texmf-dist/tex/latex/tkz-euclide/tkz-obj-eu-draw-lines.tex\n",
       "2020/01/24 3.02c tkz-obj-eu-draw-lines.tex\n",
       ") (/usr/share/texlive/texmf-dist/tex/latex/tkz-euclide/tkz-obj-eu-points.tex\n",
       "2020/01/24 3.02c tkz-obj-eu-points.tex\n",
       ") (/usr/share/texlive/texmf-dist/tex/latex/tkz-euclide/tkz-obj-eu-points-by.tex\n",
       "2020/01/24 3.02c tkz-tools-eu-points-by.tex\n",
       ")\n",
       "(/usr/share/texlive/texmf-dist/tex/latex/tkz-euclide/tkz-obj-eu-points-rnd.tex\n",
       "2020/01/24 3.02c tkz-obj-eu-points-rnd.tex\n",
       ")\n",
       "(/usr/share/texlive/texmf-dist/tex/latex/tkz-euclide/tkz-obj-eu-points-with.tex\n",
       "2020/01/24 3.02c tkz-obj-eu-points-with.tex\n",
       ")\n",
       "(/usr/share/texlive/texmf-dist/tex/latex/tkz-euclide/tkz-obj-eu-draw-polygons.t\n",
       "ex\n",
       "2020/01/24 3.02c tkz-obj-eu-polygons.tex\n",
       ") (/usr/share/texlive/texmf-dist/tex/latex/tkz-euclide/tkz-obj-eu-polygons.tex\n",
       "2020/01/24 3.02c tkz-obj-eu-polygons.tex\n",
       ")\n",
       "(/usr/share/texlive/texmf-dist/tex/latex/tkz-euclide/tkz-obj-eu-protractor.tex\n",
       "2020/01/24 3.02c tkz-obj-eu-protractor.tex\n",
       ") (/usr/share/texlive/texmf-dist/tex/latex/tkz-euclide/tkz-obj-eu-sectors.tex\n",
       "2020/01/24 3.02c tkz-obj-eu-sectors.tex\n",
       ") (/usr/share/texlive/texmf-dist/tex/latex/tkz-euclide/tkz-obj-eu-show.tex\n",
       "2020/01/24 3.02c tkz-obj-eu-show.tex\n",
       ") (/usr/share/texlive/texmf-dist/tex/latex/tkz-euclide/tkz-obj-eu-triangles.tex\n",
       "2020/01/24 3.02c tkz-obj-eu-triangles.tex\n",
       "))\n",
       "! I can't find file `tkz-obj-angles.tex'.\n",
       "<argument> ...\\|=12 \\input tkz-obj-\\tkz@temp .tex \n",
       "                                                  \\catcode `\\@ =\\csname tkz@...\n",
       "l.6 \\usetkzobj{all}\n",
       "                   \n",
       "(Press Enter to retry, or Control-D to exit)\n",
       "Please type another input file name: \n",
       "! Emergency stop.\n",
       "<argument> ...\\|=12 \\input tkz-obj-\\tkz@temp .tex \n",
       "                                                  \\catcode `\\@ =\\csname tkz@...\n",
       "l.6 \\usetkzobj{all}\n",
       "                   \n",
       "End of file on the terminal!\n",
       "\n",
       " \n",
       "Here is how much of TeX's memory you used:\n",
       " 18127 strings out of 481239\n",
       " 405187 string characters out of 5920377\n",
       " 637319 words of memory out of 5000000\n",
       " 32943 multiletter control sequences out of 15000+600000\n",
       " 532338 words of font info for 24 fonts, out of 8000000 for 9000\n",
       " 1141 hyphenation exceptions out of 8191\n",
       " 60i,1n,91p,466b,197s stack positions out of 5000i,500n,10000p,200000b,80000s\n",
       "!  ==> Fatal error occurred, no output PDF file produced!\n"
      ]
     },
     "metadata": {},
     "output_type": "display_data"
    }
   ],
   "source": [
    "%%tikz -l arrows -s 1100,500 -sc 0.65\n",
    "\n",
    "\\definecolor{nice-red}{HTML}{E41A1C}\n",
    "\\definecolor{nice-orange}{HTML}{FF7F00}\n",
    "\\definecolor{nice-yellow}{HTML}{FFC020}\n",
    "\\definecolor{nice-green}{HTML}{4DAF4A}\n",
    "\\definecolor{nice-blue}{HTML}{377EB8}\n",
    "\\definecolor{nice-purple}{HTML}{984EA3}\n",
    "\n",
    "\\newcommand{\\lstm}{\n",
    "%lstm first step\n",
    "\n",
    "%lstm module box\n",
    "\\draw[line width=3pt, color=black!50] (-6,-3) rectangle (1.5,5.25);\n",
    "\\draw[ultra thick] (0,0) rectangle (1,2);\n",
    "\n",
    "%memory ct\n",
    "\\draw[ultra thick, color=nice-purple, fill=nice-purple!10] (0,0) rectangle (1,2);\n",
    "\n",
    "%non-linearities\n",
    "\\foreach \\w/\\h/\\color in {-2/4.25/nice-blue,-2/1/nice-red,-2/-1/nice-green,0.5/-2/nice-yellow,0.5/3/black} {\n",
    "    \\begin{scope}[shift={(\\w,\\h)},scale=0.5]\n",
    "        \\draw[ultra thick, yshift=-0.5cm, color=\\color] plot [domain=-0.3:0.3](\\x, {(0.8/(1+exp(-15*\\x))+0.1)});\n",
    "        \\draw[ultra thick, color=\\color] (0,0) circle (0.5cm);\n",
    "    \\end{scope}\n",
    "}\n",
    "\n",
    "%tanh\n",
    "\\draw[thick, color=black] (0.25,3) -- (0.75,3);\n",
    "\\draw[thick, color=nice-yellow] (0.25,-2) -- (0.75,-2);\n",
    "    \n",
    "    \n",
    "%component-wise multiplications\n",
    "\\foreach \\w/\\h in {-1/1,0.5/-1,0.5/4.25} {\n",
    "    \\begin{scope}[shift={(\\w,\\h)},scale=0.5]\n",
    "        \\draw[ultra thick, color=black] (0,0) circle (0.05cm);\n",
    "        \\draw[ultra thick, color=black] (0,0) circle (0.5cm);\n",
    "    \\end{scope}\n",
    "}\n",
    "\n",
    "%vector concat\n",
    "\\begin{scope}[shift={(-4,1)},scale=0.5]\n",
    "    \\draw[ultra thick,yshift=0.2cm] (0,0) circle (0.05cm);\n",
    "    \\draw[ultra thick,yshift=-0.2cm] (0,0) circle (0.05cm);\n",
    "    \\draw[ultra thick] (0,0) circle (0.5cm);\n",
    "\\end{scope}\n",
    "\n",
    "\n",
    "\\foreach \\fx/\\fy/\\tx/\\ty in {\n",
    "    -5/-3.5/-5/0.85, %xt\n",
    "    -5/0.85/-4.2/0.85,\n",
    "    -6.5/4.25/-5/4.25, %ht1\n",
    "    -5/4.25/-5/1.15,\n",
    "    -5/1.15/-4.2/1.15,\n",
    "    -3.75/1/-3/1, %H\n",
    "    -3/4.25/-3/-2,\n",
    "    -3/-2/0.25/-2, %i\n",
    "    0.5/-1.75/0.5/-1.25,\n",
    "    -3/-1/-2.25/-1, %it\n",
    "    -1.75/-1/0.25/-1,\n",
    "    -3/1/-2.25/1, %ft\n",
    "    -1.75/1/-1.25/1,\n",
    "    -0.75/1/0/1,\n",
    "    -3/4.25/-2.25/4.25, %ot\n",
    "    -1.75/4.25/0.25/4.25,\n",
    "    0.5/2/0.5/2.75, %ct\n",
    "    -5.5/2/-5.1/2, %ct1\n",
    "    -5.5/2/-5.5/1,\n",
    "    -6.5/1/-5.5/1,\n",
    "    -4.9/2/-3.1/2,\n",
    "    -2.9/2/-1/2,\n",
    "    -1/2/-1/1.25   \n",
    "} {\n",
    "    \\draw[ultra thick] (\\fx,\\fy) -- (\\tx,\\ty);\n",
    "}\n",
    "\n",
    "\\foreach \\fx/\\fy/\\tx/\\ty in {\n",
    "    0.5/-0.75/0.5/0, %it\n",
    "    -0.75/1/0/1, %ft\n",
    "    1/1/2.25/1,\n",
    "    0.5/3.25/0.5/4,\n",
    "    0.75/4.25/2.25/4.25, %ht    \n",
    "    0.5/4.5/0.5/6    \n",
    "} {\n",
    "    \\draw[->, >=stealth', ultra thick] (\\fx,\\fy) -- (\\tx,\\ty);\n",
    "}\n",
    "}\n",
    "\n",
    "\\begin{scope}[scale=0.8]                    \n",
    "\\foreach \\d in {0,1,2} {                    \n",
    "\\foreach \\t/\\word in {0/A,1/wedding,2/party,3/taking,4/pictures} {  \n",
    "    \\node[font=\\Huge, anchor=west] at (\\t*8.5-5.75,-4.5) {$\\mathbf{v}$\\_\\word};                                                                                \n",
    "    \\begin{scope}[shift={(\\t*8.5+\\d*5.5,\\d*9.5)}]  \n",
    "        \\lstm                    \n",
    "    \\end{scope}   \n",
    "}\n",
    "}\n",
    "\\end{scope}          \n",
    "\n",
    "\\node[font=\\Huge, anchor=west] at (34,20.75) {$\\mathbf{v}$\\_Sentence};                                                                                \n",
    "\n",
    "\\draw[line width=10pt, color=nice-red, opacity=0.8] (36.4,16) -- (36.4,20);                    \n",
    "\\draw[line width=10pt, color=nice-red, opacity=0.8] (25.25,16) -- (36.5,16);          \n",
    "\\draw[line width=10pt, color=nice-red, opacity=0.8] (25.25,8.5) -- (25.25,16);          \n",
    "\\draw[line width=10pt, color=nice-red, opacity=0.8] (14,8.5) -- (25.25,8.5);\n",
    "\\draw[line width=10pt, color=nice-red, opacity=0.8] (14,8.5) -- (14,0.75);\n",
    "\\draw[line width=10pt, color=nice-red, opacity=0.8] (14,0.75) -- (3,0.75);\n",
    "\\draw[->, >=stealth', line width=10pt, color=nice-red, opacity=0.8] (2.75,0.75) -- (2.75,-3);\n",
    "          \n",
    "          \n",
    "%dummy node for left alignment\n",
    "\\node[] at (17,0) {};          "
   ]
  },
  {
   "cell_type": "markdown",
   "metadata": {
    "hide_input": true,
    "slideshow": {
     "slide_type": "skip"
    }
   },
   "source": [
    "# Applications\n",
    "- Language Modeling\n",
    "- Machine Translation\n",
    "- Question Answering\n",
    "- Dialog Modeling\n",
    "- Language Generation\n",
    "- Sentence Summarization\n",
    "- Paraphrasing\n",
    "- Sentiment Analysis\n",
    "- Recognizing Textual Entailment\n",
    "- ..."
   ]
  },
  {
   "cell_type": "markdown",
   "metadata": {
    "slideshow": {
     "slide_type": "slide"
    }
   },
   "source": [
    "## Three Flavours of RNNs in NLP ##\n",
    "\n",
    "Encoder-only:\n",
    "* Many-to-one (sequence classification)\n",
    "* One-to-one (sequence tagging/labeling)\n",
    "\n",
    "Encoder-decoder:\n",
    "* Many-to-many (sequence-to-sequence or seq2seq)"
   ]
  },
  {
   "cell_type": "markdown",
   "metadata": {
    "slideshow": {
     "slide_type": "subslide"
    }
   },
   "source": [
    "## Many-to-one ##\n",
    "\n",
    "<center><img src=\"../img/many_to_one.png\"></center>"
   ]
  },
  {
   "cell_type": "markdown",
   "metadata": {
    "slideshow": {
     "slide_type": "subslide"
    }
   },
   "source": [
    "## One-to-one ##\n",
    "<center><img src=\"../img/one_to_one2.png\"></center>\n"
   ]
  },
  {
   "cell_type": "markdown",
   "metadata": {
    "slideshow": {
     "slide_type": "subslide"
    }
   },
   "source": [
    "## Many-to-many ##\n",
    "<center><img src=\"../img/many_to_many.png\" width=\"80%\"></center>"
   ]
  },
  {
   "cell_type": "markdown",
   "metadata": {
    "hide_input": true,
    "slideshow": {
     "slide_type": "slide"
    }
   },
   "source": [
    "# Sequence-to-Sequence Models\n",
    "\n",
    "Recurrent Neural Networks are extremely powerful and flexible\n",
    "- They can also learn to **generate** sequences"
   ]
  },
  {
   "cell_type": "markdown",
   "metadata": {
    "hide_input": true,
    "slideshow": {
     "slide_type": "fragment"
    }
   },
   "source": [
    "Seq2Seq models are composed by:\n",
    "- **Encoder** - Gets the input and outputs $\\mathbf{v} \\in \\mathbb{R}^{d}$\n",
    "- **Decoder** - Gets $\\mathbf{v}$ and generates the output sequence"
   ]
  },
  {
   "cell_type": "markdown",
   "metadata": {
    "hide_input": true,
    "slideshow": {
     "slide_type": "fragment"
    }
   },
   "source": [
    "Seq2Seq models are widely popular in e.g.:\n",
    "- *Neural Machine Translation*\n",
    "- *Text Summarisation*\n",
    "- *Learning to Execute*"
   ]
  },
  {
   "cell_type": "markdown",
   "metadata": {
    "slideshow": {
     "slide_type": "subslide"
    }
   },
   "source": [
    "Problem - for sequence labeling, you may need to incorporate information from both the **preceding** and **following** words. Can RNNs do that?"
   ]
  },
  {
   "cell_type": "markdown",
   "metadata": {
    "slideshow": {
     "slide_type": "subslide"
    }
   },
   "source": [
    "# Bidirectional RNNs\n",
    "<center><img src=\"../img/bilstm.png\" width=\"60%\"></center>"
   ]
  },
  {
   "cell_type": "markdown",
   "metadata": {
    "slideshow": {
     "slide_type": "fragment"
    }
   },
   "source": [
    "- $\\overleftarrow{\\mathbf{h}}_t$ and $\\overrightarrow{\\mathbf{h}}_t$ represent (summarise) both the **past** and the **future** around a given sequence element."
   ]
  },
  {
   "cell_type": "markdown",
   "metadata": {
    "hide_input": false,
    "slideshow": {
     "slide_type": "subslide"
    }
   },
   "source": [
    "# Stacking (Deep LSTMs)"
   ]
  },
  {
   "cell_type": "code",
   "execution_count": 9,
   "metadata": {
    "slideshow": {
     "slide_type": "-"
    }
   },
   "outputs": [
    {
     "data": {
      "text/html": [
       "<img src=\"../img/deep_bilstm.png?0.1425695903652272\" width=\"800\"/>"
      ],
      "text/plain": [
       "<IPython.core.display.Image object>"
      ]
     },
     "execution_count": 9,
     "metadata": {},
     "output_type": "execute_result"
    }
   ],
   "source": [
    "Image(url='../img/deep_bilstm.png'+'?'+str(random.random()), width=800)"
   ]
  },
  {
   "cell_type": "markdown",
   "metadata": {
    "slideshow": {
     "slide_type": "subslide"
    }
   },
   "source": [
    "# Levels of Granularity\n",
    "\n",
    "RNNs with tokenization at the character level for:\n",
    "\n",
    "* Language modeling ([Karpathy, 2015](http://karpathy.github.io/2015/05/21/rnn-effectiveness/))\n",
    "* Word representation (e.g., [Pinter et al. 2017](https://aclanthology.org/D17-1010/))\n",
    "\n",
    "RNNs for sentence representation:\n",
    "* Skip-Thought Vectors ([Kiros et al., 2015](https://proceedings.neurips.cc/paper/2015/file/f442d33fa06832082290ad8544a8da27-Paper.pdf))"
   ]
  },
  {
   "cell_type": "code",
   "execution_count": 4,
   "metadata": {
    "slideshow": {
     "slide_type": "fragment"
    }
   },
   "outputs": [
    {
     "data": {
      "text/html": [
       "<img src=\"../img/pinter_char_rnn.png?0.09808449072313363\" width=\"400\"/>"
      ],
      "text/plain": [
       "<IPython.core.display.Image object>"
      ]
     },
     "execution_count": 4,
     "metadata": {},
     "output_type": "execute_result"
    }
   ],
   "source": [
    "Image(url='../img/pinter_char_rnn.png'+'?'+str(random.random()), width=400)"
   ]
  },
  {
   "cell_type": "markdown",
   "metadata": {
    "slideshow": {
     "slide_type": "slide"
    }
   },
   "source": [
    "# Summary\n",
    "\n",
    "* RNNs are *sequence models* that take word embeddings and encode whole sequences\n",
    "* They can be used as language models with unbounded (but decaying) history window\n",
    "* Many architectural variations:\n",
    "    * LSTM\n",
    "    * BiLSTM\n",
    "    * Stacked (multi-layer) (Bi)LSTM\n",
    "* Many possible use cases:\n",
    "    * One-to-one\n",
    "    * One-to-many\n",
    "    * Many-to-many (sequence-to-sequence)"
   ]
  },
  {
   "cell_type": "markdown",
   "metadata": {
    "hide_input": true,
    "slideshow": {
     "slide_type": "slide"
    }
   },
   "source": [
    " # Additional Reading #\n",
    "* [*The Unreasonable Effectiveness of Recurrent Neural Networks.* Blog post by Andrej Karpathy](http://karpathy.github.io/2015/05/21/rnn-effectiveness/)\n",
    "* [Jurafsky & Martin (see Chapter 9)](https://web.stanford.edu/~jurafsky/slp3/9.pdf)\n",
    "* [Introduction to NNs (particularly Recurrent Neural Networks) in NLP (see Chapter 2)](http://hdl.handle.net/11370/73e67d8a-14b0-42b1-9dcf-292eab63539c) (Bjerva, 2018)\n",
    "* [Understanding LSTMs -- step-by-step](https://medium.com/mlreview/understanding-lstm-and-its-diagrams-37e2f46f1714)"
   ]
  }
 ],
 "metadata": {
  "celltoolbar": "Slideshow",
  "hide_input": true,
  "kernelspec": {
   "display_name": "Python 3 (ipykernel)",
   "language": "python",
   "name": "python3"
  },
  "language_info": {
   "codemirror_mode": {
    "name": "ipython",
    "version": 3
   },
   "file_extension": ".py",
   "mimetype": "text/x-python",
   "name": "python",
   "nbconvert_exporter": "python",
   "pygments_lexer": "ipython3",
   "version": "3.10.12"
  },
  "latex_envs": {
   "bibliofile": "biblio.bib",
   "cite_by": "apalike",
   "current_citInitial": 1,
   "eqLabelWithNumbers": true,
   "eqNumInitial": 0
  },
  "livereveal": {
   "theme": "white",
   "transition": "concave"
  }
 },
 "nbformat": 4,
 "nbformat_minor": 1
}
