{
 "cells": [
  {
   "cell_type": "code",
   "execution_count": 10,
   "metadata": {
    "pycharm": {
     "name": "#%%\n"
    },
    "slideshow": {
     "slide_type": "skip"
    }
   },
   "outputs": [
    {
     "data": {
      "text/html": [
       "<script>\n",
       "  function code_toggle() {\n",
       "    if (code_shown){\n",
       "      $('div.input').hide('500');\n",
       "      $('#toggleButton').val('Show Code')\n",
       "    } else {\n",
       "      $('div.input').show('500');\n",
       "      $('#toggleButton').val('Hide Code')\n",
       "    }\n",
       "    code_shown = !code_shown\n",
       "  }\n",
       "\n",
       "  $( document ).ready(function(){\n",
       "    code_shown=false;\n",
       "    $('div.input').hide()\n",
       "  });\n",
       "</script>\n",
       "<form action=\"javascript:code_toggle()\"><input type=\"submit\" id=\"toggleButton\" value=\"Show Code\"></form>\n"
      ],
      "text/plain": [
       "<IPython.core.display.HTML object>"
      ]
     },
     "metadata": {},
     "output_type": "display_data"
    }
   ],
   "source": [
    "%%html\n",
    "<script>\n",
    "  function code_toggle() {\n",
    "    if (code_shown){\n",
    "      $('div.input').hide('500');\n",
    "      $('#toggleButton').val('Show Code')\n",
    "    } else {\n",
    "      $('div.input').show('500');\n",
    "      $('#toggleButton').val('Hide Code')\n",
    "    }\n",
    "    code_shown = !code_shown\n",
    "  }\n",
    "\n",
    "  $( document ).ready(function(){\n",
    "    code_shown=false;\n",
    "    $('div.input').hide()\n",
    "  });\n",
    "</script>\n",
    "<form action=\"javascript:code_toggle()\"><input type=\"submit\" id=\"toggleButton\" value=\"Show Code\"></form>"
   ]
  },
  {
   "cell_type": "markdown",
   "metadata": {
    "pycharm": {
     "name": "#%% md\n"
    },
    "slideshow": {
     "slide_type": "slide"
    }
   },
   "source": [
    "# NDAK18000U Overview\n",
    "Content at [https://github.com/coastalcph/nlp-course](github.com/coastalcph/nlp-course).\n",
    "Click on slides for *Course Logistics*."
   ]
  },
  {
   "cell_type": "markdown",
   "metadata": {
    "pycharm": {
     "name": "#%% md\n"
    },
    "slideshow": {
     "slide_type": "slide"
    }
   },
   "source": [
    "### NDAK18000U Details\n",
    "\n",
    "- **Course Organizer**: [Daniel Hershcovich](https://danielhers.github.io/)\n",
    "- **Teachers**: Daniel Hershcovich and [Anders Søgaard](https://anderssoegaard.github.io/)\n",
    "- **Teaching Assistants**:\n",
    "    - Ruchira Dhar, Zixuan Xu, Christian Jensen, Thomas Brun Lau Christensen"
   ]
  },
  {
   "cell_type": "markdown",
   "metadata": {
    "pycharm": {
     "name": "#%% md\n"
    },
    "slideshow": {
     "slide_type": "slide"
    }
   },
   "source": [
    "### NDAK18000U Schedule\n",
    "\n",
    "- Lectures:  \n",
    "    -  Tuesdays, 13-15 in Aud 05, Universitetsparken 5 (HCØ), Weeks 36-41 + 43-44\n",
    "    \n",
    "- Lab Sessions:\n",
    "    - Group 1: Mondays, 10-12 in the old library (4-0-17), Universitetsparken 1, Weeks 37-41 + 43-44\n",
    "    - Group 2: Fridays, 10-12 in the old library (4-0-17), Universitetsparken 1, Weeks 36-41 + 43-44\n",
    "\n",
    "We will assign you to one of two lab session groups based on your answers to the [Getting to Know You survey](https://absalon.ku.dk/courses/76988/assignments/210867).\n",
    "If you have not filled it in yet, do it as soon as possible.\n",
    "You will receive an announcement about your assignment before the first lab session."
   ]
  },
  {
   "cell_type": "code",
   "execution_count": 13,
   "metadata": {
    "slideshow": {
     "slide_type": "skip"
    }
   },
   "outputs": [
    {
     "name": "stdout",
     "output_type": "stream",
     "text": [
      "/home/daniel/nlp-course\n"
     ]
    }
   ],
   "source": [
    "%cd .."
   ]
  },
  {
   "cell_type": "code",
   "execution_count": 14,
   "metadata": {
    "slideshow": {
     "slide_type": "subslide"
    }
   },
   "outputs": [
    {
     "data": {
      "text/markdown": [
       "# Natural Language Processing (NDAK18000U)\n",
       "## Course at the University of Copenhagen\n",
       "\n",
       "Materials from this interactive book are used throughout the Natural Language Processing course at the Department of Computer Science, University of Copenhagen. The official course description can be found [here](https://kurser.ku.dk/course/ndak18000u). Materials covered each week are listed below. The course schedule and materials are tentative and subject to minor changes. Most reading material is from [Speech and Language Processing by Jurafsky & Martin](https://web.stanford.edu/~jurafsky/slp3).\n",
       "\n",
       "<table><tr><th>Week</th><th>Reading (before lecture)</th><th>Lecture (Tuesday)</th><th>Lab (Friday &amp; Monday)</th><th>Lab notebook</th></tr>\n",
       "     <tr><td>36</td><td>\n",
       "      <a href='https://web.stanford.edu/~jurafsky/slp3/2.pdf'>Chapter 2 up to end of 2.5</a><br>\n",
       "      <a href='https://web.stanford.edu/~jurafsky/slp3/4.pdf'>Chapter 4 up to end of 4.5</a><br>\n",
       "      <a href='https://web.stanford.edu/~jurafsky/slp3/5.pdf'>Chapter 5 up to end of 5.6</a><br>\n",
       "      </td><td>3. Sep. 2024:<br>\n",
       "      Course Logistics (<a href='../chapters/course_logistics.ipynb'>slides</a>)<br>\n",
       "      Introduction to NLP (<a href='../chapters/intro_short.ipynb'>slides</a>)<br>\n",
       "      Tokenisation &amp; Sentence Splitting (<a href='../chapters/tokenization.ipynb'>notes</a>, <a href='../chapters/tokenization_slides.ipynb'>slides</a>, <a href='../exercises/tokenization.ipynb'>exercises</a>)<br>\n",
       "      Text Classification (<a href='../chapters/doc_classify_slides_short.ipynb'>slides</a>)<br>\n",
       "      </td><td>6. &amp; 9. Sep. 2024:<br>\n",
       "      Jupyter notebook setup, introduction to <a href='https://colab.research.google.com/'>Colab</a><br>\n",
       "      Introduction to <a href='https://pytorch.org/tutorials/'>PyTorch</a><br>\n",
       "      Project group arrangements<br>\n",
       "      Questions about the course project<br>\n",
       "      </td><td><a href='../labs/notebooks_2024/lab_1.ipynb'>lab 1</a></td></tr>\n",
       "     <tr><td>37</td><td>\n",
       "      <a href='https://web.stanford.edu/~jurafsky/slp3/3.pdf'>Chapter 3 up to end of 3.5</a><br>\n",
       "      <a href='https://web.stanford.edu/~jurafsky/slp3/6.pdf'>Chapter 6 up to end of 6.4</a><br>\n",
       "      <a href='https://web.stanford.edu/~jurafsky/slp3/7.pdf'>Chapter 7 up to end of 7.5</a><br>\n",
       "      </td><td>10. Sep. 2024:<br>\n",
       "      Language Modelling (<a href='../chapters/language_models_slides.ipynb'>slides</a>)<br>\n",
       "      Word Embeddings (<a href='../chapters/dl-representations_simple.ipynb'>slides</a>)<br>\n",
       "      </td><td>13. &amp; 16. Sep. 2024:<br>\n",
       "      Word representations and sentiment classification<br>\n",
       "      Project help<br>\n",
       "      </td><td><a href='../labs/notebooks_2024/lab_2.ipynb'>lab 2</a></td></tr>\n",
       "     <tr><td>38</td><td>\n",
       "      <a href='https://web.stanford.edu/~jurafsky/slp3/7.pdf'>Chapter 7 up to end of 7.6</a><br>\n",
       "      <a href='https://web.stanford.edu/~jurafsky/slp3/8.pdf'>Chapter 8 up to end of 8.7</a>\n",
       "     </td><td>17. Sep. 2024:<br>\n",
       "      Recurrent Neural Networks (<a href='../chapters/rnn_slides_ucph.ipynb'>slides</a>)<br>\n",
       "      Neural Language Models (<a href='../chapters/dl-representations_contextual.ipynb'>slides</a>)<br>\n",
       "      </td><td>20. &amp; 23. Sep. 2024:<br>\n",
       "      Error analysis and explainability<br>\n",
       "      Project help<br>\n",
       "      </td><td><a href='../labs/notebooks_2024/lab_3.ipynb'>lab 3</a></td></tr>\n",
       "    <tr><td>39</td><td>\n",
       "      <a href='https://web.stanford.edu/~jurafsky/slp3/17.pdf'>Chapter 17 up to end of 17.3</a><br>\n",
       "      <a href='https://web.stanford.edu/~jurafsky/slp3/19.pdf'>Chapter 19 up to end of 19.2</a>\n",
       "      </td><td>24. Sep. 2024:<br>\n",
       "      Sequence Labelling (<a href='../chapters/sequence_labeling_slides.ipynb'>slides</a>, <a href='../chapters/sequence_labeling.ipynb'>notes</a>)<br>\n",
       "      Parsing (<a href='../chapters/dependency_parsing_slides_active.ipynb'>slides</a>)<br>\n",
       "      </td><td>27. &amp; 30. Sep. 2024:<br>\n",
       "      Sequence labelling and beam search<br>\n",
       "      Project help<br>\n",
       "      </td><td><a href='../labs/notebooks_2024/lab_4.ipynb'>lab 4</a></td></tr>\n",
       "     <tr><td>40</td><td>\n",
       "      <a href='https://web.stanford.edu/~jurafsky/slp3/8.pdf'>Chapter 8 up to end of 8.8</a><br>\n",
       "      <a href='https://web.stanford.edu/~jurafsky/slp3/9.pdf'>Chapter 9 up to end of 9.2</a><br>\n",
       "      <a href='https://web.stanford.edu/~jurafsky/slp3/10.pdf'>Chapter 10 up to end of 10.2</a><br>\n",
       "      <a href='https://web.stanford.edu/~jurafsky/slp3/11.pdf'>Chapter 11</a>\n",
       "      </td><td>1. Oct. 2024:<br>\n",
       "      Attention (<a href='../chapters/attention_slides2.ipynb'>slides</a>)<br>\n",
       "      Transformers (<a href='../chapters/dl-representations_contextual_transformers.ipynb'>slides</a>)<br>\n",
       "      </td><td>4. &amp; 7. Oct. 2024:<br>\n",
       "      Language Models with <a href='https://huggingface.co/course/chapter1'>Transformers</a> and RNNs<br>\n",
       "      Project help<br>\n",
       "      </td><td><a href='../labs/notebooks_2024/lab_5.ipynb'>lab 5</a></td></tr>\n",
       "     <tr><td>41</td><td>\n",
       "      <a href='https://web.stanford.edu/~jurafsky/slp3/14.pdf'>Chapter 14</a><br>\n",
       "      <a href='https://web.stanford.edu/~jurafsky/slp3/20.pdf'>Chapter 20</a>\n",
       "      </td><td>8. Oct. 2024:<br>\n",
       "      Information Extraction (<a href='../chapters/information_extraction_slides.ipynb'>slides</a>)<br>\n",
       "      Question Answering (<a href='../chapters/question_answering_slides.ipynb'>slides</a>)<br>\n",
       "      </td><td>11. &amp; 21. Oct. 2024:<br>\n",
       "      In-depth look at Transformers and Multilingual QA<br>\n",
       "      Project help<br>\n",
       "      </td><td><a href='../labs/notebooks_2024/lab_6.ipynb'>lab 6</a></td></tr>\n",
       "    <tr><td>43</td><td>\n",
       "      <a href='https://web.stanford.edu/~jurafsky/slp3/12.pdf'>Chapter 12</a><br>\n",
       "      <a href='https://web.stanford.edu/~jurafsky/slp3/13.pdf'>Chapter 13</a><br>\n",
       "      </td><td>22. Oct. 2024:<br>\n",
       "      Machine Translation (<a href='../chapters/nmt_slides_active.ipynb'>slides</a>)<br>\n",
       "      Transfer Learning (<a href='../chapters/xling_transfer_learning_slides.ipynb'>slides</a>)<br>\n",
       "      </td><td>25. &amp; 28. Oct. 2024: Project help.</td><td></td></tr>\n",
       "    <tr><td>44</td><td>\n",
       "      <a href='https://aclanthology.org/Q19-1004.pdf'>Belinkov and Glass, 2019</a>\n",
       "      </td><td>29. Oct. 2024:<br>\n",
       "      Interpretability (<a href='../chapters/interpretability_slides.ipynb'>slides</a>)<br>\n",
       "      </td><td>1. Nov. 2024: Project help.</td><td></td></tr></table>\n",
       "\n",
       "The easiest way to view the course content is via the static [nbviewer](https://nbviewer.jupyter.org/github/coastalcph/nlp-course/blob/master/overview.ipynb). \n",
       "To be able to make changes to the book and render it dynamically, see the [installation instructions](INSTALL.md).\n"
      ],
      "text/plain": [
       "<IPython.core.display.Markdown object>"
      ]
     },
     "metadata": {},
     "output_type": "display_data"
    }
   ],
   "source": [
    "import re\n",
    "from IPython.display import Markdown, display\n",
    "\n",
    "with open('README.md', 'r') as f:\n",
    "    content = f.read()\n",
    "\n",
    "# Regular expression to find all <a href=\"...\"> that don't start with 'http'\n",
    "pattern = re.compile(r'<a href=([\\'\"])(?!http)([^\\'\"]+)\\1>')\n",
    "\n",
    "# Function to prepend '../' to each link\n",
    "def replacer(match):\n",
    "    quote = match.group(1)\n",
    "    link = match.group(2)\n",
    "    new_link = f\"../{link}\"\n",
    "    return f'<a href={quote}{new_link}{quote}>'\n",
    "\n",
    "# Replace links in content to be relative to the top directory of the repo\n",
    "display(Markdown(pattern.sub(replacer, content)))"
   ]
  },
  {
   "cell_type": "markdown",
   "metadata": {
    "pycharm": {
     "name": "#%% md\n"
    },
    "slideshow": {
     "slide_type": "slide"
    }
   },
   "source": [
    "### Course Requirements\n",
    "* Familiarity with machine learning (probability theory, linear algebra, classification)\n",
    "* Knowledge of programming (Python)\n",
    "* No prior knowledge of natural language processing or linguistics is required\n",
    "\n",
    "Relevant machine learning competencies can be obtained through one of the following courses: \n",
    "* [NDAK22000U Machine Learning A (MLA)](https://kurser.ku.dk/course/ndak22000u) and/or [NDAK22001U Machine Learning B (MLB)](https://kurser.ku.dk/course/ndak22001u)\n",
    "* [NDAK16003U Introduction to Data Science (IDS)](https://kurser.ku.dk/course/ndak16003u)\n",
    "* [NDAB23000U Grundlæggende Data Science (GDS)](https://kurser.ku.dk/course/ndak23000u)\n",
    "* [Machine Learning, Coursera](https://www.coursera.org/learn/machine-learning)\n",
    "\n",
    "See also the [course description](https://kurser.ku.dk/course/ndak18000u)."
   ]
  },
  {
   "cell_type": "markdown",
   "metadata": {
    "pycharm": {
     "name": "#%% md\n"
    },
    "slideshow": {
     "slide_type": "slide"
    }
   },
   "source": [
    "### About You: previously taken courses related to NLP?\n",
    "\n",
    "<img src=\"../img/survey_q1.png\" width=100%>"
   ]
  },
  {
   "cell_type": "markdown",
   "metadata": {
    "pycharm": {
     "name": "#%% md\n"
    },
    "slideshow": {
     "slide_type": "subslide"
    }
   },
   "source": [
    "### About You: previously taken courses in Machine Learning?\n",
    "\n",
    "<center>\n",
    "<img src=\"../img/survey_q2.png\" width=60%>\n",
    "</center>"
   ]
  },
  {
   "cell_type": "markdown",
   "metadata": {
    "pycharm": {
     "name": "#%% md\n"
    },
    "slideshow": {
     "slide_type": "subslide"
    }
   },
   "source": [
    "### About You: experience with using neural network software libraries?\n",
    "\n",
    "<img src=\"../img/survey_q3.png\" width=100%>"
   ]
  },
  {
   "cell_type": "markdown",
   "metadata": {
    "pycharm": {
     "name": "#%% md\n"
    },
    "slideshow": {
     "slide_type": "subslide"
    }
   },
   "source": [
    "### About You: degree are you enrolled in\n",
    "\n",
    "<center>\n",
    "<img src=\"../img/survey_q4.png\" width=70%>\n",
    "</center>"
   ]
  },
  {
   "cell_type": "markdown",
   "metadata": {
    "pycharm": {
     "name": "#%% md\n"
    },
    "slideshow": {
     "slide_type": "subslide"
    }
   },
   "source": [
    "### About You: what you want to get out of this course\n",
    "\n",
    "<img src=\"../img/survey_q5.png\" width=100%>"
   ]
  },
  {
   "cell_type": "markdown",
   "metadata": {
    "pycharm": {
     "name": "#%% md\n"
    },
    "slideshow": {
     "slide_type": "subslide"
    }
   },
   "source": [
    "### About You: what you want to get out of the lab sessions\n",
    "\n",
    "<img src=\"../img/survey_q6.png\" width=100%>"
   ]
  },
  {
   "cell_type": "markdown",
   "metadata": {
    "pycharm": {
     "name": "#%% md\n"
    },
    "slideshow": {
     "slide_type": "slide"
    }
   },
   "source": [
    "### Course Materials\n",
    "* We will be using the [nlp-course](../overview.ipynb) repository \n",
    "* Contains **interactive** [jupyter](http://jupyter.org/) notebooks and slides\n",
    "    * View statically [here](https://nbviewer.jupyter.org/github/coastalcph/nlp-course/blob/master/overview.ipynb)\n",
    "    * Use interactively via install, see [github repo](https://github.com/coastalcph/nlp-course) instructions  \n",
    "* Recordings of 2020 lectures are available on [Absalon](https://absalon.ku.dk/courses/68562/external_tools/14563)\n",
    "* References to other material are given in context\n",
    "* This is work in progress.\n",
    "    * [Previous iterations of the course at DIKU](https://github.com/copenlu/stat-nlp-book)\n",
    "    * Use `git pull` regularly for updates\n",
    "    * *Watch* for updates\n",
    "    * Please contribute by adding issues on github when you see errors\n",
    "* For assignment hand-in, announcements, discussion forum, check [Absalon](https://absalon.ku.dk/courses/76988)"
   ]
  },
  {
   "cell_type": "markdown",
   "metadata": {
    "pycharm": {
     "name": "#%% md\n"
    },
    "slideshow": {
     "slide_type": "slide"
    }
   },
   "source": [
    "### Teaching Methods\n",
    "* Lectures\n",
    "* Hands-on lab (TA) sessions\n",
    "* Group project\n",
    "* Occasional small exercises during lectures, so bring your laptop\n",
    "* Background material to read before each lecture"
   ]
  },
  {
   "cell_type": "markdown",
   "metadata": {
    "pycharm": {
     "name": "#%% md\n"
    },
    "slideshow": {
     "slide_type": "slide"
    }
   },
   "source": [
    "### Assessment Methods\n",
    "\n",
    "* **[Group project (50%)](https://absalon.ku.dk/courses/76988/assignments/210864)**, can be completed in a group of up to 3 students\n",
    "    * Released 3 September, **hand-in 1 November 17:00**\n",
    "    * Joint report, contribution of each student should be stated clearly\n",
    "    * Code to be uploaded as attachment\n",
    "    * Individual grade for each group member, based on the quality and quantity of their contributions\n",
    "    * Submission via Digital Exam\n",
    "    * Consists of several parts tied to weekly lecture topics\n",
    "    * AI assistance is allowed **with restrictions**\n",
    "    * We cannot guarantee responses to queries about the project after 31 October 15:00"
   ]
  },
  {
   "cell_type": "markdown",
   "metadata": {
    "slideshow": {
     "slide_type": "subslide"
    }
   },
   "source": [
    "### Assessment Methods\n",
    "\n",
    "* **Group project (50%)**, can be completed in a group of up to 3 students\n",
    "    * AI assistance is allowed **with restrictions**:\n",
    "        * As coding tools (e.g., GitHub Copilot): no restrictions.\n",
    "        * As writing tools: no restrictions.\n",
    "        * As search tools: no restrictions. Usual citation requirements apply.\n",
    "        * As generation tools for *new* ideas: generated content must be clearly highlighted. Prompts/transcripts must be included.\n",
    "\n",
    "See project description for more details."
   ]
  },
  {
   "cell_type": "markdown",
   "metadata": {
    "pycharm": {
     "name": "#%% md\n"
    },
    "slideshow": {
     "slide_type": "subslide"
    }
   },
   "source": [
    "### Assessment Methods\n",
    "\n",
    "* **Group project (50%)**, can be completed in a group of up to 3 students\n",
    "    * Finding a group: \n",
    "       * Deadline for group forming: **9 September 17:00**\n",
    "       * We offer to help you find a group -- fill in the [Getting to Know You survey](https://absalon.ku.dk/courses/76988/assignments/210867) by the end of *first lecture day,* **3 September 17:00**\n",
    "       * If you choose this option, you will be informed of your assigned group on **4 September**\n",
    "       * You can still change groups afterwards by asking other students to swap groups (it's your responsibility to arrange this)\n",
    "       * Otherwise, we assume you will find a group by yourself in the first course week, e.g. by coordinating with other students in the lab session"
   ]
  },
  {
   "cell_type": "markdown",
   "metadata": {
    "pycharm": {
     "name": "#%% md\n"
    },
    "slideshow": {
     "slide_type": "subslide"
    }
   },
   "source": [
    "### Assessment Methods\n",
    "\n",
    "* **In-person written exam (50%)**, to be completed individually\n",
    "    * Date: 8 November\n",
    "    * Duration: 1.5 hours\n",
    "    * Theoretical exam, covering the whole course curriculum\n",
    "    * All aids allowed - but per [UCPH policy](https://kunet.ku.dk/work-areas/teaching/digital-learning/chatgpt-and-ai/guidelines-and-rules-for-chatgpt/Pages/default.aspx), ChatGPT/GPT-4 and similar LLMs/generative AI are **not** permitted for the the exam"
   ]
  },
  {
   "cell_type": "markdown",
   "metadata": {
    "pycharm": {
     "name": "#%% md\n"
    },
    "slideshow": {
     "slide_type": "subslide"
    }
   },
   "source": [
    "### Late Hand-In\n",
    "\n",
    "* Late hand-ins **cannot be accepted**\n",
    "* Exceptions can be made in rare cases, e.g. due to illness with doctor's notice\n",
    "    * Get in touch with course organizer at least one working day in advance"
   ]
  },
  {
   "cell_type": "markdown",
   "metadata": {
    "pycharm": {
     "name": "#%% md\n"
    },
    "slideshow": {
     "slide_type": "subslide"
    }
   },
   "source": [
    "### Plagiarism\n",
    "\n",
    "* Don't do it\n",
    "* Don't enable it\n",
    "* Check [rules and consequences](https://student-ambassador.ku.dk/rights/avoid-plagiarism/) if unclear"
   ]
  },
  {
   "cell_type": "markdown",
   "metadata": {
    "pycharm": {
     "name": "#%% md\n"
    },
    "slideshow": {
     "slide_type": "skip"
    }
   },
   "source": [
    "### Docker\n",
    "\n",
    "* The book and tutorials run in a [docker](https://www.docker.com/) container\n",
    "* Container comes with all dependencies pre-installed\n",
    "* You can install it on your machine or on Google Colab/Azure/AWS machines\n",
    "* We recommend you use this container for your project\n",
    "   * Contains all core software packages for solving the project\n",
    "   * You may use additional packages if needed"
   ]
  },
  {
   "cell_type": "code",
   "execution_count": 6,
   "metadata": {
    "slideshow": {
     "slide_type": "skip"
    }
   },
   "outputs": [
    {
     "data": {
      "text/markdown": [
       "../INSTALL.md"
      ],
      "text/plain": [
       "<IPython.core.display.Markdown object>"
      ]
     },
     "metadata": {},
     "output_type": "display_data"
    }
   ],
   "source": [
    "display(Markdown(\"../INSTALL.md\"))"
   ]
  },
  {
   "cell_type": "markdown",
   "metadata": {
    "pycharm": {
     "name": "#%% md\n"
    },
    "slideshow": {
     "slide_type": "subslide"
    }
   },
   "source": [
    "### Python\n",
    "\n",
    "* Lectures, lab exercises and assignments focus on **Python**\n",
    "* Python is a leading language for data science, machine learning etc., with many relevant libraries\n",
    "* We expect you to know Python, or be willing to learn it **on your own**\n",
    "* Labs and assignments focus on development within [jupyter notebooks](http://jupyter.org/)"
   ]
  },
  {
   "cell_type": "markdown",
   "metadata": {
    "pycharm": {
     "name": "#%% md\n"
    },
    "slideshow": {
     "slide_type": "slide"
    }
   },
   "source": [
    "### Lab Sessions\n",
    "\n",
    "* Some lab sessions are tutorial-style (to introduce you to practical aspects of the course)\n",
    "* Other lab sessions are open-topic. You can use them as an opportunity to:\n",
    "   * ask the TAs clarifying questions about the lectures and/or project\n",
    "   * ask the TAs for informal feedback on your project so far\n",
    "   * work on your project with your group"
   ]
  },
  {
   "cell_type": "markdown",
   "metadata": {
    "pycharm": {
     "name": "#%% md\n"
    },
    "slideshow": {
     "slide_type": "slide"
    }
   },
   "source": [
    "### Discussion Forum\n",
    "\n",
    "* Our Absalon page has a [**discussion forum**](https://absalon.ku.dk/courses/76988/discussion_topics).\n",
    "* Please post questions there (instead of sending private emails) \n",
    "* We give low priority to **questions already answered** in previous lectures, tutorials and posts, \n",
    "    * and to **pure programming related issues**\n",
    "* We expect you to **search online** for answers to your questions before you contact us.\n",
    "* You are highly encouraged to participate and **help each other** on the forum. \n",
    "* The teaching team will check the discussion forum regularly **within normal working hours**\n",
    "    * do not expect answers late in the evenings and on weekends\n",
    "    * **start working on your project early**\n",
    "    * come to the lab sessions and ask questions there"
   ]
  },
  {
   "cell_type": "markdown",
   "metadata": {
    "pycharm": {
     "name": "#%% md\n"
    },
    "slideshow": {
     "slide_type": "slide"
    }
   },
   "source": [
    "### DIKU NLP\n",
    "\n",
    "* Research Section, UCPH Computer Science Department\n",
    "* Faculty members: Isabelle Augenstein (head of section), Pepa Atanasova, Daniel Hershcovich, Desmond Elliott, Anders Søgaard\n",
    "* Official webpage: https://di.ku.dk/english/research/nlp/\n",
    "* List of group members: https://copenlu.com/ ; http://coastalcph.github.io/; https://elliottd.github.io/people.html\n",
    "* Twitter: \n",
    "    * @copenlu https://twitter.com/CopeNLU\n",
    "    * @coastalcph https://twitter.com/coastalcph\n",
    "* Always looking for strong MSc students\n",
    "* PhD positions available dependent on funding"
   ]
  }
 ],
 "metadata": {
  "celltoolbar": "Slideshow",
  "kernelspec": {
   "display_name": "Python 3 (ipykernel)",
   "language": "python",
   "name": "python3"
  },
  "language_info": {
   "codemirror_mode": {
    "name": "ipython",
    "version": 3
   },
   "file_extension": ".py",
   "mimetype": "text/x-python",
   "name": "python",
   "nbconvert_exporter": "python",
   "pygments_lexer": "ipython3",
   "version": "3.8.17"
  }
 },
 "nbformat": 4,
 "nbformat_minor": 1
}
