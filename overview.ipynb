{
 "cells": [
  {
   "cell_type": "code",
   "execution_count": 1,
   "metadata": {
    "pycharm": {
     "name": "#%% md\n"
    }
   },
   "outputs": [
    {
     "data": {
      "text/markdown": [
       "# Natural Language Processing (NDAK18000U)\n",
       "## Course at the University of Copenhagen\n",
       "\n",
       "Materials from this interactive book are used throughout the Natural Language Processing course at the Department of Computer Science, University of Copenhagen. The official course description can be found [here](https://kurser.ku.dk/course/ndak18000u). Materials covered each week are listed below. The course schedule and materials are tentative and subject to minor changes. Most reading material is from [Speech and Language Processing by Jurafsky & Martin](https://web.stanford.edu/~jurafsky/slp3).\n",
       "\n",
       "<table><tr><th>Week</th><th>Reading (before lecture)</th><th>Lecture (Tuesday)</th><th>Lab (Friday &amp; Monday)</th><th>Lab notebook</th></tr>\n",
       "     <tr><td>36</td><td>\n",
       "      <a href='https://web.stanford.edu/~jurafsky/slp3/2.pdf'>Chapter 2 up to end of 2.5</a><br>\n",
       "      <a href='https://web.stanford.edu/~jurafsky/slp3/4.pdf'>Chapter 4 up to end of 4.5</a><br>\n",
       "      <a href='https://web.stanford.edu/~jurafsky/slp3/5.pdf'>Chapter 5 up to end of 5.6</a><br>\n",
       "      </td><td>3. Sep. 2024:<br>\n",
       "      Course Logistics (<a href='chapters/course_logistics.ipynb'>slides</a>)<br>\n",
       "      Introduction to NLP (<a href='chapters/intro_short.ipynb'>slides</a>)<br>\n",
       "      Tokenisation &amp; Sentence Splitting (<a href='chapters/tokenization.ipynb'>notes</a>, <a href='chapters/tokenization_slides.ipynb'>slides</a>, <a href='exercises/tokenization.ipynb'>exercises</a>)<br>\n",
       "      Text Classification (<a href='chapters/doc_classify_slides_short.ipynb'>slides</a>)<br>\n",
       "      </td><td>6. &amp; 9. Sep. 2024:<br>\n",
       "      Jupyter notebook setup, introduction to <a href='https://colab.research.google.com/'>Colab</a><br>\n",
       "      Introduction to <a href='https://pytorch.org/tutorials/'>PyTorch</a><br>\n",
       "      Project group arrangements<br>\n",
       "      Questions about the course project<br>\n",
       "      </td><td><a href='labs/notebooks_2024/lab_1.ipynb'>lab 1</a></td></tr>\n",
       "     <tr><td>37</td><td>\n",
       "      <a href='https://web.stanford.edu/~jurafsky/slp3/3.pdf'>Chapter 3 up to end of 3.5</a><br>\n",
       "      <a href='https://web.stanford.edu/~jurafsky/slp3/6.pdf'>Chapter 6 up to end of 6.4</a><br>\n",
       "      <a href='https://web.stanford.edu/~jurafsky/slp3/7.pdf'>Chapter 7 up to end of 7.5</a><br>\n",
       "      </td><td>10. Sep. 2024:<br>\n",
       "      Language Modelling (<a href='chapters/language_models_slides.ipynb'>slides</a>)<br>\n",
       "      Word Embeddings (<a href='chapters/dl-representations_simple.ipynb'>slides</a>)<br>\n",
       "      </td><td>13. &amp; 16. Sep. 2024:<br>\n",
       "      Word representations and sentiment classification<br>\n",
       "      Project help<br>\n",
       "      </td><td><a href='labs/notebooks_2024/lab_2.ipynb'>lab 2</a></td></tr>\n",
       "     <tr><td>38</td><td>\n",
       "      <a href='https://web.stanford.edu/~jurafsky/slp3/4.pdf'>Chapter 4 up to end of 4.6</a><br>\n",
       "      <a href='https://web.stanford.edu/~jurafsky/slp3/7.pdf'>Chapter 7 up to end of 7.6</a><br>\n",
       "      <a href='https://web.stanford.edu/~jurafsky/slp3/9.pdf'>Chapter 9 up to end of 9.2</a></td><td>17. Sep. 2024:<br>\n",
       "      Recurrent Neural Networks (<a href='chapters/rnn_slides_ucph.ipynb'>slides</a>)<br>\n",
       "      Neural Language Models (<a href='chapters/dl-representations_contextual.ipynb'>slides</a>)<br>\n",
       "      </td><td>20. &amp; 23. Sep. 2024:<br>\n",
       "      Error analysis and explainability<br>\n",
       "      Project help<br>\n",
       "      </td><td><a href='labs/notebooks_2024/lab_3.ipynb'>lab 3</a></td></tr>\n",
       "    <tr><td>39</td><td>\n",
       "      <a href='https://web.stanford.edu/~jurafsky/slp3/8.pdf'>Chapter 8 up to end of 8.3</a><br>\n",
       "      <a href='https://web.stanford.edu/~jurafsky/slp3/18.pdf'>Chapter 18 up to end of 18.2</a><br>\n",
       "      </td><td>24. Sep. 2024:<br>\n",
       "      Sequence Labelling (<a href='chapters/sequence_labeling_slides.ipynb'>slides</a>, <a href='chapters/sequence_labeling.ipynb'>notes</a>)<br>\n",
       "      Parsing (<a href='chapters/dependency_parsing_slides_active.ipynb'>slides</a>)<br>\n",
       "      </td><td>27. &amp; 30. Sep. 2024:<br>\n",
       "      Sequence labelling and beam search<br>\n",
       "      Project help<br>\n",
       "      </td><td><a href='labs/notebooks_2024/lab_4.ipynb'>lab 4</a></td></tr>\n",
       "     <tr><td>40</td><td>\n",
       "      <a href='https://web.stanford.edu/~jurafsky/slp3/9.pdf'>9.8</a><br>\n",
       "      <a href='https://web.stanford.edu/~jurafsky/slp3/10.pdf'>Chapter 10</a><br>\n",
       "      <a href='https://web.stanford.edu/~jurafsky/slp3/11.pdf'>Chapter 11</a><br>\n",
       "      </td><td>1. Oct. 2024:<br>\n",
       "      Attention (<a href='chapters/attention_slides2.ipynb'>slides</a>)<br>\n",
       "      Transformers (<a href='chapters/dl-representations_contextual_transformers.ipynb'>slides</a>)<br>\n",
       "      </td><td>4. &amp; 7. Oct. 2024:<br>\n",
       "      Language Models with <a href='https://huggingface.co/course/chapter1'>Transformers</a> and RNNs<br>\n",
       "      Project help<br>\n",
       "      </td><td><a href='labs/notebooks_2024/lab_5.ipynb'>lab 5</a></td></tr>\n",
       "     <tr><td>41</td><td>\n",
       "      <a href='https://web.stanford.edu/~jurafsky/slp3/14.pdf'>Chapter 14</a><br>\n",
       "      <a href='https://web.stanford.edu/~jurafsky/slp3/14.pdf'>Chapter 19</a><br>\n",
       "      </td><td>8. Oct. 2024:<br>\n",
       "      Information Extraction (<a href='chapters/information_extraction_slides.ipynb'>slides</a>)<br>\n",
       "      Question Answering (<a href='chapters/question_answering_slides.ipynb'>slides</a>)<br>\n",
       "      </td><td>11. &amp; 21. Oct. 2024:<br>\n",
       "      In-depth look at Transformers and Multilingual QA<br>\n",
       "      Project help<br>\n",
       "      </td><td><a href='labs/notebooks_2024/lab_6.ipynb'>lab 6</a></td></tr>\n",
       "    <tr><td>43</td><td>\n",
       "      <a href='https://web.stanford.edu/~jurafsky/slp3/13.pdf'>Chapter 13</a><br>\n",
       "      <a href='https://shanzhenren.github.io/csci-699-replnlp-2019fall/lectures/W6-L3-Cross_Lingual_Transfer.pdf'>Wang, 2019</a><br>\n",
       "      </td><td>22. Oct. 2024:<br>\n",
       "      Machine Translation (<a href='chapters/nmt_slides_active.ipynb'>slides</a>)<br>\n",
       "      Transfer Learning (<a href='chapters/xling_transfer_learning_slides.ipynb'>slides</a>)<br>\n",
       "      </td><td>25. &amp; 28. Oct. 2024: Project help.</td><td></td></tr>\n",
       "    <tr><td>44</td><td>\n",
       "      <a href='https://aclanthology.org/Q19-1004.pdf'>Belinkov and Glass, 2019</a>\n",
       "      </td><td>29. Oct. 2024:<br>\n",
       "      Interpretability (<a href='chapters/interpretability_slides.ipynb'>slides</a>)<br>\n",
       "      </td><td>1. Nov. 2024: Project help.</td><td></td></tr></table>\n",
       "\n",
       "The easiest way to view the course content is via the static [nbviewer](https://nbviewer.jupyter.org/github/coastalcph/nlp-course/blob/master/overview.ipynb). \n",
       "To be able to make changes to the book and render it dynamically, see the [installation instructions](INSTALL.md).\n"
      ],
      "text/plain": [
       "<IPython.core.display.Markdown object>"
      ]
     },
     "metadata": {},
     "output_type": "display_data"
    }
   ],
   "source": [
    "from IPython.display import Markdown, display\n",
    "\n",
    "display(Markdown(\"README.md\"))"
   ]
  },
  {
   "cell_type": "markdown",
   "metadata": {
    "pycharm": {
     "name": "#%% md\n"
    }
   },
   "source": [
    "### Introduction\n",
    "NLP is a field that lies in the intersection of Computer Science, Artificial Intelligence (AI) and Linguistics with the goal to enable computers to solve tasks that require natural language _understanding_ and/or _generation_. Such tasks are omnipresent in most of our day-to-day life: think of [Machine Translation](https://www.bing.com/translator/), Automatic [Question Answering](https://www.youtube.com/watch?v=WFR3lOm_xhE) or even basic [Search](https://www.google.co.uk). All these tasks require the computer to process language in one way or another. But even if you ignore these practical applications, many people consider language to be at the heart of human intelligence, and this makes NLP (and its more linguistically motivated cousin, [Computational Linguistics](http://en.wikipedia.org/wiki/Computational_linguistics)), important for its role in AI alone.\n",
    "\n",
    "NLP is a vast field with beginnings dating back to at least the 1960s, and it is difficult to give a full account of every aspect of NLP. Hence, this book focuses on a sub-field of NLP termed Statistical NLP (SNLP). In SNLP computers aren't directly programmed to process language; instead, they _learn_ how language should be processed based on the _statistics_ of a corpus of natural language. For example, a statistical machine translation system's behaviour is affected by the statistics of a _parallel_ corpus where each document in one language is paired with its translation in another. This approach has been dominating NLP research for over two decades now, and has seen widespread in industry too. Notice that while Statistics and Machine Learning are, in general, quite different fields, for the purposes of this book we will mostly identify Statistical NLP with Machine Learning-based NLP. More specifically, we will focus mostly on Deep Learning (i.e., Neural Network) methods, as they generally are the state of the art in Machine Learning for NLP today.\n",
    "\n",
    "### Structure of this Book\n",
    "Note that this book was originally developed for a [15 ECTS course at UCL](https://github.com/uclmr/stat-nlp-book), so we will not be covering all topics of the book and will cover some in less depth. For completeness and context, you can still access all book materials below.\n",
    "\n",
    "We think that to understand and apply SNLP in practice one needs knowledge of the following:\n",
    "\n",
    "  * Tasks (e.g. Machine Translation, Syntactic Parsing)\n",
    "  * Methods &amp; Frameworks (e.g. Discriminative Training, Linear Chain models, Representation Learning)\n",
    "  * Implementations (e.g. NLP data structures, efficient dynamic programming)\n",
    "   \n",
    "The book is somewhat structured around the task dimension. That is, we will explore different methods, frameworks and their implementations, usually in the context of specific NLP applications.\n",
    "\n",
    "On a higher level the book is divided into *themes* that roughly correspond to learning paradigms within SNLP, and which follow a somewhat chronological order: we will start with generative learning, then discuss discriminative learning, then cover forms of weaker supervision to conclude with representation and deep learning. As an overarching theme we will use *structured prediction*, a formulation of machine learning that accounts for the fact that machine learning outputs are often not just classes, but structured objects such as sequences, trees or general graphs. This is a fitting approach, seeing as NLP tasks often require prediction of such structures.\n",
    "\n",
    "The best way to learn language processing with computers is\n",
    "to process language with computers. For this reason this book features interactive\n",
    "code blocks that we use to show NLP in practice, and that you can use\n",
    "to test and investigate methods and language. We use [Jupyter](https://jupyter.org/) notebooks written in [Python](https://www.python.org/) throughout the book.\n",
    "\n",
    "\n",
    "### Table Of Contents\n",
    "* Introduction to NLP: [slides1](chapters/introduction.ipynb), [slides2](chapters/intro_short.ipynb)\n",
    "* Methods\n",
    "    * Structured Prediction: [notes](chapters/structured_prediction.ipynb), [slides](chapters/structured_prediction_slides.ipynb), [exercises](exercises/structured_prediction.ipynb)\n",
    "    * Maximum Likelihood Estimation: [notes](chapters/mle.ipynb), [slides](chapters/mle_slides.ipynb)\n",
    "    * Expectation–maximization (EM) Algorithm: [notes](chapters/em.ipynb)\n",
    "* Tokenisation and Sentence Splitting: [notes](chapters/tokenization.ipynb), [slides](chapters/tokenization_slides.ipynb), [exercises](exercises/tokenization.ipynb)\n",
    "* Generative Learning:\n",
    "    * Language Models (MLE, smoothing): [notes](chapters/language_models.ipynb), [slides](chapters/language_models_slides.ipynb), [exercises](exercises/language_models.ipynb)\n",
    "    * Machine Translation (beam-search, encoder-decoder models): [notes](chapters/word_mt.ipynb), [slides1](chapters/word_mt_slides.ipynb), [slides2](chapters/neural_mt_slides.ipynb) [exercises](exercises/mt.ipynb), [slides3](chapters/nmt_slides_active.ipynb)\n",
    "    * Constituent Parsing (PCFG, dynamic programming): [notes](chapters/parsing.ipynb), [slides](chapters/parsing_slides.ipynb), [exercises](exercises/parsing.ipynb)\n",
    "    * Dependency Parsing (transition based parsing): [notes](chapters/transition-based_dependency_parsing.ipynb), [slides1](chapters/transition_slides.ipynb), [slides2](chapters/dependency_parsing_slides.ipynb), [slides3](chapters/dependency_parsing_slides_active.ipynb)\n",
    "* Discriminative Learning:\n",
    "    * Text Classification (logistic regression): [notes](chapters/doc_classify.ipynb), [slides1](chapters/doc_classify_slides.ipynb), [slides2](chapters/doc_classify_slides_short.ipynb)\n",
    "    * Sequence Labelling (linear chain models): [notes](chapters/sequence_labeling.ipynb), [slides](chapters/sequence_labeling_slides.ipynb)\n",
    "    * Sequence Labelling (CRF): [slides](chapters/sequence_labeling_crf_slides.ipynb)\n",
    "* Weak Supervision:\n",
    "    * Relation Extraction (distant supervision, semi-supervised learning): [notes](chapters/relation_extraction.ipynb), [slides1](https://www.dropbox.com/s/xqq1nwgw1i0gowr/relation-extraction.pdf?dl=0), [interactive-slides](chapters/relation_extraction_slides.ipynb), [slides2](chapters/information_extraction_slides.ipynb)\n",
    "* Representation and Deep Learning\n",
    "    * Overview and Multi-layer Perceptrons: [slides](chapters/dl.ipynb)\n",
    "    * Word Representations: [slides](chapters/dl-representations_simple.ipynb)\n",
    "    * Contextualised Word Representations: [slides](chapters/dl-representations_contextual.ipynb)\n",
    "    * Recurrent Neural Networks: [slides1](chapters/rnn_slides.ipynb), [slides2](chapters/rnn_slides_ucph.ipynb)\n",
    "    * Attention: [slides1](chapters/attention_slides.ipynb), [slides2](chapters/attention_slides2.ipynb)\n",
    "    * Transfer Learning (multitask, cross-lingual): [slides1](chapters/transfer_learning_slides.ipynb), [slides2](chapters/xling_transfer_learning_slides.ipynb)\n",
    "    * Textual Entailment: [slides](chapters/dl_applications.ipynb)\n",
    "    * Question Answering: [slides](chapters/question_answering_slides.ipynb)\n",
    "    * Interpretability: [slides](chapters/interpretability_slides.ipynb)\n",
    "\n",
    "### Installation\n",
    "To install the book locally and use it interactively follow the installation instruction on [GitHub](https://github.com/copenlu/stat-nlp-book).\n",
    "\n",
    "Setup tutorials:\n",
    "* [README](README.md)\n",
    "* [Azure tutorial](tutorials/azure_tutorial.ipynb)"
   ]
  },
  {
   "cell_type": "code",
   "execution_count": null,
   "metadata": {
    "pycharm": {
     "name": "#%%\n"
    }
   },
   "outputs": [],
   "source": []
  }
 ],
 "metadata": {
  "hide_input": false,
  "kernelspec": {
   "display_name": "Python 3 (ipykernel)",
   "language": "python",
   "name": "python3"
  },
  "language_info": {
   "codemirror_mode": {
    "name": "ipython",
    "version": 3
   },
   "file_extension": ".py",
   "mimetype": "text/x-python",
   "name": "python",
   "nbconvert_exporter": "python",
   "pygments_lexer": "ipython3",
   "version": "3.8.17"
  }
 },
 "nbformat": 4,
 "nbformat_minor": 4
}
