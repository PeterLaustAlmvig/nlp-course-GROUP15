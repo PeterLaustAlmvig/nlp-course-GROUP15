{
 "cells": [
  {
   "cell_type": "code",
   "execution_count": 1,
   "id": "409756f5",
   "metadata": {},
   "outputs": [
    {
     "name": "stdout",
     "output_type": "stream",
     "text": [
      "Defaulting to user installation because normal site-packages is not writeable\n",
      "Requirement already satisfied: pandas in /home/laust/.local/lib/python3.10/site-packages (2.3.2)\n",
      "Requirement already satisfied: fastparquet in /home/laust/.local/lib/python3.10/site-packages (2024.11.0)\n",
      "Requirement already satisfied: python-dateutil>=2.8.2 in /home/laust/.local/lib/python3.10/site-packages (from pandas) (2.9.0.post0)\n",
      "Requirement already satisfied: tzdata>=2022.7 in /home/laust/.local/lib/python3.10/site-packages (from pandas) (2025.2)\n",
      "Requirement already satisfied: pytz>=2020.1 in /usr/lib/python3/dist-packages (from pandas) (2022.1)\n",
      "Requirement already satisfied: numpy>=1.22.4 in /home/laust/.local/lib/python3.10/site-packages (from pandas) (2.2.6)\n",
      "Requirement already satisfied: packaging in /home/laust/.local/lib/python3.10/site-packages (from fastparquet) (25.0)\n",
      "Requirement already satisfied: fsspec in /home/laust/.local/lib/python3.10/site-packages (from fastparquet) (2025.9.0)\n",
      "Requirement already satisfied: cramjam>=2.3 in /home/laust/.local/lib/python3.10/site-packages (from fastparquet) (2.11.0)\n",
      "Requirement already satisfied: six>=1.5 in /usr/lib/python3/dist-packages (from python-dateutil>=2.8.2->pandas) (1.16.0)\n"
     ]
    }
   ],
   "source": [
    "!pip3 install pandas fastparquet"
   ]
  },
  {
   "cell_type": "code",
   "execution_count": 2,
   "id": "c4c9308b-0037-4a3f-94ff-55005ef12016",
   "metadata": {},
   "outputs": [
    {
     "name": "stdout",
     "output_type": "stream",
     "text": [
      "Defaulting to user installation because normal site-packages is not writeable\n",
      "Requirement already satisfied: huggingface_hub in /home/laust/.local/lib/python3.10/site-packages (0.34.4)\n",
      "Requirement already satisfied: filelock in /home/laust/.local/lib/python3.10/site-packages (from huggingface_hub) (3.19.1)\n",
      "Requirement already satisfied: requests in /home/laust/.local/lib/python3.10/site-packages (from huggingface_hub) (2.32.5)\n",
      "Requirement already satisfied: typing-extensions>=3.7.4.3 in /home/laust/.local/lib/python3.10/site-packages (from huggingface_hub) (4.15.0)\n",
      "Requirement already satisfied: hf-xet<2.0.0,>=1.1.3 in /home/laust/.local/lib/python3.10/site-packages (from huggingface_hub) (1.1.9)\n",
      "Requirement already satisfied: tqdm>=4.42.1 in /home/laust/.local/lib/python3.10/site-packages (from huggingface_hub) (4.67.1)\n",
      "Requirement already satisfied: fsspec>=2023.5.0 in /home/laust/.local/lib/python3.10/site-packages (from huggingface_hub) (2025.9.0)\n",
      "Requirement already satisfied: pyyaml>=5.1 in /usr/lib/python3/dist-packages (from huggingface_hub) (5.4.1)\n",
      "Requirement already satisfied: packaging>=20.9 in /home/laust/.local/lib/python3.10/site-packages (from huggingface_hub) (25.0)\n",
      "Requirement already satisfied: charset_normalizer<4,>=2 in /home/laust/.local/lib/python3.10/site-packages (from requests->huggingface_hub) (3.4.3)\n",
      "Requirement already satisfied: idna<4,>=2.5 in /usr/lib/python3/dist-packages (from requests->huggingface_hub) (3.3)\n",
      "Requirement already satisfied: urllib3<3,>=1.21.1 in /usr/lib/python3/dist-packages (from requests->huggingface_hub) (1.26.5)\n",
      "Requirement already satisfied: certifi>=2017.4.17 in /usr/lib/python3/dist-packages (from requests->huggingface_hub) (2020.6.20)\n"
     ]
    }
   ],
   "source": [
    "!pip3 install huggingface_hub"
   ]
  },
  {
   "cell_type": "code",
   "execution_count": 3,
   "id": "2aa0bf7b",
   "metadata": {},
   "outputs": [
    {
     "name": "stderr",
     "output_type": "stream",
     "text": [
      "/home/laust/.local/lib/python3.10/site-packages/tqdm/auto.py:21: TqdmWarning: IProgress not found. Please update jupyter and ipywidgets. See https://ipywidgets.readthedocs.io/en/stable/user_install.html\n",
      "  from .autonotebook import tqdm as notebook_tqdm\n"
     ]
    },
    {
     "name": "stdout",
     "output_type": "stream",
     "text": [
      "Train size: 15343, Validation size: 3011\n"
     ]
    }
   ],
   "source": [
    "import pandas as pd\n",
    "\n",
    "splits = {'train': 'train.parquet', 'validation': 'validation.parquet'}\n",
    "df_train = pd.read_parquet(\"hf://datasets/coastalcph/tydi_xor_rc/\" + splits[\"train\"], engine='fastparquet')\n",
    "df_val = pd.read_parquet(\"hf://datasets/coastalcph/tydi_xor_rc/\" + splits[\"validation\"], engine='fastparquet')\n",
    "print(f\"Train size: {len(df_train)}, Validation size: {len(df_val)}\")"
   ]
  },
  {
   "cell_type": "code",
   "execution_count": 6,
   "id": "8935b6b3",
   "metadata": {},
   "outputs": [
    {
     "data": {
      "text/html": [
       "<div>\n",
       "<style scoped>\n",
       "    .dataframe tbody tr th:only-of-type {\n",
       "        vertical-align: middle;\n",
       "    }\n",
       "\n",
       "    .dataframe tbody tr th {\n",
       "        vertical-align: top;\n",
       "    }\n",
       "\n",
       "    .dataframe thead th {\n",
       "        text-align: right;\n",
       "    }\n",
       "</style>\n",
       "<table border=\"1\" class=\"dataframe\">\n",
       "  <thead>\n",
       "    <tr style=\"text-align: right;\">\n",
       "      <th></th>\n",
       "      <th>question</th>\n",
       "      <th>context</th>\n",
       "      <th>lang</th>\n",
       "      <th>answerable</th>\n",
       "      <th>answer_start</th>\n",
       "      <th>answer</th>\n",
       "      <th>answer_inlang</th>\n",
       "    </tr>\n",
       "  </thead>\n",
       "  <tbody>\n",
       "    <tr>\n",
       "      <th>0</th>\n",
       "      <td>উইকিলিকস কত সালে সর্বপ্রথম ইন্টারনেটে প্রথম তথ...</td>\n",
       "      <td>WikiLeaks () is an international non-profit or...</td>\n",
       "      <td>bn</td>\n",
       "      <td>True</td>\n",
       "      <td>182</td>\n",
       "      <td>2006</td>\n",
       "      <td>None</td>\n",
       "    </tr>\n",
       "    <tr>\n",
       "      <th>1</th>\n",
       "      <td>দ্বিতীয় বিশ্বযুদ্ধে কোন দেশ পরাজিত হয় ?</td>\n",
       "      <td>The war in Europe concluded with an invasion o...</td>\n",
       "      <td>bn</td>\n",
       "      <td>True</td>\n",
       "      <td>48</td>\n",
       "      <td>Germany</td>\n",
       "      <td>None</td>\n",
       "    </tr>\n",
       "    <tr>\n",
       "      <th>2</th>\n",
       "      <td>মার্কিন যুক্তরাষ্ট্রের সংবিধান অনুযায়ী মার্কিন...</td>\n",
       "      <td>Same-sex marriage in the United States expande...</td>\n",
       "      <td>bn</td>\n",
       "      <td>False</td>\n",
       "      <td>-1</td>\n",
       "      <td>no</td>\n",
       "      <td>None</td>\n",
       "    </tr>\n",
       "    <tr>\n",
       "      <th>3</th>\n",
       "      <td>আরব-ইসরায়েলি যুদ্ধে আরবের মোট কয়জন সৈন্যের মৃ...</td>\n",
       "      <td>The exact number of Arab casualties is unknown...</td>\n",
       "      <td>bn</td>\n",
       "      <td>True</td>\n",
       "      <td>39</td>\n",
       "      <td>unknown</td>\n",
       "      <td>None</td>\n",
       "    </tr>\n",
       "    <tr>\n",
       "      <th>4</th>\n",
       "      <td>বিশ্বে প্রথম পুঁজিবাদী সমাজ কবে গড়ে ওঠে ?</td>\n",
       "      <td>As Thomas Hall (2000) notes, \"The Sung Empire ...</td>\n",
       "      <td>bn</td>\n",
       "      <td>True</td>\n",
       "      <td>1219</td>\n",
       "      <td>17th century</td>\n",
       "      <td>None</td>\n",
       "    </tr>\n",
       "  </tbody>\n",
       "</table>\n",
       "</div>"
      ],
      "text/plain": [
       "                                            question  \\\n",
       "0  উইকিলিকস কত সালে সর্বপ্রথম ইন্টারনেটে প্রথম তথ...   \n",
       "1           দ্বিতীয় বিশ্বযুদ্ধে কোন দেশ পরাজিত হয় ?   \n",
       "2  মার্কিন যুক্তরাষ্ট্রের সংবিধান অনুযায়ী মার্কিন...   \n",
       "3  আরব-ইসরায়েলি যুদ্ধে আরবের মোট কয়জন সৈন্যের মৃ...   \n",
       "4          বিশ্বে প্রথম পুঁজিবাদী সমাজ কবে গড়ে ওঠে ?   \n",
       "\n",
       "                                             context lang  answerable  \\\n",
       "0  WikiLeaks () is an international non-profit or...   bn        True   \n",
       "1  The war in Europe concluded with an invasion o...   bn        True   \n",
       "2  Same-sex marriage in the United States expande...   bn       False   \n",
       "3  The exact number of Arab casualties is unknown...   bn        True   \n",
       "4  As Thomas Hall (2000) notes, \"The Sung Empire ...   bn        True   \n",
       "\n",
       "   answer_start        answer answer_inlang  \n",
       "0           182          2006          None  \n",
       "1            48       Germany          None  \n",
       "2            -1            no          None  \n",
       "3            39       unknown          None  \n",
       "4          1219  17th century          None  "
      ]
     },
     "execution_count": 6,
     "metadata": {},
     "output_type": "execute_result"
    }
   ],
   "source": [
    "df_train.head()"
   ]
  },
  {
   "cell_type": "code",
   "execution_count": 7,
   "id": "527a66c1",
   "metadata": {},
   "outputs": [
    {
     "name": "stdout",
     "output_type": "stream",
     "text": [
      "Arabic train size: 2558, validation size: 415\n",
      "Korean train size: 2422, validation size: 356\n",
      "Telugu train size: 1355, validation size: 384\n"
     ]
    }
   ],
   "source": [
    "# Split train and validation into ar, ko and te based on the lang column\n",
    "df_ar_train = df_train[df_train['lang'] == 'ar']\n",
    "df_ko_train = df_train[df_train['lang'] == 'ko']\n",
    "df_te_train = df_train[df_train['lang'] == 'te']\n",
    "\n",
    "df_ar_val = df_val[df_val['lang'] == 'ar']\n",
    "df_ko_val = df_val[df_val['lang'] == 'ko']\n",
    "df_te_val = df_val[df_val['lang'] == 'te']\n",
    "\n",
    "print(f\"Arabic train size: {len(df_ar_train)}, validation size: {len(df_ar_val)}\")\n",
    "print(f\"Korean train size: {len(df_ko_train)}, validation size: {len(df_ko_val)}\")\n",
    "print(f\"Telugu train size: {len(df_te_train)}, validation size: {len(df_te_val)}\")\n"
   ]
  },
  {
   "cell_type": "code",
   "execution_count": 8,
   "id": "8a3e445e",
   "metadata": {},
   "outputs": [
    {
     "name": "stdout",
     "output_type": "stream",
     "text": [
      "Arabic train first row:\n",
      "question                متى تدخلت روسيا في  الحرب الأهلية السورية؟\n",
      "context          The Russian military intervention in the Syria...\n",
      "lang                                                            ar\n",
      "answerable                                                    True\n",
      "answer_start                                                    67\n",
      "answer                                              September 2015\n",
      "answer_inlang                                                 None\n",
      "Name: 11213, dtype: object\n",
      "\n",
      "Korean train first row:\n",
      "question                                         30년 전쟁의 승자는 누구인가?\n",
      "context          The conflict between France and Spain continue...\n",
      "lang                                                            ko\n",
      "answerable                                                    True\n",
      "answer_start                                                    21\n",
      "answer                                                      France\n",
      "answer_inlang                                                 None\n",
      "Name: 4792, dtype: object\n",
      "\n",
      "Telugu train first row:\n",
      "question         ప్రపంచంలో  మొట్టమొదటి దూర విద్య విద్యాలయం ఏ దే...\n",
      "context          Referred to as \"People's University\" by Charle...\n",
      "lang                                                            te\n",
      "answerable                                                    True\n",
      "answer_start                                                   236\n",
      "answer                                                      London\n",
      "answer_inlang                                                 None\n",
      "Name: 13771, dtype: object\n"
     ]
    }
   ],
   "source": [
    "# Print the first row of each dataframe\n",
    "print(\"Arabic train first row:\")\n",
    "print(df_ar_train.iloc[0])\n",
    "print(\"\\nKorean train first row:\")\n",
    "print(df_ko_train.iloc[0])\n",
    "print(\"\\nTelugu train first row:\")\n",
    "print(df_te_train.iloc[0])"
   ]
  },
  {
   "cell_type": "code",
   "execution_count": 9,
   "id": "c683882b-be48-4e2c-83f5-d090bb9bce91",
   "metadata": {},
   "outputs": [
    {
     "data": {
      "text/plain": [
       "'The 2014 Israel–Gaza conflict also known as Operation Protective Edge (, \"Miv\\'tza Tzuk Eitan\", lit. \"Operation Strong Cliff\") and sometimes referred to as the 2014 Gaza war,\\nwas a military operation launched by Israel on 8 July 2014 in the Hamas-ruled Gaza Strip. Following the kidnapping and murder of three Israeli teenagers by Hamas members, the IDF conducted \"Operation Brother\\'s Keeper\" to arrest militant leaders, Hamas fired rockets into Israel and a seven-week conflict broke out. The Israeli airstrikes and ground bombardment, the Palestinian rocket attacks and the ground fighting resulted in the death of thousands of people, the vast majority of them Gazans.'"
      ]
     },
     "execution_count": 9,
     "metadata": {},
     "output_type": "execute_result"
    }
   ],
   "source": [
    "df_ar_train.iloc[3]['context']"
   ]
  },
  {
   "cell_type": "code",
   "execution_count": 10,
   "id": "409fc0bd-d737-40e1-add9-cc2d0eb2db13",
   "metadata": {},
   "outputs": [
    {
     "data": {
      "text/plain": [
       "'متى تدخلت روسيا في  الحرب الأهلية السورية؟'"
      ]
     },
     "execution_count": 10,
     "metadata": {},
     "output_type": "execute_result"
    }
   ],
   "source": [
    "#When did Russia intervene in the Syrian civil war?\n",
    "df_ar_train.iloc[0]['question']"
   ]
  },
  {
   "cell_type": "code",
   "execution_count": 11,
   "id": "c30d9737",
   "metadata": {},
   "outputs": [
    {
     "data": {
      "text/plain": [
       "'The Russian military intervention in the Syrian Civil War began in September 2015, after an official request by the Syrian government for military aid against rebel and jihadist groups. The intervention initially consisted of air strikes fired by Russian aircraft stationed in the Khmeimim base at targets primarily in north-western Syria, against militant groups opposed to the Syrian government, including Syrian National Coalition, the Islamic State of Iraq and the Levant (ISIL), al-Nusra Front (al-Qaeda in the Levant) and the Army of Conquest. Besides, Russian military advisors and special operations forces were stationed in Syria. Prior to the intervention, Russian involvement in the Syrian Civil War had mainly consisted of supplying the Syrian Army. At the end of December 2017, Russia said its troops would be based in Syria permanently.'"
      ]
     },
     "execution_count": 11,
     "metadata": {},
     "output_type": "execute_result"
    }
   ],
   "source": [
    "df_ar_train.iloc[0]['context']"
   ]
  },
  {
   "cell_type": "code",
   "execution_count": 12,
   "id": "51284770-169d-4dd6-806b-a1d6c298fdd7",
   "metadata": {},
   "outputs": [
    {
     "data": {
      "text/plain": [
       "'متى حصلت هنغاريا على استقلالها من النمسا ؟'"
      ]
     },
     "execution_count": 12,
     "metadata": {},
     "output_type": "execute_result"
    }
   ],
   "source": [
    "#When did Hungary gain independence from Austria?\n",
    "df_ar_train.iloc[1]['question']"
   ]
  },
  {
   "cell_type": "code",
   "execution_count": 13,
   "id": "b79f4fd3-147f-4a07-889c-f9de4e906095",
   "metadata": {},
   "outputs": [
    {
     "data": {
      "text/plain": [
       "'By 1918, the economic situation had deteriorated alarmingly in Austria-Hungary; strikes in factories were organized by leftist and pacifist movements, and uprisings in the army had become commonplace. In the capital cities of Vienna and Budapest, the Austrian and the Hungarian leftist liberal movements and their leaders supported the separatism of ethnic minorities. Austria-Hungary signed the Armistice of Villa Giusti in Padua on 3 November 1918. In October 1918, the personal union between Austria and Hungary was dissolved.'"
      ]
     },
     "execution_count": 13,
     "metadata": {},
     "output_type": "execute_result"
    }
   ],
   "source": [
    "df_ar_train.iloc[1]['context']"
   ]
  },
  {
   "cell_type": "code",
   "execution_count": 14,
   "id": "3ddf0deb-af15-490d-bf94-b48baf1bdcf1",
   "metadata": {},
   "outputs": [
    {
     "data": {
      "text/plain": [
       "'هل سلسلة هاري بوتر مخالفة لقوانين المسيحية ؟'"
      ]
     },
     "execution_count": 14,
     "metadata": {},
     "output_type": "execute_result"
    }
   ],
   "source": [
    "#Is the Harry Potter series against Christian laws?\n",
    "df_ar_train.iloc[4]['question']"
   ]
  },
  {
   "cell_type": "code",
   "execution_count": 15,
   "id": "d88f986b-cbcf-4a29-a8c0-2d02cec40484",
   "metadata": {},
   "outputs": [
    {
     "data": {
      "text/plain": [
       "'Religious debates over the \"Harry Potter\" series of books by J. K. Rowling are based on claims that the novels contain occult or Satanic subtexts. A number of Protestant, Catholic, and Orthodox Christians have argued against the series, as have some Shia and Sunni Muslims. Supporters of the series have said that the magic in \"Harry Potter\" bears little resemblance to occultism, being more in the vein of fairy tales such as \"Cinderella\" and \"Snow White\", or to the works of C. S. Lewis and J. R. R. Tolkien, both of whom are known for writing fantasy novels with Christian subtexts. Far from promoting a particular religion, some argue, the \"Harry Potter\" novels go out of their way to avoid discussing religion at all. However, the author of the series, J. K. Rowling, describes herself as a practising Christian, and many have noted the Christian references which she includes in the final novel \"Harry Potter and the Deathly Hallows\".'"
      ]
     },
     "execution_count": 15,
     "metadata": {},
     "output_type": "execute_result"
    }
   ],
   "source": [
    "df_ar_train.iloc[4]['context']"
   ]
  },
  {
   "cell_type": "code",
   "execution_count": 16,
   "id": "f76d0e84-c520-4a86-9299-95a2e98ff27c",
   "metadata": {},
   "outputs": [
    {
     "data": {
      "text/html": [
       "<div>\n",
       "<style scoped>\n",
       "    .dataframe tbody tr th:only-of-type {\n",
       "        vertical-align: middle;\n",
       "    }\n",
       "\n",
       "    .dataframe tbody tr th {\n",
       "        vertical-align: top;\n",
       "    }\n",
       "\n",
       "    .dataframe thead th {\n",
       "        text-align: right;\n",
       "    }\n",
       "</style>\n",
       "<table border=\"1\" class=\"dataframe\">\n",
       "  <thead>\n",
       "    <tr style=\"text-align: right;\">\n",
       "      <th></th>\n",
       "      <th>question</th>\n",
       "      <th>context</th>\n",
       "      <th>lang</th>\n",
       "      <th>answerable</th>\n",
       "      <th>answer_start</th>\n",
       "      <th>answer</th>\n",
       "      <th>answer_inlang</th>\n",
       "    </tr>\n",
       "  </thead>\n",
       "  <tbody>\n",
       "    <tr>\n",
       "      <th>1411</th>\n",
       "      <td>ما هي أولى جامعات فنلندا؟</td>\n",
       "      <td>The Royal Academy of Åbo ( or \"Åbo Kungliga Ak...</td>\n",
       "      <td>ar</td>\n",
       "      <td>True</td>\n",
       "      <td>4</td>\n",
       "      <td>Royal Academy of Åbo</td>\n",
       "      <td>None</td>\n",
       "    </tr>\n",
       "    <tr>\n",
       "      <th>1412</th>\n",
       "      <td>ما عدد الدول المطلة على بحر البلطيق؟</td>\n",
       "      <td>The Baltic Sea is a marginal sea of the Atlant...</td>\n",
       "      <td>ar</td>\n",
       "      <td>True</td>\n",
       "      <td>68</td>\n",
       "      <td>Finland, Sweden, Denmark, Estonia, Latvia, Lit...</td>\n",
       "      <td>None</td>\n",
       "    </tr>\n",
       "    <tr>\n",
       "      <th>1413</th>\n",
       "      <td>اين عاش نيوتن؟</td>\n",
       "      <td>From age 12 to age 17, Newton resided with Wil...</td>\n",
       "      <td>ar</td>\n",
       "      <td>True</td>\n",
       "      <td>74</td>\n",
       "      <td>Grantham</td>\n",
       "      <td>None</td>\n",
       "    </tr>\n",
       "    <tr>\n",
       "      <th>1417</th>\n",
       "      <td>هل زار ابن بطوطة اليمن؟</td>\n",
       "      <td>After the \"hajj\" in either 1328 or 1330, he ma...</td>\n",
       "      <td>ar</td>\n",
       "      <td>False</td>\n",
       "      <td>-1</td>\n",
       "      <td>no</td>\n",
       "      <td>None</td>\n",
       "    </tr>\n",
       "    <tr>\n",
       "      <th>1422</th>\n",
       "      <td>من هو الرئيس الأول للجمهورية اليمنية؟</td>\n",
       "      <td>The first President of unified Yemen was Ali A...</td>\n",
       "      <td>ar</td>\n",
       "      <td>True</td>\n",
       "      <td>41</td>\n",
       "      <td>Ali Abdullah Saleh</td>\n",
       "      <td>None</td>\n",
       "    </tr>\n",
       "  </tbody>\n",
       "</table>\n",
       "</div>"
      ],
      "text/plain": [
       "                                   question  \\\n",
       "1411              ما هي أولى جامعات فنلندا؟   \n",
       "1412   ما عدد الدول المطلة على بحر البلطيق؟   \n",
       "1413                         اين عاش نيوتن؟   \n",
       "1417                هل زار ابن بطوطة اليمن؟   \n",
       "1422  من هو الرئيس الأول للجمهورية اليمنية؟   \n",
       "\n",
       "                                                context lang  answerable  \\\n",
       "1411  The Royal Academy of Åbo ( or \"Åbo Kungliga Ak...   ar        True   \n",
       "1412  The Baltic Sea is a marginal sea of the Atlant...   ar        True   \n",
       "1413  From age 12 to age 17, Newton resided with Wil...   ar        True   \n",
       "1417  After the \"hajj\" in either 1328 or 1330, he ma...   ar       False   \n",
       "1422  The first President of unified Yemen was Ali A...   ar        True   \n",
       "\n",
       "      answer_start                                             answer  \\\n",
       "1411             4                               Royal Academy of Åbo   \n",
       "1412            68  Finland, Sweden, Denmark, Estonia, Latvia, Lit...   \n",
       "1413            74                                           Grantham   \n",
       "1417            -1                                                 no   \n",
       "1422            41                                 Ali Abdullah Saleh   \n",
       "\n",
       "     answer_inlang  \n",
       "1411          None  \n",
       "1412          None  \n",
       "1413          None  \n",
       "1417          None  \n",
       "1422          None  "
      ]
     },
     "execution_count": 16,
     "metadata": {},
     "output_type": "execute_result"
    }
   ],
   "source": [
    "df_ar_val.head()"
   ]
  },
  {
   "cell_type": "code",
   "execution_count": 17,
   "id": "680419a2-2d87-4ff6-a630-77e6e17d04c3",
   "metadata": {},
   "outputs": [
    {
     "name": "stdout",
     "output_type": "stream",
     "text": [
      "Defaulting to user installation because normal site-packages is not writeable\n",
      "Requirement already satisfied: scikit-learn in /home/laust/.local/lib/python3.10/site-packages (1.7.1)\n",
      "Requirement already satisfied: joblib>=1.2.0 in /home/laust/.local/lib/python3.10/site-packages (from scikit-learn) (1.5.2)\n",
      "Requirement already satisfied: numpy>=1.22.0 in /home/laust/.local/lib/python3.10/site-packages (from scikit-learn) (2.2.6)\n",
      "Requirement already satisfied: threadpoolctl>=3.1.0 in /home/laust/.local/lib/python3.10/site-packages (from scikit-learn) (3.6.0)\n",
      "Requirement already satisfied: scipy>=1.8.0 in /home/laust/.local/lib/python3.10/site-packages (from scikit-learn) (1.15.3)\n"
     ]
    }
   ],
   "source": [
    "!pip3 install scikit-learn"
   ]
  },
  {
   "cell_type": "code",
   "execution_count": 18,
   "id": "f7a81089-e4e7-4995-be5d-e6f730865a10",
   "metadata": {},
   "outputs": [
    {
     "name": "stdout",
     "output_type": "stream",
     "text": [
      "Defaulting to user installation because normal site-packages is not writeable\n",
      "Requirement already satisfied: transformers in /home/laust/.local/lib/python3.10/site-packages (4.56.1)\n",
      "Requirement already satisfied: pyyaml>=5.1 in /usr/lib/python3/dist-packages (from transformers) (5.4.1)\n",
      "Requirement already satisfied: regex!=2019.12.17 in /home/laust/.local/lib/python3.10/site-packages (from transformers) (2025.9.1)\n",
      "Requirement already satisfied: tqdm>=4.27 in /home/laust/.local/lib/python3.10/site-packages (from transformers) (4.67.1)\n",
      "Requirement already satisfied: tokenizers<=0.23.0,>=0.22.0 in /home/laust/.local/lib/python3.10/site-packages (from transformers) (0.22.0)\n",
      "Requirement already satisfied: packaging>=20.0 in /home/laust/.local/lib/python3.10/site-packages (from transformers) (25.0)\n",
      "Requirement already satisfied: huggingface-hub<1.0,>=0.34.0 in /home/laust/.local/lib/python3.10/site-packages (from transformers) (0.34.4)\n",
      "Requirement already satisfied: filelock in /home/laust/.local/lib/python3.10/site-packages (from transformers) (3.19.1)\n",
      "Requirement already satisfied: safetensors>=0.4.3 in /home/laust/.local/lib/python3.10/site-packages (from transformers) (0.6.2)\n",
      "Requirement already satisfied: numpy>=1.17 in /home/laust/.local/lib/python3.10/site-packages (from transformers) (2.2.6)\n",
      "Requirement already satisfied: requests in /home/laust/.local/lib/python3.10/site-packages (from transformers) (2.32.5)\n",
      "Requirement already satisfied: fsspec>=2023.5.0 in /home/laust/.local/lib/python3.10/site-packages (from huggingface-hub<1.0,>=0.34.0->transformers) (2025.9.0)\n",
      "Requirement already satisfied: hf-xet<2.0.0,>=1.1.3 in /home/laust/.local/lib/python3.10/site-packages (from huggingface-hub<1.0,>=0.34.0->transformers) (1.1.9)\n",
      "Requirement already satisfied: typing-extensions>=3.7.4.3 in /home/laust/.local/lib/python3.10/site-packages (from huggingface-hub<1.0,>=0.34.0->transformers) (4.15.0)\n",
      "Requirement already satisfied: charset_normalizer<4,>=2 in /home/laust/.local/lib/python3.10/site-packages (from requests->transformers) (3.4.3)\n",
      "Requirement already satisfied: idna<4,>=2.5 in /usr/lib/python3/dist-packages (from requests->transformers) (3.3)\n",
      "Requirement already satisfied: urllib3<3,>=1.21.1 in /usr/lib/python3/dist-packages (from requests->transformers) (1.26.5)\n",
      "Requirement already satisfied: certifi>=2017.4.17 in /usr/lib/python3/dist-packages (from requests->transformers) (2020.6.20)\n"
     ]
    }
   ],
   "source": [
    "!pip3 install transformers"
   ]
  },
  {
   "cell_type": "code",
   "execution_count": 19,
   "id": "31a52396-474c-4d6a-b0c7-6bbfbb350196",
   "metadata": {},
   "outputs": [
    {
     "name": "stdout",
     "output_type": "stream",
     "text": [
      "Defaulting to user installation because normal site-packages is not writeable\n",
      "Collecting torch\n",
      "  Using cached torch-2.8.0-cp310-cp310-manylinux_2_28_x86_64.whl (888.0 MB)\n",
      "Collecting nvidia-cusparse-cu12==12.5.8.93\n",
      "  Downloading nvidia_cusparse_cu12-12.5.8.93-py3-none-manylinux2014_x86_64.manylinux_2_17_x86_64.whl (288.2 MB)\n",
      "\u001b[2K     \u001b[38;2;114;156;31m━━━━━━━━━━━━━━━━━━━━━━━━━━━━━━━━━━━━━━\u001b[0m \u001b[32m288.2/288.2 MB\u001b[0m \u001b[31m15.1 MB/s\u001b[0m eta \u001b[36m0:00:00\u001b[0mm eta \u001b[36m0:00:01\u001b[0m[36m0:00:01\u001b[0m\n",
      "\u001b[?25hCollecting nvidia-nvtx-cu12==12.8.90\n",
      "  Using cached nvidia_nvtx_cu12-12.8.90-py3-none-manylinux2014_x86_64.manylinux_2_17_x86_64.whl (89 kB)\n",
      "Collecting sympy>=1.13.3\n",
      "  Using cached sympy-1.14.0-py3-none-any.whl (6.3 MB)\n",
      "Collecting nvidia-cudnn-cu12==9.10.2.21\n",
      "  Using cached nvidia_cudnn_cu12-9.10.2.21-py3-none-manylinux_2_27_x86_64.whl (706.8 MB)\n",
      "Collecting nvidia-nvjitlink-cu12==12.8.93\n",
      "  Using cached nvidia_nvjitlink_cu12-12.8.93-py3-none-manylinux2010_x86_64.manylinux_2_12_x86_64.whl (39.3 MB)\n",
      "Collecting nvidia-cufile-cu12==1.13.1.3\n",
      "  Using cached nvidia_cufile_cu12-1.13.1.3-py3-none-manylinux2014_x86_64.manylinux_2_17_x86_64.whl (1.2 MB)\n",
      "Requirement already satisfied: jinja2 in /home/laust/.local/lib/python3.10/site-packages (from torch) (3.1.6)\n",
      "Collecting nvidia-curand-cu12==10.3.9.90\n",
      "  Using cached nvidia_curand_cu12-10.3.9.90-py3-none-manylinux_2_27_x86_64.whl (63.6 MB)\n",
      "Collecting nvidia-cuda-nvrtc-cu12==12.8.93\n",
      "  Using cached nvidia_cuda_nvrtc_cu12-12.8.93-py3-none-manylinux2010_x86_64.manylinux_2_12_x86_64.whl (88.0 MB)\n",
      "Requirement already satisfied: filelock in /home/laust/.local/lib/python3.10/site-packages (from torch) (3.19.1)\n",
      "Collecting nvidia-cusparselt-cu12==0.7.1\n",
      "  Using cached nvidia_cusparselt_cu12-0.7.1-py3-none-manylinux2014_x86_64.whl (287.2 MB)\n",
      "Collecting nvidia-cuda-cupti-cu12==12.8.90\n",
      "  Using cached nvidia_cuda_cupti_cu12-12.8.90-py3-none-manylinux2014_x86_64.manylinux_2_17_x86_64.whl (10.2 MB)\n",
      "Collecting nvidia-cufft-cu12==11.3.3.83\n",
      "  Using cached nvidia_cufft_cu12-11.3.3.83-py3-none-manylinux2014_x86_64.manylinux_2_17_x86_64.whl (193.1 MB)\n",
      "Collecting nvidia-nccl-cu12==2.27.3\n",
      "  Using cached nvidia_nccl_cu12-2.27.3-py3-none-manylinux2014_x86_64.manylinux_2_17_x86_64.whl (322.4 MB)\n",
      "Collecting nvidia-cublas-cu12==12.8.4.1\n",
      "  Downloading nvidia_cublas_cu12-12.8.4.1-py3-none-manylinux_2_27_x86_64.whl (594.3 MB)\n",
      "\u001b[2K     \u001b[38;2;114;156;31m━━━━━━━━━━━━━━━━━━━━━━━━━━━━━━━━━━━━━━━\u001b[0m \u001b[32m594.3/594.3 MB\u001b[0m \u001b[31m9.5 MB/s\u001b[0m eta \u001b[36m0:00:00\u001b[0mm eta \u001b[36m0:00:01\u001b[0m[36m0:00:01\u001b[0m\n",
      "\u001b[?25hCollecting networkx\n",
      "  Using cached networkx-3.4.2-py3-none-any.whl (1.7 MB)\n",
      "Collecting nvidia-cusolver-cu12==11.7.3.90\n",
      "  Downloading nvidia_cusolver_cu12-11.7.3.90-py3-none-manylinux_2_27_x86_64.whl (267.5 MB)\n",
      "\u001b[2K     \u001b[38;2;114;156;31m━━━━━━━━━━━━━━━━━━━━━━━━━━━━━━━━━━━━━━\u001b[0m \u001b[32m267.5/267.5 MB\u001b[0m \u001b[31m16.1 MB/s\u001b[0m eta \u001b[36m0:00:00\u001b[0mm eta \u001b[36m0:00:01\u001b[0m[36m0:00:01\u001b[0m\n",
      "\u001b[?25hRequirement already satisfied: typing-extensions>=4.10.0 in /home/laust/.local/lib/python3.10/site-packages (from torch) (4.15.0)\n",
      "Requirement already satisfied: fsspec in /home/laust/.local/lib/python3.10/site-packages (from torch) (2025.9.0)\n",
      "Collecting nvidia-cuda-runtime-cu12==12.8.90\n",
      "  Using cached nvidia_cuda_runtime_cu12-12.8.90-py3-none-manylinux2014_x86_64.manylinux_2_17_x86_64.whl (954 kB)\n",
      "Collecting triton==3.4.0\n",
      "  Using cached triton-3.4.0-cp310-cp310-manylinux_2_27_x86_64.manylinux_2_28_x86_64.whl (155.4 MB)\n",
      "Requirement already satisfied: setuptools>=40.8.0 in /usr/lib/python3/dist-packages (from triton==3.4.0->torch) (59.6.0)\n",
      "Collecting mpmath<1.4,>=1.1.0\n",
      "  Downloading mpmath-1.3.0-py3-none-any.whl (536 kB)\n",
      "\u001b[2K     \u001b[38;2;114;156;31m━━━━━━━━━━━━━━━━━━━━━━━━━━━━━━━━━━━━━━\u001b[0m \u001b[32m536.2/536.2 KB\u001b[0m \u001b[31m59.1 MB/s\u001b[0m eta \u001b[36m0:00:00\u001b[0m\n",
      "\u001b[?25hRequirement already satisfied: MarkupSafe>=2.0 in /home/laust/.local/lib/python3.10/site-packages (from jinja2->torch) (3.0.2)\n",
      "Installing collected packages: nvidia-cusparselt-cu12, mpmath, triton, sympy, nvidia-nvtx-cu12, nvidia-nvjitlink-cu12, nvidia-nccl-cu12, nvidia-curand-cu12, nvidia-cufile-cu12, nvidia-cuda-runtime-cu12, nvidia-cuda-nvrtc-cu12, nvidia-cuda-cupti-cu12, nvidia-cublas-cu12, networkx, nvidia-cusparse-cu12, nvidia-cufft-cu12, nvidia-cudnn-cu12, nvidia-cusolver-cu12, torch\n",
      "Successfully installed mpmath-1.3.0 networkx-3.4.2 nvidia-cublas-cu12-12.8.4.1 nvidia-cuda-cupti-cu12-12.8.90 nvidia-cuda-nvrtc-cu12-12.8.93 nvidia-cuda-runtime-cu12-12.8.90 nvidia-cudnn-cu12-9.10.2.21 nvidia-cufft-cu12-11.3.3.83 nvidia-cufile-cu12-1.13.1.3 nvidia-curand-cu12-10.3.9.90 nvidia-cusolver-cu12-11.7.3.90 nvidia-cusparse-cu12-12.5.8.93 nvidia-cusparselt-cu12-0.7.1 nvidia-nccl-cu12-2.27.3 nvidia-nvjitlink-cu12-12.8.93 nvidia-nvtx-cu12-12.8.90 sympy-1.14.0 torch-2.8.0 triton-3.4.0\n"
     ]
    }
   ],
   "source": [
    "!pip3 install torch"
   ]
  },
  {
   "cell_type": "code",
   "execution_count": 20,
   "id": "182c0ff5-639d-48e7-bdb0-9a217e3a85e2",
   "metadata": {},
   "outputs": [
    {
     "name": "stderr",
     "output_type": "stream",
     "text": [
      "Device set to use cpu\n",
      "Your input_length: 198 is bigger than 0.9 * max_length: 200. You might consider increasing your max_length manually, e.g. translator('...', max_length=400)\n",
      "Your input_length: 206 is bigger than 0.9 * max_length: 200. You might consider increasing your max_length manually, e.g. translator('...', max_length=400)\n",
      "Your input_length: 261 is bigger than 0.9 * max_length: 200. You might consider increasing your max_length manually, e.g. translator('...', max_length=400)\n",
      "Your input_length: 783 is bigger than 0.9 * max_length: 200. You might consider increasing your max_length manually, e.g. translator('...', max_length=400)\n",
      "Your input_length: 264 is bigger than 0.9 * max_length: 200. You might consider increasing your max_length manually, e.g. translator('...', max_length=400)\n",
      "Your input_length: 269 is bigger than 0.9 * max_length: 200. You might consider increasing your max_length manually, e.g. translator('...', max_length=400)\n",
      "Your input_length: 335 is bigger than 0.9 * max_length: 200. You might consider increasing your max_length manually, e.g. translator('...', max_length=400)\n",
      "Your input_length: 218 is bigger than 0.9 * max_length: 200. You might consider increasing your max_length manually, e.g. translator('...', max_length=400)\n",
      "Your input_length: 203 is bigger than 0.9 * max_length: 200. You might consider increasing your max_length manually, e.g. translator('...', max_length=400)\n",
      "Your input_length: 253 is bigger than 0.9 * max_length: 200. You might consider increasing your max_length manually, e.g. translator('...', max_length=400)\n",
      "Your input_length: 238 is bigger than 0.9 * max_length: 200. You might consider increasing your max_length manually, e.g. translator('...', max_length=400)\n",
      "Your input_length: 202 is bigger than 0.9 * max_length: 200. You might consider increasing your max_length manually, e.g. translator('...', max_length=400)\n",
      "Your input_length: 265 is bigger than 0.9 * max_length: 200. You might consider increasing your max_length manually, e.g. translator('...', max_length=400)\n",
      "Your input_length: 231 is bigger than 0.9 * max_length: 200. You might consider increasing your max_length manually, e.g. translator('...', max_length=400)\n",
      "Your input_length: 735 is bigger than 0.9 * max_length: 200. You might consider increasing your max_length manually, e.g. translator('...', max_length=400)\n",
      "\n",
      "KeyboardInterrupt\n",
      "\n"
     ]
    }
   ],
   "source": [
    "import torch\n",
    "import pandas as pd\n",
    "import numpy as np\n",
    "from sklearn.metrics import classification_report\n",
    "from transformers import pipeline\n",
    "\n",
    "# --- Setup translation pipeline ---\n",
    "# Load the Hugging Face NLLB model\n",
    "translator = pipeline(\"translation\", model=\"facebook/nllb-200-distilled-600M\")\n",
    "\n",
    "def translate_text(text: str, src_lang: str = \"arb_Arab\", tgt_lang: str = \"eng_Latn\") -> str:\n",
    "    \"\"\"\n",
    "    Translate text from source to target language using NLLB.\n",
    "    Default: Arabic -> English\n",
    "    \"\"\"\n",
    "    if not isinstance(text, str) or text.strip() == \"\":\n",
    "        return text\n",
    "    result = translator(text, src_lang=src_lang, tgt_lang=tgt_lang)\n",
    "    return result[0][\"translation_text\"]\n",
    "\n",
    "# Interrogative words to look for (in English, since we translate)\n",
    "INTERROGATIVES = {'who', 'what', 'when', 'where', 'why', 'how', 'which', 'whom'}\n",
    "\n",
    "def is_answerable(row, translate=True, src_lang=\"arb_Arab\"):\n",
    "    # Extract fields\n",
    "    question = str(row['question'])\n",
    "    context = str(row['context'])\n",
    "\n",
    "    # Optionally translate question/context to English\n",
    "    if translate:\n",
    "        question = translate_text(question, src_lang=src_lang, tgt_lang=\"eng_Latn\")\n",
    "        context = translate_text(context, src_lang=src_lang, tgt_lang=\"eng_Latn\")\n",
    "\n",
    "    # Lowercase for matching\n",
    "    question = question.lower()\n",
    "    context = context.lower()\n",
    "\n",
    "    # Rule 1: No word overlap\n",
    "    question_words = set(question.split())\n",
    "    context_words = set(context.split())\n",
    "    if len(question_words.intersection(context_words)) == 0:\n",
    "        return 0\n",
    "\n",
    "    # Rule 2: No interrogative words\n",
    "    if not any(word in question_words for word in INTERROGATIVES):\n",
    "        return 0\n",
    "\n",
    "    return 1\n",
    "\n",
    "# --- Apply to your dataframes ---\n",
    "train_df = df_ar_train\n",
    "val_df = df_ar_val\n",
    "\n",
    "# Apply to validation set (with translation)\n",
    "val_df['predicted'] = val_df.apply(is_answerable, axis=1)\n",
    "\n",
    "# Evaluate on validation\n",
    "print(\"Validation Results:\")\n",
    "print(classification_report(val_df['answerable'], val_df['predicted']))\n",
    "\n",
    "# Optional: Evaluate on training (uncomment if needed)\n",
    "# train_df['predicted'] = train_df.apply(is_answerable, axis=1)\n",
    "# print(\"\\nTraining Results:\")\n",
    "# print(classification_report(train_df['answerable'], train_df['predicted']))\n"
   ]
  },
  {
   "cell_type": "code",
   "execution_count": null,
   "id": "0ce759b1-7a27-42ba-b0b0-98eaf90031b9",
   "metadata": {},
   "outputs": [],
   "source": []
  }
 ],
 "metadata": {
  "kernelspec": {
   "display_name": "Python 3 (ipykernel)",
   "language": "python",
   "name": "python3"
  },
  "language_info": {
   "codemirror_mode": {
    "name": "ipython",
    "version": 3
   },
   "file_extension": ".py",
   "mimetype": "text/x-python",
   "name": "python",
   "nbconvert_exporter": "python",
   "pygments_lexer": "ipython3",
   "version": "3.10.12"
  }
 },
 "nbformat": 4,
 "nbformat_minor": 5
}
