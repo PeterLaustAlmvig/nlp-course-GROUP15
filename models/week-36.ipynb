{
 "cells": [
  {
   "cell_type": "code",
   "execution_count": null,
   "id": "d9a9a759",
   "metadata": {},
   "outputs": [],
   "source": [
    "# Load Dataset\n",
    "import pandas as pd\n",
    "\n",
    "splits = {'train': 'train.parquet', 'validation': 'validation.parquet'}\n",
    "df_train = pd.read_parquet(\"hf://datasets/coastalcph/tydi_xor_rc/\" + splits[\"train\"])\n",
    "df_val = pd.read_parquet(\"hf://datasets/coastalcph/tydi_xor_rc/\" + splits[\"validation\"])\n",
    "print(f\"Train size: {len(df_train)}, Validation size: {len(df_val)}\")"
   ]
  }
 ],
 "metadata": {
  "language_info": {
   "name": "python"
  }
 },
 "nbformat": 4,
 "nbformat_minor": 5
}
