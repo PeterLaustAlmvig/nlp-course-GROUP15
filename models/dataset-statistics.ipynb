{
 "cells": [
  {
   "cell_type": "code",
   "execution_count": null,
   "id": "409756f5",
   "metadata": {},
   "outputs": [],
   "source": [
    "!pip3 install pandas fastparquet"
   ]
  },
  {
   "cell_type": "code",
   "execution_count": 4,
   "id": "2aa0bf7b",
   "metadata": {},
   "outputs": [
    {
     "name": "stdout",
     "output_type": "stream",
     "text": [
      "Train size: 15343, Validation size: 3011\n"
     ]
    }
   ],
   "source": [
    "import pandas as pd\n",
    "\n",
    "splits = {'train': 'train.parquet', 'validation': 'validation.parquet'}\n",
    "df_train = pd.read_parquet(\"hf://datasets/coastalcph/tydi_xor_rc/\" + splits[\"train\"], engine='fastparquet')\n",
    "df_val = pd.read_parquet(\"hf://datasets/coastalcph/tydi_xor_rc/\" + splits[\"validation\"], engine='fastparquet')\n",
    "print(f\"Train size: {len(df_train)}, Validation size: {len(df_val)}\")"
   ]
  },
  {
   "cell_type": "code",
   "execution_count": 7,
   "id": "8935b6b3",
   "metadata": {},
   "outputs": [
    {
     "data": {
      "text/html": [
       "<div>\n",
       "<style scoped>\n",
       "    .dataframe tbody tr th:only-of-type {\n",
       "        vertical-align: middle;\n",
       "    }\n",
       "\n",
       "    .dataframe tbody tr th {\n",
       "        vertical-align: top;\n",
       "    }\n",
       "\n",
       "    .dataframe thead th {\n",
       "        text-align: right;\n",
       "    }\n",
       "</style>\n",
       "<table border=\"1\" class=\"dataframe\">\n",
       "  <thead>\n",
       "    <tr style=\"text-align: right;\">\n",
       "      <th></th>\n",
       "      <th>question</th>\n",
       "      <th>context</th>\n",
       "      <th>lang</th>\n",
       "      <th>answerable</th>\n",
       "      <th>answer_start</th>\n",
       "      <th>answer</th>\n",
       "      <th>answer_inlang</th>\n",
       "    </tr>\n",
       "  </thead>\n",
       "  <tbody>\n",
       "    <tr>\n",
       "      <th>0</th>\n",
       "      <td>উইকিলিকস কত সালে সর্বপ্রথম ইন্টারনেটে প্রথম তথ...</td>\n",
       "      <td>WikiLeaks () is an international non-profit or...</td>\n",
       "      <td>bn</td>\n",
       "      <td>True</td>\n",
       "      <td>182</td>\n",
       "      <td>2006</td>\n",
       "      <td>None</td>\n",
       "    </tr>\n",
       "    <tr>\n",
       "      <th>1</th>\n",
       "      <td>দ্বিতীয় বিশ্বযুদ্ধে কোন দেশ পরাজিত হয় ?</td>\n",
       "      <td>The war in Europe concluded with an invasion o...</td>\n",
       "      <td>bn</td>\n",
       "      <td>True</td>\n",
       "      <td>48</td>\n",
       "      <td>Germany</td>\n",
       "      <td>None</td>\n",
       "    </tr>\n",
       "    <tr>\n",
       "      <th>2</th>\n",
       "      <td>মার্কিন যুক্তরাষ্ট্রের সংবিধান অনুযায়ী মার্কিন...</td>\n",
       "      <td>Same-sex marriage in the United States expande...</td>\n",
       "      <td>bn</td>\n",
       "      <td>False</td>\n",
       "      <td>-1</td>\n",
       "      <td>no</td>\n",
       "      <td>None</td>\n",
       "    </tr>\n",
       "    <tr>\n",
       "      <th>3</th>\n",
       "      <td>আরব-ইসরায়েলি যুদ্ধে আরবের মোট কয়জন সৈন্যের মৃ...</td>\n",
       "      <td>The exact number of Arab casualties is unknown...</td>\n",
       "      <td>bn</td>\n",
       "      <td>True</td>\n",
       "      <td>39</td>\n",
       "      <td>unknown</td>\n",
       "      <td>None</td>\n",
       "    </tr>\n",
       "    <tr>\n",
       "      <th>4</th>\n",
       "      <td>বিশ্বে প্রথম পুঁজিবাদী সমাজ কবে গড়ে ওঠে ?</td>\n",
       "      <td>As Thomas Hall (2000) notes, \"The Sung Empire ...</td>\n",
       "      <td>bn</td>\n",
       "      <td>True</td>\n",
       "      <td>1219</td>\n",
       "      <td>17th century</td>\n",
       "      <td>None</td>\n",
       "    </tr>\n",
       "  </tbody>\n",
       "</table>\n",
       "</div>"
      ],
      "text/plain": [
       "                                            question  \\\n",
       "0  উইকিলিকস কত সালে সর্বপ্রথম ইন্টারনেটে প্রথম তথ...   \n",
       "1           দ্বিতীয় বিশ্বযুদ্ধে কোন দেশ পরাজিত হয় ?   \n",
       "2  মার্কিন যুক্তরাষ্ট্রের সংবিধান অনুযায়ী মার্কিন...   \n",
       "3  আরব-ইসরায়েলি যুদ্ধে আরবের মোট কয়জন সৈন্যের মৃ...   \n",
       "4          বিশ্বে প্রথম পুঁজিবাদী সমাজ কবে গড়ে ওঠে ?   \n",
       "\n",
       "                                             context lang  answerable  \\\n",
       "0  WikiLeaks () is an international non-profit or...   bn        True   \n",
       "1  The war in Europe concluded with an invasion o...   bn        True   \n",
       "2  Same-sex marriage in the United States expande...   bn       False   \n",
       "3  The exact number of Arab casualties is unknown...   bn        True   \n",
       "4  As Thomas Hall (2000) notes, \"The Sung Empire ...   bn        True   \n",
       "\n",
       "   answer_start        answer answer_inlang  \n",
       "0           182          2006          None  \n",
       "1            48       Germany          None  \n",
       "2            -1            no          None  \n",
       "3            39       unknown          None  \n",
       "4          1219  17th century          None  "
      ]
     },
     "execution_count": 7,
     "metadata": {},
     "output_type": "execute_result"
    }
   ],
   "source": [
    "df_train.head()"
   ]
  },
  {
   "cell_type": "code",
   "execution_count": 19,
   "id": "e2198802",
   "metadata": {},
   "outputs": [
    {
     "name": "stdout",
     "output_type": "stream",
     "text": [
      "Answerable example question:\n",
      " উইকিলিকস কত সালে সর্বপ্রথম ইন্টারনেটে প্রথম তথ্য প্রদর্শন করে ?\n",
      "Answerable example context:\n",
      " WikiLeaks () is an international non-profit organisation that publishes secret information, news leaks, and classified media provided by anonymous sources. Its website, initiated in 2006 in Iceland by the organisation Sunshine Press, claims a database of 10 million documents in 10 years since its launch. Julian Assange, an Australian Internet activist, is generally described as its founder and director. Kristinn Hrafnsson is its editor-in-chief.\n",
      "\n",
      "Non-answerable example question:\n",
      " মার্কিন যুক্তরাষ্ট্রের সংবিধান অনুযায়ী মার্কিন যুক্তরাষ্ট্রে পুরুষ সমকামী বিবাহ কি আইনত বৈধ ?\n",
      "\n",
      "Non-answerable example context:\n",
      " Same-sex marriage in the United States expanded from one state in 2004 to all fifty states in 2015 through various state court rulings, state legislation, direct popular votes, and federal court rulings. Same-sex marriage is also referred to as gay marriage, while the political status in which the marriages of same-sex couples and the marriages of opposite-sex couples are recognized as equal by the law is referred to as marriage equality. The fifty states each have separate marriage laws, which must adhere to rulings by the Supreme Court of the United States that recognize marriage as a fundamental right that is guaranteed by both the Due Process Clause and the Equal Protection Clause of the Fourteenth Amendment to the United States Constitution, as first established in the 1967 landmark civil rights case of \"Loving v. Virginia\".\n"
     ]
    }
   ],
   "source": [
    "# Print example of a answerable questions context, and a non-answerable question context\n",
    "answerable_example = df_train[df_train['answerable'] == True].iloc[0]\n",
    "non_answerable_example = df_train[df_train['answerable'] == False].iloc[0]\n",
    "print(\"Answerable example question:\\n\", answerable_example['question'])\n",
    "print(\"Answerable example context:\\n\", answerable_example['context'])\n",
    "\n",
    "print(\"\\nNon-answerable example question:\\n\", non_answerable_example['question'])\n",
    "print(\"\\nNon-answerable example context:\\n\", non_answerable_example['context'])"
   ]
  },
  {
   "cell_type": "code",
   "execution_count": 15,
   "id": "527a66c1",
   "metadata": {},
   "outputs": [
    {
     "name": "stdout",
     "output_type": "stream",
     "text": [
      "Arabic train size: 2558, validation size: 415\n",
      "Korean train size: 2422, validation size: 356\n",
      "Telugu train size: 1355, validation size: 384\n"
     ]
    }
   ],
   "source": [
    "# Split train and validation into ar, ko and te based on the lang column\n",
    "df_ar_train = df_train[df_train['lang'] == 'ar']\n",
    "df_ko_train = df_train[df_train['lang'] == 'ko']\n",
    "df_te_train = df_train[df_train['lang'] == 'te']\n",
    "\n",
    "df_ar_val = df_val[df_val['lang'] == 'ar']\n",
    "df_ko_val = df_val[df_val['lang'] == 'ko']\n",
    "df_te_val = df_val[df_val['lang'] == 'te']\n",
    "\n",
    "print(f\"Arabic train size: {len(df_ar_train)}, validation size: {len(df_ar_val)}\")\n",
    "print(f\"Korean train size: {len(df_ko_train)}, validation size: {len(df_ko_val)}\")\n",
    "print(f\"Telugu train size: {len(df_te_train)}, validation size: {len(df_te_val)}\")\n"
   ]
  },
  {
   "cell_type": "code",
   "execution_count": 16,
   "id": "8a3e445e",
   "metadata": {},
   "outputs": [
    {
     "name": "stdout",
     "output_type": "stream",
     "text": [
      "Arabic train first row:\n",
      "question                متى تدخلت روسيا في  الحرب الأهلية السورية؟\n",
      "context          The Russian military intervention in the Syria...\n",
      "lang                                                            ar\n",
      "answerable                                                    True\n",
      "answer_start                                                    67\n",
      "answer                                              September 2015\n",
      "answer_inlang                                                 None\n",
      "Name: 11213, dtype: object\n",
      "\n",
      "Korean train first row:\n",
      "question                                         30년 전쟁의 승자는 누구인가?\n",
      "context          The conflict between France and Spain continue...\n",
      "lang                                                            ko\n",
      "answerable                                                    True\n",
      "answer_start                                                    21\n",
      "answer                                                      France\n",
      "answer_inlang                                                 None\n",
      "Name: 4792, dtype: object\n",
      "\n",
      "Telugu train first row:\n",
      "question         ప్రపంచంలో  మొట్టమొదటి దూర విద్య విద్యాలయం ఏ దే...\n",
      "context          Referred to as \"People's University\" by Charle...\n",
      "lang                                                            te\n",
      "answerable                                                    True\n",
      "answer_start                                                   236\n",
      "answer                                                      London\n",
      "answer_inlang                                                 None\n",
      "Name: 13771, dtype: object\n"
     ]
    }
   ],
   "source": [
    "# Print the first row of each dataframe\n",
    "print(\"Arabic train first row:\")\n",
    "print(df_ar_train.iloc[0])\n",
    "print(\"\\nKorean train first row:\")\n",
    "print(df_ko_train.iloc[0])\n",
    "print(\"\\nTelugu train first row:\")\n",
    "print(df_te_train.iloc[0])"
   ]
  },
  {
   "cell_type": "code",
   "execution_count": 17,
   "id": "abe2b35f",
   "metadata": {},
   "outputs": [
    {
     "name": "stderr",
     "output_type": "stream",
     "text": [
      "/var/folders/rc/g6hbpj9x7fzfptshgk1vqn9m0000gp/T/ipykernel_8184/2488896649.py:2: SettingWithCopyWarning: \n",
      "A value is trying to be set on a copy of a slice from a DataFrame.\n",
      "Try using .loc[row_indexer,col_indexer] = value instead\n",
      "\n",
      "See the caveats in the documentation: https://pandas.pydata.org/pandas-docs/stable/user_guide/indexing.html#returning-a-view-versus-a-copy\n",
      "  df_ar_train['question_word_count'] = df_ar_train['question'].apply(lambda x: len(x.split()))\n",
      "/var/folders/rc/g6hbpj9x7fzfptshgk1vqn9m0000gp/T/ipykernel_8184/2488896649.py:3: SettingWithCopyWarning: \n",
      "A value is trying to be set on a copy of a slice from a DataFrame.\n",
      "Try using .loc[row_indexer,col_indexer] = value instead\n",
      "\n",
      "See the caveats in the documentation: https://pandas.pydata.org/pandas-docs/stable/user_guide/indexing.html#returning-a-view-versus-a-copy\n",
      "  df_ar_val['question_word_count'] = df_ar_val['question'].apply(lambda x: len(x.split()))\n",
      "/var/folders/rc/g6hbpj9x7fzfptshgk1vqn9m0000gp/T/ipykernel_8184/2488896649.py:5: SettingWithCopyWarning: \n",
      "A value is trying to be set on a copy of a slice from a DataFrame.\n",
      "Try using .loc[row_indexer,col_indexer] = value instead\n",
      "\n",
      "See the caveats in the documentation: https://pandas.pydata.org/pandas-docs/stable/user_guide/indexing.html#returning-a-view-versus-a-copy\n",
      "  df_ko_train['question_word_count'] = df_ko_train['question'].apply(lambda x: len(x.split()))\n",
      "/var/folders/rc/g6hbpj9x7fzfptshgk1vqn9m0000gp/T/ipykernel_8184/2488896649.py:6: SettingWithCopyWarning: \n",
      "A value is trying to be set on a copy of a slice from a DataFrame.\n",
      "Try using .loc[row_indexer,col_indexer] = value instead\n",
      "\n",
      "See the caveats in the documentation: https://pandas.pydata.org/pandas-docs/stable/user_guide/indexing.html#returning-a-view-versus-a-copy\n",
      "  df_ko_val['question_word_count'] = df_ko_val['question'].apply(lambda x: len(x.split()))\n",
      "/var/folders/rc/g6hbpj9x7fzfptshgk1vqn9m0000gp/T/ipykernel_8184/2488896649.py:8: SettingWithCopyWarning: \n",
      "A value is trying to be set on a copy of a slice from a DataFrame.\n",
      "Try using .loc[row_indexer,col_indexer] = value instead\n",
      "\n",
      "See the caveats in the documentation: https://pandas.pydata.org/pandas-docs/stable/user_guide/indexing.html#returning-a-view-versus-a-copy\n",
      "  df_te_train['question_word_count'] = df_te_train['question'].apply(lambda x: len(x.split()))\n",
      "/var/folders/rc/g6hbpj9x7fzfptshgk1vqn9m0000gp/T/ipykernel_8184/2488896649.py:9: SettingWithCopyWarning: \n",
      "A value is trying to be set on a copy of a slice from a DataFrame.\n",
      "Try using .loc[row_indexer,col_indexer] = value instead\n",
      "\n",
      "See the caveats in the documentation: https://pandas.pydata.org/pandas-docs/stable/user_guide/indexing.html#returning-a-view-versus-a-copy\n",
      "  df_te_val['question_word_count'] = df_te_val['question'].apply(lambda x: len(x.split()))\n"
     ]
    }
   ],
   "source": [
    "# Word count of the question column in the train and validation sets for each language\n",
    "df_ar_train['question_word_count'] = df_ar_train['question'].apply(lambda x: len(x.split()))\n",
    "df_ar_val['question_word_count'] = df_ar_val['question'].apply(lambda x: len(x.split()))\n",
    "\n",
    "df_ko_train['question_word_count'] = df_ko_train['question'].apply(lambda x: len(x.split()))\n",
    "df_ko_val['question_word_count'] = df_ko_val['question'].apply(lambda x: len(x.split()))\n",
    "\n",
    "df_te_train['question_word_count'] = df_te_train['question'].apply(lambda x: len(x.split()))\n",
    "df_te_val['question_word_count'] = df_te_val['question'].apply(lambda x: len(x.split()))"
   ]
  },
  {
   "cell_type": "code",
   "execution_count": null,
   "id": "c30d9737",
   "metadata": {},
   "outputs": [],
   "source": []
  }
 ],
 "metadata": {
  "kernelspec": {
   "display_name": "group-env",
   "language": "python",
   "name": "python3"
  },
  "language_info": {
   "codemirror_mode": {
    "name": "ipython",
    "version": 3
   },
   "file_extension": ".py",
   "mimetype": "text/x-python",
   "name": "python",
   "nbconvert_exporter": "python",
   "pygments_lexer": "ipython3",
   "version": "3.13.7"
  }
 },
 "nbformat": 4,
 "nbformat_minor": 5
}
